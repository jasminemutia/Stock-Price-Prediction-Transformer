{
  "cells": [
    {
      "cell_type": "markdown",
      "metadata": {
        "id": "fD-3WVcsDEbA"
      },
      "source": [
        "##**a. Praproses Data (Data Preprocessing)**"
      ]
    },
    {
      "cell_type": "markdown",
      "metadata": {
        "id": "ju5yu-Hf_ltx"
      },
      "source": [
        "### **Import Library**"
      ]
    },
    {
      "cell_type": "code",
      "execution_count": null,
      "metadata": {
        "id": "AJ97nJpPqgyQ"
      },
      "outputs": [],
      "source": [
        "import pandas as pd\n",
        "import numpy as np\n",
        "from sklearn.model_selection import train_test_split\n",
        "from google.colab import drive\n",
        "\n",
        "from numpy.random import seed\n",
        "from sklearn.preprocessing import MinMaxScaler\n",
        "import matplotlib.pyplot as plt\n",
        "from sklearn.metrics import mean_squared_error, mean_absolute_error, mean_absolute_percentage_error\n",
        "import keras.layers as layers\n",
        "from tensorflow.keras import layers, models\n",
        "import tensorflow as tf\n",
        "from keras.models import Sequential\n",
        "from tensorflow import keras\n",
        "from keras.layers import LSTM, Dense, Dropout\n",
        "import math\n",
        "\n",
        "import warnings\n",
        "warnings.filterwarnings(\"ignore\")"
      ]
    },
    {
      "cell_type": "markdown",
      "metadata": {
        "id": "quFqKd7aCcFn"
      },
      "source": [
        "###**Import Dataset**"
      ]
    },
    {
      "cell_type": "code",
      "execution_count": null,
      "metadata": {
        "id": "u_9JwDqAu-vN",
        "colab": {
          "base_uri": "https://localhost:8080/"
        },
        "outputId": "415405b6-2bbb-4da6-954f-2de364ad9a90"
      },
      "outputs": [
        {
          "output_type": "stream",
          "name": "stdout",
          "text": [
            "Drive already mounted at /content/drive; to attempt to forcibly remount, call drive.mount(\"/content/drive\", force_remount=True).\n"
          ]
        }
      ],
      "source": [
        "drive.mount('/content/drive')"
      ]
    },
    {
      "cell_type": "markdown",
      "source": [
        "###**IBM (International Business Machines Corporation) Dataset**"
      ],
      "metadata": {
        "id": "WWEj4c0b7lQA"
      }
    },
    {
      "cell_type": "code",
      "execution_count": null,
      "metadata": {
        "id": "amjQKDinwCBv",
        "colab": {
          "base_uri": "https://localhost:8080/",
          "height": 288
        },
        "outputId": "0094f431-b9c9-4c10-ff21-981e9921d2d2"
      },
      "outputs": [
        {
          "output_type": "execute_result",
          "data": {
            "text/plain": [
              "         Date      Open      High       Low     Close  Adj Close  Volume\n",
              "0  1962-01-02  7.713333  7.713333  7.626667  7.626667   0.618153  387200\n",
              "1  1962-01-03  7.626667  7.693333  7.626667  7.693333   0.623556  288000\n",
              "2  1962-01-04  7.693333  7.693333  7.613333  7.616667   0.617343  256000\n",
              "3  1962-01-05  7.606667  7.606667  7.453333  7.466667   0.605185  363200\n",
              "4  1962-01-08  7.460000  7.460000  7.266667  7.326667   0.593837  544000"
            ],
            "text/html": [
              "\n",
              "  <div id=\"df-3a657f50-db3a-401c-8fb4-164dbddb18da\">\n",
              "    <div class=\"colab-df-container\">\n",
              "      <div>\n",
              "<style scoped>\n",
              "    .dataframe tbody tr th:only-of-type {\n",
              "        vertical-align: middle;\n",
              "    }\n",
              "\n",
              "    .dataframe tbody tr th {\n",
              "        vertical-align: top;\n",
              "    }\n",
              "\n",
              "    .dataframe thead th {\n",
              "        text-align: right;\n",
              "    }\n",
              "</style>\n",
              "<table border=\"1\" class=\"dataframe\">\n",
              "  <thead>\n",
              "    <tr style=\"text-align: right;\">\n",
              "      <th></th>\n",
              "      <th>Date</th>\n",
              "      <th>Open</th>\n",
              "      <th>High</th>\n",
              "      <th>Low</th>\n",
              "      <th>Close</th>\n",
              "      <th>Adj Close</th>\n",
              "      <th>Volume</th>\n",
              "    </tr>\n",
              "  </thead>\n",
              "  <tbody>\n",
              "    <tr>\n",
              "      <th>0</th>\n",
              "      <td>1962-01-02</td>\n",
              "      <td>7.713333</td>\n",
              "      <td>7.713333</td>\n",
              "      <td>7.626667</td>\n",
              "      <td>7.626667</td>\n",
              "      <td>0.618153</td>\n",
              "      <td>387200</td>\n",
              "    </tr>\n",
              "    <tr>\n",
              "      <th>1</th>\n",
              "      <td>1962-01-03</td>\n",
              "      <td>7.626667</td>\n",
              "      <td>7.693333</td>\n",
              "      <td>7.626667</td>\n",
              "      <td>7.693333</td>\n",
              "      <td>0.623556</td>\n",
              "      <td>288000</td>\n",
              "    </tr>\n",
              "    <tr>\n",
              "      <th>2</th>\n",
              "      <td>1962-01-04</td>\n",
              "      <td>7.693333</td>\n",
              "      <td>7.693333</td>\n",
              "      <td>7.613333</td>\n",
              "      <td>7.616667</td>\n",
              "      <td>0.617343</td>\n",
              "      <td>256000</td>\n",
              "    </tr>\n",
              "    <tr>\n",
              "      <th>3</th>\n",
              "      <td>1962-01-05</td>\n",
              "      <td>7.606667</td>\n",
              "      <td>7.606667</td>\n",
              "      <td>7.453333</td>\n",
              "      <td>7.466667</td>\n",
              "      <td>0.605185</td>\n",
              "      <td>363200</td>\n",
              "    </tr>\n",
              "    <tr>\n",
              "      <th>4</th>\n",
              "      <td>1962-01-08</td>\n",
              "      <td>7.460000</td>\n",
              "      <td>7.460000</td>\n",
              "      <td>7.266667</td>\n",
              "      <td>7.326667</td>\n",
              "      <td>0.593837</td>\n",
              "      <td>544000</td>\n",
              "    </tr>\n",
              "  </tbody>\n",
              "</table>\n",
              "</div>\n",
              "      <button class=\"colab-df-convert\" onclick=\"convertToInteractive('df-3a657f50-db3a-401c-8fb4-164dbddb18da')\"\n",
              "              title=\"Convert this dataframe to an interactive table.\"\n",
              "              style=\"display:none;\">\n",
              "        \n",
              "  <svg xmlns=\"http://www.w3.org/2000/svg\" height=\"24px\"viewBox=\"0 0 24 24\"\n",
              "       width=\"24px\">\n",
              "    <path d=\"M0 0h24v24H0V0z\" fill=\"none\"/>\n",
              "    <path d=\"M18.56 5.44l.94 2.06.94-2.06 2.06-.94-2.06-.94-.94-2.06-.94 2.06-2.06.94zm-11 1L8.5 8.5l.94-2.06 2.06-.94-2.06-.94L8.5 2.5l-.94 2.06-2.06.94zm10 10l.94 2.06.94-2.06 2.06-.94-2.06-.94-.94-2.06-.94 2.06-2.06.94z\"/><path d=\"M17.41 7.96l-1.37-1.37c-.4-.4-.92-.59-1.43-.59-.52 0-1.04.2-1.43.59L10.3 9.45l-7.72 7.72c-.78.78-.78 2.05 0 2.83L4 21.41c.39.39.9.59 1.41.59.51 0 1.02-.2 1.41-.59l7.78-7.78 2.81-2.81c.8-.78.8-2.07 0-2.86zM5.41 20L4 18.59l7.72-7.72 1.47 1.35L5.41 20z\"/>\n",
              "  </svg>\n",
              "      </button>\n",
              "      \n",
              "  <style>\n",
              "    .colab-df-container {\n",
              "      display:flex;\n",
              "      flex-wrap:wrap;\n",
              "      gap: 12px;\n",
              "    }\n",
              "\n",
              "    .colab-df-convert {\n",
              "      background-color: #E8F0FE;\n",
              "      border: none;\n",
              "      border-radius: 50%;\n",
              "      cursor: pointer;\n",
              "      display: none;\n",
              "      fill: #1967D2;\n",
              "      height: 32px;\n",
              "      padding: 0 0 0 0;\n",
              "      width: 32px;\n",
              "    }\n",
              "\n",
              "    .colab-df-convert:hover {\n",
              "      background-color: #E2EBFA;\n",
              "      box-shadow: 0px 1px 2px rgba(60, 64, 67, 0.3), 0px 1px 3px 1px rgba(60, 64, 67, 0.15);\n",
              "      fill: #174EA6;\n",
              "    }\n",
              "\n",
              "    [theme=dark] .colab-df-convert {\n",
              "      background-color: #3B4455;\n",
              "      fill: #D2E3FC;\n",
              "    }\n",
              "\n",
              "    [theme=dark] .colab-df-convert:hover {\n",
              "      background-color: #434B5C;\n",
              "      box-shadow: 0px 1px 3px 1px rgba(0, 0, 0, 0.15);\n",
              "      filter: drop-shadow(0px 1px 2px rgba(0, 0, 0, 0.3));\n",
              "      fill: #FFFFFF;\n",
              "    }\n",
              "  </style>\n",
              "\n",
              "      <script>\n",
              "        const buttonEl =\n",
              "          document.querySelector('#df-3a657f50-db3a-401c-8fb4-164dbddb18da button.colab-df-convert');\n",
              "        buttonEl.style.display =\n",
              "          google.colab.kernel.accessAllowed ? 'block' : 'none';\n",
              "\n",
              "        async function convertToInteractive(key) {\n",
              "          const element = document.querySelector('#df-3a657f50-db3a-401c-8fb4-164dbddb18da');\n",
              "          const dataTable =\n",
              "            await google.colab.kernel.invokeFunction('convertToInteractive',\n",
              "                                                     [key], {});\n",
              "          if (!dataTable) return;\n",
              "\n",
              "          const docLinkHtml = 'Like what you see? Visit the ' +\n",
              "            '<a target=\"_blank\" href=https://colab.research.google.com/notebooks/data_table.ipynb>data table notebook</a>'\n",
              "            + ' to learn more about interactive tables.';\n",
              "          element.innerHTML = '';\n",
              "          dataTable['output_type'] = 'display_data';\n",
              "          await google.colab.output.renderOutput(dataTable, element);\n",
              "          const docLink = document.createElement('div');\n",
              "          docLink.innerHTML = docLinkHtml;\n",
              "          element.appendChild(docLink);\n",
              "        }\n",
              "      </script>\n",
              "    </div>\n",
              "  </div>\n",
              "  "
            ]
          },
          "metadata": {},
          "execution_count": 3
        }
      ],
      "source": [
        "dataIBM = pd.read_csv('/content/drive/MyDrive/IBM.csv')\n",
        "dataIBM.head()"
      ]
    },
    {
      "cell_type": "code",
      "execution_count": null,
      "metadata": {
        "id": "3DCgsjxHDZbN",
        "colab": {
          "base_uri": "https://localhost:8080/"
        },
        "outputId": "8d2cd105-6983-4bc1-d563-59a0d3b91b87"
      },
      "outputs": [
        {
          "output_type": "stream",
          "name": "stdout",
          "text": [
            "<class 'pandas.core.frame.DataFrame'>\n",
            "RangeIndex: 14663 entries, 0 to 14662\n",
            "Data columns (total 7 columns):\n",
            " #   Column     Non-Null Count  Dtype  \n",
            "---  ------     --------------  -----  \n",
            " 0   Date       14663 non-null  object \n",
            " 1   Open       14663 non-null  float64\n",
            " 2   High       14663 non-null  float64\n",
            " 3   Low        14663 non-null  float64\n",
            " 4   Close      14663 non-null  float64\n",
            " 5   Adj Close  14663 non-null  float64\n",
            " 6   Volume     14663 non-null  int64  \n",
            "dtypes: float64(5), int64(1), object(1)\n",
            "memory usage: 802.0+ KB\n"
          ]
        }
      ],
      "source": [
        "dataIBM.info()"
      ]
    },
    {
      "cell_type": "code",
      "execution_count": null,
      "metadata": {
        "id": "0a9ycKSC_EQs",
        "colab": {
          "base_uri": "https://localhost:8080/"
        },
        "outputId": "9b8359f3-646d-4331-be4b-68638a02633a"
      },
      "outputs": [
        {
          "output_type": "stream",
          "name": "stdout",
          "text": [
            "Jumlah baris dalam data IBM:  14663\n",
            "Jumlah kolom dalam data IBM:  7\n"
          ]
        }
      ],
      "source": [
        "row, col = dataIBM.shape\n",
        "print(\"Jumlah baris dalam data IBM: \", row)\n",
        "print(\"Jumlah kolom dalam data IBM: \", col)"
      ]
    },
    {
      "cell_type": "markdown",
      "source": [
        "Data IBM terdiri dari 14663 baris dan 7 kolom."
      ],
      "metadata": {
        "id": "4qg4T0Ubjfca"
      }
    },
    {
      "cell_type": "markdown",
      "source": [
        "###**Checking Missing Value and Duplicated Data**"
      ],
      "metadata": {
        "id": "ekeVwM86hdpS"
      }
    },
    {
      "cell_type": "code",
      "execution_count": null,
      "metadata": {
        "id": "xs3ZN-IjEhcf",
        "colab": {
          "base_uri": "https://localhost:8080/"
        },
        "outputId": "848425f3-c569-497e-84d0-c4e46a990ecf"
      },
      "outputs": [
        {
          "output_type": "stream",
          "name": "stdout",
          "text": [
            "Missing Value on IBM dataset : \n",
            "Date         0\n",
            "Open         0\n",
            "High         0\n",
            "Low          0\n",
            "Close        0\n",
            "Adj Close    0\n",
            "Volume       0\n",
            "dtype: int64\n"
          ]
        },
        {
          "output_type": "execute_result",
          "data": {
            "text/plain": [
              "(14663, 7)"
            ]
          },
          "metadata": {},
          "execution_count": 6
        }
      ],
      "source": [
        "print('Missing Value on IBM dataset : ')\n",
        "print(dataIBM.isna().sum())\n",
        "dataIBM.shape"
      ]
    },
    {
      "cell_type": "markdown",
      "source": [
        "Setelah melakukan pengecekan, output 0 dari tiap variable diatas menunjukkan tidak adanya missing value dari semua variable dalam dataset IBM."
      ],
      "metadata": {
        "id": "nitUkgjsj-uL"
      }
    },
    {
      "cell_type": "code",
      "execution_count": null,
      "metadata": {
        "id": "fio0RB2sO0JX",
        "colab": {
          "base_uri": "https://localhost:8080/"
        },
        "outputId": "7422f929-851c-40f4-d28c-d60174cca1a2"
      },
      "outputs": [
        {
          "output_type": "stream",
          "name": "stdout",
          "text": [
            "Duplicated Data on IBM dataset : \n",
            "(14663, 7)\n",
            "(0, 7)\n"
          ]
        }
      ],
      "source": [
        "print('Duplicated Data on IBM dataset : ')\n",
        "print(dataIBM.shape)\n",
        "print(dataIBM[dataIBM.duplicated()].shape)"
      ]
    },
    {
      "cell_type": "markdown",
      "source": [
        "\n",
        "*   dataIBM mempunyai 14663 baris dan 7 kolom data.\n",
        "*   Setelah dicheck dengan duplicated() method ternyata tidak ada data yang terduplikasi.\n",
        "\n"
      ],
      "metadata": {
        "id": "lp_p6kaklInl"
      }
    },
    {
      "cell_type": "markdown",
      "source": [
        "###**Convert Date Column**"
      ],
      "metadata": {
        "id": "OHO3G3hygjzy"
      }
    },
    {
      "cell_type": "code",
      "execution_count": null,
      "metadata": {
        "id": "AhyWzyYUNppm",
        "colab": {
          "base_uri": "https://localhost:8080/",
          "height": 319
        },
        "outputId": "770a3bf9-ec87-436c-f510-60db8b7e8512"
      },
      "outputs": [
        {
          "output_type": "execute_result",
          "data": {
            "text/plain": [
              "                Open      High       Low     Close  Adj Close  Volume\n",
              "Date                                                                 \n",
              "1962-01-02  7.713333  7.713333  7.626667  7.626667   0.618153  387200\n",
              "1962-01-03  7.626667  7.693333  7.626667  7.693333   0.623556  288000\n",
              "1962-01-04  7.693333  7.693333  7.613333  7.616667   0.617343  256000\n",
              "1962-01-05  7.606667  7.606667  7.453333  7.466667   0.605185  363200\n",
              "1962-01-08  7.460000  7.460000  7.266667  7.326667   0.593837  544000"
            ],
            "text/html": [
              "\n",
              "  <div id=\"df-2f70767b-423a-4224-9515-39b45c364442\">\n",
              "    <div class=\"colab-df-container\">\n",
              "      <div>\n",
              "<style scoped>\n",
              "    .dataframe tbody tr th:only-of-type {\n",
              "        vertical-align: middle;\n",
              "    }\n",
              "\n",
              "    .dataframe tbody tr th {\n",
              "        vertical-align: top;\n",
              "    }\n",
              "\n",
              "    .dataframe thead th {\n",
              "        text-align: right;\n",
              "    }\n",
              "</style>\n",
              "<table border=\"1\" class=\"dataframe\">\n",
              "  <thead>\n",
              "    <tr style=\"text-align: right;\">\n",
              "      <th></th>\n",
              "      <th>Open</th>\n",
              "      <th>High</th>\n",
              "      <th>Low</th>\n",
              "      <th>Close</th>\n",
              "      <th>Adj Close</th>\n",
              "      <th>Volume</th>\n",
              "    </tr>\n",
              "    <tr>\n",
              "      <th>Date</th>\n",
              "      <th></th>\n",
              "      <th></th>\n",
              "      <th></th>\n",
              "      <th></th>\n",
              "      <th></th>\n",
              "      <th></th>\n",
              "    </tr>\n",
              "  </thead>\n",
              "  <tbody>\n",
              "    <tr>\n",
              "      <th>1962-01-02</th>\n",
              "      <td>7.713333</td>\n",
              "      <td>7.713333</td>\n",
              "      <td>7.626667</td>\n",
              "      <td>7.626667</td>\n",
              "      <td>0.618153</td>\n",
              "      <td>387200</td>\n",
              "    </tr>\n",
              "    <tr>\n",
              "      <th>1962-01-03</th>\n",
              "      <td>7.626667</td>\n",
              "      <td>7.693333</td>\n",
              "      <td>7.626667</td>\n",
              "      <td>7.693333</td>\n",
              "      <td>0.623556</td>\n",
              "      <td>288000</td>\n",
              "    </tr>\n",
              "    <tr>\n",
              "      <th>1962-01-04</th>\n",
              "      <td>7.693333</td>\n",
              "      <td>7.693333</td>\n",
              "      <td>7.613333</td>\n",
              "      <td>7.616667</td>\n",
              "      <td>0.617343</td>\n",
              "      <td>256000</td>\n",
              "    </tr>\n",
              "    <tr>\n",
              "      <th>1962-01-05</th>\n",
              "      <td>7.606667</td>\n",
              "      <td>7.606667</td>\n",
              "      <td>7.453333</td>\n",
              "      <td>7.466667</td>\n",
              "      <td>0.605185</td>\n",
              "      <td>363200</td>\n",
              "    </tr>\n",
              "    <tr>\n",
              "      <th>1962-01-08</th>\n",
              "      <td>7.460000</td>\n",
              "      <td>7.460000</td>\n",
              "      <td>7.266667</td>\n",
              "      <td>7.326667</td>\n",
              "      <td>0.593837</td>\n",
              "      <td>544000</td>\n",
              "    </tr>\n",
              "  </tbody>\n",
              "</table>\n",
              "</div>\n",
              "      <button class=\"colab-df-convert\" onclick=\"convertToInteractive('df-2f70767b-423a-4224-9515-39b45c364442')\"\n",
              "              title=\"Convert this dataframe to an interactive table.\"\n",
              "              style=\"display:none;\">\n",
              "        \n",
              "  <svg xmlns=\"http://www.w3.org/2000/svg\" height=\"24px\"viewBox=\"0 0 24 24\"\n",
              "       width=\"24px\">\n",
              "    <path d=\"M0 0h24v24H0V0z\" fill=\"none\"/>\n",
              "    <path d=\"M18.56 5.44l.94 2.06.94-2.06 2.06-.94-2.06-.94-.94-2.06-.94 2.06-2.06.94zm-11 1L8.5 8.5l.94-2.06 2.06-.94-2.06-.94L8.5 2.5l-.94 2.06-2.06.94zm10 10l.94 2.06.94-2.06 2.06-.94-2.06-.94-.94-2.06-.94 2.06-2.06.94z\"/><path d=\"M17.41 7.96l-1.37-1.37c-.4-.4-.92-.59-1.43-.59-.52 0-1.04.2-1.43.59L10.3 9.45l-7.72 7.72c-.78.78-.78 2.05 0 2.83L4 21.41c.39.39.9.59 1.41.59.51 0 1.02-.2 1.41-.59l7.78-7.78 2.81-2.81c.8-.78.8-2.07 0-2.86zM5.41 20L4 18.59l7.72-7.72 1.47 1.35L5.41 20z\"/>\n",
              "  </svg>\n",
              "      </button>\n",
              "      \n",
              "  <style>\n",
              "    .colab-df-container {\n",
              "      display:flex;\n",
              "      flex-wrap:wrap;\n",
              "      gap: 12px;\n",
              "    }\n",
              "\n",
              "    .colab-df-convert {\n",
              "      background-color: #E8F0FE;\n",
              "      border: none;\n",
              "      border-radius: 50%;\n",
              "      cursor: pointer;\n",
              "      display: none;\n",
              "      fill: #1967D2;\n",
              "      height: 32px;\n",
              "      padding: 0 0 0 0;\n",
              "      width: 32px;\n",
              "    }\n",
              "\n",
              "    .colab-df-convert:hover {\n",
              "      background-color: #E2EBFA;\n",
              "      box-shadow: 0px 1px 2px rgba(60, 64, 67, 0.3), 0px 1px 3px 1px rgba(60, 64, 67, 0.15);\n",
              "      fill: #174EA6;\n",
              "    }\n",
              "\n",
              "    [theme=dark] .colab-df-convert {\n",
              "      background-color: #3B4455;\n",
              "      fill: #D2E3FC;\n",
              "    }\n",
              "\n",
              "    [theme=dark] .colab-df-convert:hover {\n",
              "      background-color: #434B5C;\n",
              "      box-shadow: 0px 1px 3px 1px rgba(0, 0, 0, 0.15);\n",
              "      filter: drop-shadow(0px 1px 2px rgba(0, 0, 0, 0.3));\n",
              "      fill: #FFFFFF;\n",
              "    }\n",
              "  </style>\n",
              "\n",
              "      <script>\n",
              "        const buttonEl =\n",
              "          document.querySelector('#df-2f70767b-423a-4224-9515-39b45c364442 button.colab-df-convert');\n",
              "        buttonEl.style.display =\n",
              "          google.colab.kernel.accessAllowed ? 'block' : 'none';\n",
              "\n",
              "        async function convertToInteractive(key) {\n",
              "          const element = document.querySelector('#df-2f70767b-423a-4224-9515-39b45c364442');\n",
              "          const dataTable =\n",
              "            await google.colab.kernel.invokeFunction('convertToInteractive',\n",
              "                                                     [key], {});\n",
              "          if (!dataTable) return;\n",
              "\n",
              "          const docLinkHtml = 'Like what you see? Visit the ' +\n",
              "            '<a target=\"_blank\" href=https://colab.research.google.com/notebooks/data_table.ipynb>data table notebook</a>'\n",
              "            + ' to learn more about interactive tables.';\n",
              "          element.innerHTML = '';\n",
              "          dataTable['output_type'] = 'display_data';\n",
              "          await google.colab.output.renderOutput(dataTable, element);\n",
              "          const docLink = document.createElement('div');\n",
              "          docLink.innerHTML = docLinkHtml;\n",
              "          element.appendChild(docLink);\n",
              "        }\n",
              "      </script>\n",
              "    </div>\n",
              "  </div>\n",
              "  "
            ]
          },
          "metadata": {},
          "execution_count": 8
        }
      ],
      "source": [
        "dataIBM[\"Date\"] = pd.to_datetime(dataIBM[\"Date\"])  # Convert \"Date\" column to datetime format\n",
        "dataIBM.set_index(\"Date\", inplace=True)  # Set \"Date\" column as index\n",
        "dataIBM.head()"
      ]
    },
    {
      "cell_type": "markdown",
      "source": [
        "*   Mengubah kolom `Date` dalam dataframe menjadi tipe data datetime untuk memudahkan proses pengolahan data selanjutnya.\n",
        "*   Menjadikan kolom `Date` yang sudah diubah sebagai index dalam dataframe.\n",
        "\n"
      ],
      "metadata": {
        "id": "qzv4iJXap261"
      }
    },
    {
      "cell_type": "code",
      "execution_count": null,
      "metadata": {
        "id": "LhXSzify_gvk",
        "colab": {
          "base_uri": "https://localhost:8080/"
        },
        "outputId": "475b37eb-6d87-4131-cb82-b084125549e6"
      },
      "outputs": [
        {
          "output_type": "stream",
          "name": "stdout",
          "text": [
            "<class 'pandas.core.frame.DataFrame'>\n",
            "DatetimeIndex: 14663 entries, 1962-01-02 to 2020-04-01\n",
            "Data columns (total 6 columns):\n",
            " #   Column     Non-Null Count  Dtype  \n",
            "---  ------     --------------  -----  \n",
            " 0   Open       14663 non-null  float64\n",
            " 1   High       14663 non-null  float64\n",
            " 2   Low        14663 non-null  float64\n",
            " 3   Close      14663 non-null  float64\n",
            " 4   Adj Close  14663 non-null  float64\n",
            " 5   Volume     14663 non-null  int64  \n",
            "dtypes: float64(5), int64(1)\n",
            "memory usage: 801.9 KB\n"
          ]
        }
      ],
      "source": [
        " dataIBM.info()"
      ]
    },
    {
      "cell_type": "markdown",
      "source": [
        "Setiap kolom pada dataset memiliki 14663 data dengan tipe data yang ada yaitu float dan integer."
      ],
      "metadata": {
        "id": "JYBpGaxeqd_i"
      }
    },
    {
      "cell_type": "markdown",
      "source": [
        "###**Using `Date` and `Close` Column**"
      ],
      "metadata": {
        "id": "ya_fS5syrS7S"
      }
    },
    {
      "cell_type": "code",
      "execution_count": null,
      "metadata": {
        "id": "-YtSrTrXOd1t",
        "colab": {
          "base_uri": "https://localhost:8080/",
          "height": 302
        },
        "outputId": "ff5c5c9e-9765-413b-ddcd-c7a5b6a32847"
      },
      "outputs": [
        {
          "output_type": "execute_result",
          "data": {
            "text/plain": [
              "               Price\n",
              "Date                \n",
              "1962-01-02  7.626667\n",
              "1962-01-03  7.693333\n",
              "1962-01-04  7.616667\n",
              "1962-01-05  7.466667\n",
              "1962-01-08  7.326667"
            ],
            "text/html": [
              "\n",
              "  <div id=\"df-41270e77-176a-4779-b76e-20449c6ffcab\">\n",
              "    <div class=\"colab-df-container\">\n",
              "      <div>\n",
              "<style scoped>\n",
              "    .dataframe tbody tr th:only-of-type {\n",
              "        vertical-align: middle;\n",
              "    }\n",
              "\n",
              "    .dataframe tbody tr th {\n",
              "        vertical-align: top;\n",
              "    }\n",
              "\n",
              "    .dataframe thead th {\n",
              "        text-align: right;\n",
              "    }\n",
              "</style>\n",
              "<table border=\"1\" class=\"dataframe\">\n",
              "  <thead>\n",
              "    <tr style=\"text-align: right;\">\n",
              "      <th></th>\n",
              "      <th>Price</th>\n",
              "    </tr>\n",
              "    <tr>\n",
              "      <th>Date</th>\n",
              "      <th></th>\n",
              "    </tr>\n",
              "  </thead>\n",
              "  <tbody>\n",
              "    <tr>\n",
              "      <th>1962-01-02</th>\n",
              "      <td>7.626667</td>\n",
              "    </tr>\n",
              "    <tr>\n",
              "      <th>1962-01-03</th>\n",
              "      <td>7.693333</td>\n",
              "    </tr>\n",
              "    <tr>\n",
              "      <th>1962-01-04</th>\n",
              "      <td>7.616667</td>\n",
              "    </tr>\n",
              "    <tr>\n",
              "      <th>1962-01-05</th>\n",
              "      <td>7.466667</td>\n",
              "    </tr>\n",
              "    <tr>\n",
              "      <th>1962-01-08</th>\n",
              "      <td>7.326667</td>\n",
              "    </tr>\n",
              "  </tbody>\n",
              "</table>\n",
              "</div>\n",
              "      <button class=\"colab-df-convert\" onclick=\"convertToInteractive('df-41270e77-176a-4779-b76e-20449c6ffcab')\"\n",
              "              title=\"Convert this dataframe to an interactive table.\"\n",
              "              style=\"display:none;\">\n",
              "        \n",
              "  <svg xmlns=\"http://www.w3.org/2000/svg\" height=\"24px\"viewBox=\"0 0 24 24\"\n",
              "       width=\"24px\">\n",
              "    <path d=\"M0 0h24v24H0V0z\" fill=\"none\"/>\n",
              "    <path d=\"M18.56 5.44l.94 2.06.94-2.06 2.06-.94-2.06-.94-.94-2.06-.94 2.06-2.06.94zm-11 1L8.5 8.5l.94-2.06 2.06-.94-2.06-.94L8.5 2.5l-.94 2.06-2.06.94zm10 10l.94 2.06.94-2.06 2.06-.94-2.06-.94-.94-2.06-.94 2.06-2.06.94z\"/><path d=\"M17.41 7.96l-1.37-1.37c-.4-.4-.92-.59-1.43-.59-.52 0-1.04.2-1.43.59L10.3 9.45l-7.72 7.72c-.78.78-.78 2.05 0 2.83L4 21.41c.39.39.9.59 1.41.59.51 0 1.02-.2 1.41-.59l7.78-7.78 2.81-2.81c.8-.78.8-2.07 0-2.86zM5.41 20L4 18.59l7.72-7.72 1.47 1.35L5.41 20z\"/>\n",
              "  </svg>\n",
              "      </button>\n",
              "      \n",
              "  <style>\n",
              "    .colab-df-container {\n",
              "      display:flex;\n",
              "      flex-wrap:wrap;\n",
              "      gap: 12px;\n",
              "    }\n",
              "\n",
              "    .colab-df-convert {\n",
              "      background-color: #E8F0FE;\n",
              "      border: none;\n",
              "      border-radius: 50%;\n",
              "      cursor: pointer;\n",
              "      display: none;\n",
              "      fill: #1967D2;\n",
              "      height: 32px;\n",
              "      padding: 0 0 0 0;\n",
              "      width: 32px;\n",
              "    }\n",
              "\n",
              "    .colab-df-convert:hover {\n",
              "      background-color: #E2EBFA;\n",
              "      box-shadow: 0px 1px 2px rgba(60, 64, 67, 0.3), 0px 1px 3px 1px rgba(60, 64, 67, 0.15);\n",
              "      fill: #174EA6;\n",
              "    }\n",
              "\n",
              "    [theme=dark] .colab-df-convert {\n",
              "      background-color: #3B4455;\n",
              "      fill: #D2E3FC;\n",
              "    }\n",
              "\n",
              "    [theme=dark] .colab-df-convert:hover {\n",
              "      background-color: #434B5C;\n",
              "      box-shadow: 0px 1px 3px 1px rgba(0, 0, 0, 0.15);\n",
              "      filter: drop-shadow(0px 1px 2px rgba(0, 0, 0, 0.3));\n",
              "      fill: #FFFFFF;\n",
              "    }\n",
              "  </style>\n",
              "\n",
              "      <script>\n",
              "        const buttonEl =\n",
              "          document.querySelector('#df-41270e77-176a-4779-b76e-20449c6ffcab button.colab-df-convert');\n",
              "        buttonEl.style.display =\n",
              "          google.colab.kernel.accessAllowed ? 'block' : 'none';\n",
              "\n",
              "        async function convertToInteractive(key) {\n",
              "          const element = document.querySelector('#df-41270e77-176a-4779-b76e-20449c6ffcab');\n",
              "          const dataTable =\n",
              "            await google.colab.kernel.invokeFunction('convertToInteractive',\n",
              "                                                     [key], {});\n",
              "          if (!dataTable) return;\n",
              "\n",
              "          const docLinkHtml = 'Like what you see? Visit the ' +\n",
              "            '<a target=\"_blank\" href=https://colab.research.google.com/notebooks/data_table.ipynb>data table notebook</a>'\n",
              "            + ' to learn more about interactive tables.';\n",
              "          element.innerHTML = '';\n",
              "          dataTable['output_type'] = 'display_data';\n",
              "          await google.colab.output.renderOutput(dataTable, element);\n",
              "          const docLink = document.createElement('div');\n",
              "          docLink.innerHTML = docLinkHtml;\n",
              "          element.appendChild(docLink);\n",
              "        }\n",
              "      </script>\n",
              "    </div>\n",
              "  </div>\n",
              "  "
            ]
          },
          "metadata": {},
          "execution_count": 10
        }
      ],
      "source": [
        "IBM_price = pd.DataFrame(dataIBM['Close']).rename(columns={'Close':'Price'})\n",
        "IBM_price.head()"
      ]
    },
    {
      "cell_type": "markdown",
      "source": [
        "*   Membuat dataframe baru \"IBM_price\" yang hanya menggunakan kolom `Date` dan `Close`\n",
        "*   Mengubah nama kolom `Close` menjadi `Price` dan menampilkan isi data teratas dari dataframe terbaru\n",
        "\n"
      ],
      "metadata": {
        "id": "wvOWVnDJrlti"
      }
    },
    {
      "cell_type": "code",
      "execution_count": null,
      "metadata": {
        "id": "12q_dsP8XI8o",
        "colab": {
          "base_uri": "https://localhost:8080/",
          "height": 239
        },
        "outputId": "8cfdd2b1-3948-41f9-dce3-219e5c16dfed"
      },
      "outputs": [
        {
          "output_type": "execute_result",
          "data": {
            "text/plain": [
              "                 Price\n",
              "Date                  \n",
              "2020-03-30  112.930000\n",
              "2020-03-31  110.930000\n",
              "2020-04-01  105.139999"
            ],
            "text/html": [
              "\n",
              "  <div id=\"df-8a2d36f4-8347-4b0c-98b5-eadc10aada14\">\n",
              "    <div class=\"colab-df-container\">\n",
              "      <div>\n",
              "<style scoped>\n",
              "    .dataframe tbody tr th:only-of-type {\n",
              "        vertical-align: middle;\n",
              "    }\n",
              "\n",
              "    .dataframe tbody tr th {\n",
              "        vertical-align: top;\n",
              "    }\n",
              "\n",
              "    .dataframe thead th {\n",
              "        text-align: right;\n",
              "    }\n",
              "</style>\n",
              "<table border=\"1\" class=\"dataframe\">\n",
              "  <thead>\n",
              "    <tr style=\"text-align: right;\">\n",
              "      <th></th>\n",
              "      <th>Price</th>\n",
              "    </tr>\n",
              "    <tr>\n",
              "      <th>Date</th>\n",
              "      <th></th>\n",
              "    </tr>\n",
              "  </thead>\n",
              "  <tbody>\n",
              "    <tr>\n",
              "      <th>2020-03-30</th>\n",
              "      <td>112.930000</td>\n",
              "    </tr>\n",
              "    <tr>\n",
              "      <th>2020-03-31</th>\n",
              "      <td>110.930000</td>\n",
              "    </tr>\n",
              "    <tr>\n",
              "      <th>2020-04-01</th>\n",
              "      <td>105.139999</td>\n",
              "    </tr>\n",
              "  </tbody>\n",
              "</table>\n",
              "</div>\n",
              "      <button class=\"colab-df-convert\" onclick=\"convertToInteractive('df-8a2d36f4-8347-4b0c-98b5-eadc10aada14')\"\n",
              "              title=\"Convert this dataframe to an interactive table.\"\n",
              "              style=\"display:none;\">\n",
              "        \n",
              "  <svg xmlns=\"http://www.w3.org/2000/svg\" height=\"24px\"viewBox=\"0 0 24 24\"\n",
              "       width=\"24px\">\n",
              "    <path d=\"M0 0h24v24H0V0z\" fill=\"none\"/>\n",
              "    <path d=\"M18.56 5.44l.94 2.06.94-2.06 2.06-.94-2.06-.94-.94-2.06-.94 2.06-2.06.94zm-11 1L8.5 8.5l.94-2.06 2.06-.94-2.06-.94L8.5 2.5l-.94 2.06-2.06.94zm10 10l.94 2.06.94-2.06 2.06-.94-2.06-.94-.94-2.06-.94 2.06-2.06.94z\"/><path d=\"M17.41 7.96l-1.37-1.37c-.4-.4-.92-.59-1.43-.59-.52 0-1.04.2-1.43.59L10.3 9.45l-7.72 7.72c-.78.78-.78 2.05 0 2.83L4 21.41c.39.39.9.59 1.41.59.51 0 1.02-.2 1.41-.59l7.78-7.78 2.81-2.81c.8-.78.8-2.07 0-2.86zM5.41 20L4 18.59l7.72-7.72 1.47 1.35L5.41 20z\"/>\n",
              "  </svg>\n",
              "      </button>\n",
              "      \n",
              "  <style>\n",
              "    .colab-df-container {\n",
              "      display:flex;\n",
              "      flex-wrap:wrap;\n",
              "      gap: 12px;\n",
              "    }\n",
              "\n",
              "    .colab-df-convert {\n",
              "      background-color: #E8F0FE;\n",
              "      border: none;\n",
              "      border-radius: 50%;\n",
              "      cursor: pointer;\n",
              "      display: none;\n",
              "      fill: #1967D2;\n",
              "      height: 32px;\n",
              "      padding: 0 0 0 0;\n",
              "      width: 32px;\n",
              "    }\n",
              "\n",
              "    .colab-df-convert:hover {\n",
              "      background-color: #E2EBFA;\n",
              "      box-shadow: 0px 1px 2px rgba(60, 64, 67, 0.3), 0px 1px 3px 1px rgba(60, 64, 67, 0.15);\n",
              "      fill: #174EA6;\n",
              "    }\n",
              "\n",
              "    [theme=dark] .colab-df-convert {\n",
              "      background-color: #3B4455;\n",
              "      fill: #D2E3FC;\n",
              "    }\n",
              "\n",
              "    [theme=dark] .colab-df-convert:hover {\n",
              "      background-color: #434B5C;\n",
              "      box-shadow: 0px 1px 3px 1px rgba(0, 0, 0, 0.15);\n",
              "      filter: drop-shadow(0px 1px 2px rgba(0, 0, 0, 0.3));\n",
              "      fill: #FFFFFF;\n",
              "    }\n",
              "  </style>\n",
              "\n",
              "      <script>\n",
              "        const buttonEl =\n",
              "          document.querySelector('#df-8a2d36f4-8347-4b0c-98b5-eadc10aada14 button.colab-df-convert');\n",
              "        buttonEl.style.display =\n",
              "          google.colab.kernel.accessAllowed ? 'block' : 'none';\n",
              "\n",
              "        async function convertToInteractive(key) {\n",
              "          const element = document.querySelector('#df-8a2d36f4-8347-4b0c-98b5-eadc10aada14');\n",
              "          const dataTable =\n",
              "            await google.colab.kernel.invokeFunction('convertToInteractive',\n",
              "                                                     [key], {});\n",
              "          if (!dataTable) return;\n",
              "\n",
              "          const docLinkHtml = 'Like what you see? Visit the ' +\n",
              "            '<a target=\"_blank\" href=https://colab.research.google.com/notebooks/data_table.ipynb>data table notebook</a>'\n",
              "            + ' to learn more about interactive tables.';\n",
              "          element.innerHTML = '';\n",
              "          dataTable['output_type'] = 'display_data';\n",
              "          await google.colab.output.renderOutput(dataTable, element);\n",
              "          const docLink = document.createElement('div');\n",
              "          docLink.innerHTML = docLinkHtml;\n",
              "          element.appendChild(docLink);\n",
              "        }\n",
              "      </script>\n",
              "    </div>\n",
              "  </div>\n",
              "  "
            ]
          },
          "metadata": {},
          "execution_count": 11
        }
      ],
      "source": [
        "IBM_price.tail(3)"
      ]
    },
    {
      "cell_type": "markdown",
      "metadata": {
        "id": "po2CfN5SN_gD"
      },
      "source": [
        "###**Creating Train, Test, and Validation Set for IBM Dataset**\n"
      ]
    },
    {
      "cell_type": "code",
      "source": [
        "stockIBM = IBM_price.copy()"
      ],
      "metadata": {
        "id": "p8Wc1-iu66LP"
      },
      "execution_count": null,
      "outputs": []
    },
    {
      "cell_type": "code",
      "source": [
        "stockIBM"
      ],
      "metadata": {
        "colab": {
          "base_uri": "https://localhost:8080/",
          "height": 519
        },
        "id": "VVvRXn1y_F5p",
        "outputId": "075eab37-66f7-4855-ecb0-b55156cb2832"
      },
      "execution_count": null,
      "outputs": [
        {
          "output_type": "execute_result",
          "data": {
            "text/plain": [
              "                 Price\n",
              "Date                  \n",
              "1962-01-02    7.626667\n",
              "1962-01-03    7.693333\n",
              "1962-01-04    7.616667\n",
              "1962-01-05    7.466667\n",
              "1962-01-08    7.326667\n",
              "...                ...\n",
              "2020-03-26  112.889999\n",
              "2020-03-27  108.029999\n",
              "2020-03-30  112.930000\n",
              "2020-03-31  110.930000\n",
              "2020-04-01  105.139999\n",
              "\n",
              "[14663 rows x 1 columns]"
            ],
            "text/html": [
              "\n",
              "  <div id=\"df-2be7923b-159c-4574-b952-db44bc337b2e\">\n",
              "    <div class=\"colab-df-container\">\n",
              "      <div>\n",
              "<style scoped>\n",
              "    .dataframe tbody tr th:only-of-type {\n",
              "        vertical-align: middle;\n",
              "    }\n",
              "\n",
              "    .dataframe tbody tr th {\n",
              "        vertical-align: top;\n",
              "    }\n",
              "\n",
              "    .dataframe thead th {\n",
              "        text-align: right;\n",
              "    }\n",
              "</style>\n",
              "<table border=\"1\" class=\"dataframe\">\n",
              "  <thead>\n",
              "    <tr style=\"text-align: right;\">\n",
              "      <th></th>\n",
              "      <th>Price</th>\n",
              "    </tr>\n",
              "    <tr>\n",
              "      <th>Date</th>\n",
              "      <th></th>\n",
              "    </tr>\n",
              "  </thead>\n",
              "  <tbody>\n",
              "    <tr>\n",
              "      <th>1962-01-02</th>\n",
              "      <td>7.626667</td>\n",
              "    </tr>\n",
              "    <tr>\n",
              "      <th>1962-01-03</th>\n",
              "      <td>7.693333</td>\n",
              "    </tr>\n",
              "    <tr>\n",
              "      <th>1962-01-04</th>\n",
              "      <td>7.616667</td>\n",
              "    </tr>\n",
              "    <tr>\n",
              "      <th>1962-01-05</th>\n",
              "      <td>7.466667</td>\n",
              "    </tr>\n",
              "    <tr>\n",
              "      <th>1962-01-08</th>\n",
              "      <td>7.326667</td>\n",
              "    </tr>\n",
              "    <tr>\n",
              "      <th>...</th>\n",
              "      <td>...</td>\n",
              "    </tr>\n",
              "    <tr>\n",
              "      <th>2020-03-26</th>\n",
              "      <td>112.889999</td>\n",
              "    </tr>\n",
              "    <tr>\n",
              "      <th>2020-03-27</th>\n",
              "      <td>108.029999</td>\n",
              "    </tr>\n",
              "    <tr>\n",
              "      <th>2020-03-30</th>\n",
              "      <td>112.930000</td>\n",
              "    </tr>\n",
              "    <tr>\n",
              "      <th>2020-03-31</th>\n",
              "      <td>110.930000</td>\n",
              "    </tr>\n",
              "    <tr>\n",
              "      <th>2020-04-01</th>\n",
              "      <td>105.139999</td>\n",
              "    </tr>\n",
              "  </tbody>\n",
              "</table>\n",
              "<p>14663 rows × 1 columns</p>\n",
              "</div>\n",
              "      <button class=\"colab-df-convert\" onclick=\"convertToInteractive('df-2be7923b-159c-4574-b952-db44bc337b2e')\"\n",
              "              title=\"Convert this dataframe to an interactive table.\"\n",
              "              style=\"display:none;\">\n",
              "        \n",
              "  <svg xmlns=\"http://www.w3.org/2000/svg\" height=\"24px\"viewBox=\"0 0 24 24\"\n",
              "       width=\"24px\">\n",
              "    <path d=\"M0 0h24v24H0V0z\" fill=\"none\"/>\n",
              "    <path d=\"M18.56 5.44l.94 2.06.94-2.06 2.06-.94-2.06-.94-.94-2.06-.94 2.06-2.06.94zm-11 1L8.5 8.5l.94-2.06 2.06-.94-2.06-.94L8.5 2.5l-.94 2.06-2.06.94zm10 10l.94 2.06.94-2.06 2.06-.94-2.06-.94-.94-2.06-.94 2.06-2.06.94z\"/><path d=\"M17.41 7.96l-1.37-1.37c-.4-.4-.92-.59-1.43-.59-.52 0-1.04.2-1.43.59L10.3 9.45l-7.72 7.72c-.78.78-.78 2.05 0 2.83L4 21.41c.39.39.9.59 1.41.59.51 0 1.02-.2 1.41-.59l7.78-7.78 2.81-2.81c.8-.78.8-2.07 0-2.86zM5.41 20L4 18.59l7.72-7.72 1.47 1.35L5.41 20z\"/>\n",
              "  </svg>\n",
              "      </button>\n",
              "      \n",
              "  <style>\n",
              "    .colab-df-container {\n",
              "      display:flex;\n",
              "      flex-wrap:wrap;\n",
              "      gap: 12px;\n",
              "    }\n",
              "\n",
              "    .colab-df-convert {\n",
              "      background-color: #E8F0FE;\n",
              "      border: none;\n",
              "      border-radius: 50%;\n",
              "      cursor: pointer;\n",
              "      display: none;\n",
              "      fill: #1967D2;\n",
              "      height: 32px;\n",
              "      padding: 0 0 0 0;\n",
              "      width: 32px;\n",
              "    }\n",
              "\n",
              "    .colab-df-convert:hover {\n",
              "      background-color: #E2EBFA;\n",
              "      box-shadow: 0px 1px 2px rgba(60, 64, 67, 0.3), 0px 1px 3px 1px rgba(60, 64, 67, 0.15);\n",
              "      fill: #174EA6;\n",
              "    }\n",
              "\n",
              "    [theme=dark] .colab-df-convert {\n",
              "      background-color: #3B4455;\n",
              "      fill: #D2E3FC;\n",
              "    }\n",
              "\n",
              "    [theme=dark] .colab-df-convert:hover {\n",
              "      background-color: #434B5C;\n",
              "      box-shadow: 0px 1px 3px 1px rgba(0, 0, 0, 0.15);\n",
              "      filter: drop-shadow(0px 1px 2px rgba(0, 0, 0, 0.3));\n",
              "      fill: #FFFFFF;\n",
              "    }\n",
              "  </style>\n",
              "\n",
              "      <script>\n",
              "        const buttonEl =\n",
              "          document.querySelector('#df-2be7923b-159c-4574-b952-db44bc337b2e button.colab-df-convert');\n",
              "        buttonEl.style.display =\n",
              "          google.colab.kernel.accessAllowed ? 'block' : 'none';\n",
              "\n",
              "        async function convertToInteractive(key) {\n",
              "          const element = document.querySelector('#df-2be7923b-159c-4574-b952-db44bc337b2e');\n",
              "          const dataTable =\n",
              "            await google.colab.kernel.invokeFunction('convertToInteractive',\n",
              "                                                     [key], {});\n",
              "          if (!dataTable) return;\n",
              "\n",
              "          const docLinkHtml = 'Like what you see? Visit the ' +\n",
              "            '<a target=\"_blank\" href=https://colab.research.google.com/notebooks/data_table.ipynb>data table notebook</a>'\n",
              "            + ' to learn more about interactive tables.';\n",
              "          element.innerHTML = '';\n",
              "          dataTable['output_type'] = 'display_data';\n",
              "          await google.colab.output.renderOutput(dataTable, element);\n",
              "          const docLink = document.createElement('div');\n",
              "          docLink.innerHTML = docLinkHtml;\n",
              "          element.appendChild(docLink);\n",
              "        }\n",
              "      </script>\n",
              "    </div>\n",
              "  </div>\n",
              "  "
            ]
          },
          "metadata": {},
          "execution_count": 13
        }
      ]
    },
    {
      "cell_type": "code",
      "execution_count": null,
      "metadata": {
        "id": "DjQPh4rtlwAr"
      },
      "outputs": [],
      "source": [
        "# Calculate the indices for splitting\n",
        "total_length = len(stockIBM)\n",
        "train_index = int(0.8 * total_length)\n",
        "val_index = int(0.9 * total_length)\n",
        "\n",
        "# Split the dataset\n",
        "training_set = stockIBM.iloc[:train_index][['Price']]\n",
        "val_set = stockIBM.iloc[train_index:val_index][['Price']]\n",
        "test_set = stockIBM.iloc[val_index:][['Price']]"
      ]
    },
    {
      "cell_type": "code",
      "source": [
        "print('Train set: {} baris x {} kolom'.format(training_set.shape[0], training_set.shape[1]))\n",
        "print('Test set: {} baris x {} kolom'.format(test_set.shape[0], test_set.shape[1]))\n",
        "print('Validation set: {} baris x {} kolom'.format(val_set.shape[0], val_set.shape[1]))"
      ],
      "metadata": {
        "id": "J5z8z32flk51",
        "colab": {
          "base_uri": "https://localhost:8080/"
        },
        "outputId": "d1655d88-445a-4ed5-bca5-4b9fac67d281"
      },
      "execution_count": null,
      "outputs": [
        {
          "output_type": "stream",
          "name": "stdout",
          "text": [
            "Train set: 11730 baris x 1 kolom\n",
            "Test set: 1467 baris x 1 kolom\n",
            "Validation set: 1466 baris x 1 kolom\n"
          ]
        }
      ]
    },
    {
      "cell_type": "markdown",
      "source": [
        "Output diatas menunjukkan jumlah data setelah dibagi menjadi 3 dengan proporsi 80% training set, 10% test set, dan 10% validation set."
      ],
      "metadata": {
        "id": "BDKgMIaAlKq2"
      }
    },
    {
      "cell_type": "code",
      "execution_count": null,
      "metadata": {
        "id": "0tWi8auQlfqN",
        "colab": {
          "base_uri": "https://localhost:8080/",
          "height": 239
        },
        "outputId": "f2df107f-fb1d-422e-907c-3cb6c990ae44"
      },
      "outputs": [
        {
          "output_type": "execute_result",
          "data": {
            "text/plain": [
              "               Price\n",
              "Date                \n",
              "1962-01-02  7.626667\n",
              "1962-01-03  7.693333\n",
              "1962-01-04  7.616667"
            ],
            "text/html": [
              "\n",
              "  <div id=\"df-d5bf35f4-c1cd-404e-b34c-c5820e6673d0\">\n",
              "    <div class=\"colab-df-container\">\n",
              "      <div>\n",
              "<style scoped>\n",
              "    .dataframe tbody tr th:only-of-type {\n",
              "        vertical-align: middle;\n",
              "    }\n",
              "\n",
              "    .dataframe tbody tr th {\n",
              "        vertical-align: top;\n",
              "    }\n",
              "\n",
              "    .dataframe thead th {\n",
              "        text-align: right;\n",
              "    }\n",
              "</style>\n",
              "<table border=\"1\" class=\"dataframe\">\n",
              "  <thead>\n",
              "    <tr style=\"text-align: right;\">\n",
              "      <th></th>\n",
              "      <th>Price</th>\n",
              "    </tr>\n",
              "    <tr>\n",
              "      <th>Date</th>\n",
              "      <th></th>\n",
              "    </tr>\n",
              "  </thead>\n",
              "  <tbody>\n",
              "    <tr>\n",
              "      <th>1962-01-02</th>\n",
              "      <td>7.626667</td>\n",
              "    </tr>\n",
              "    <tr>\n",
              "      <th>1962-01-03</th>\n",
              "      <td>7.693333</td>\n",
              "    </tr>\n",
              "    <tr>\n",
              "      <th>1962-01-04</th>\n",
              "      <td>7.616667</td>\n",
              "    </tr>\n",
              "  </tbody>\n",
              "</table>\n",
              "</div>\n",
              "      <button class=\"colab-df-convert\" onclick=\"convertToInteractive('df-d5bf35f4-c1cd-404e-b34c-c5820e6673d0')\"\n",
              "              title=\"Convert this dataframe to an interactive table.\"\n",
              "              style=\"display:none;\">\n",
              "        \n",
              "  <svg xmlns=\"http://www.w3.org/2000/svg\" height=\"24px\"viewBox=\"0 0 24 24\"\n",
              "       width=\"24px\">\n",
              "    <path d=\"M0 0h24v24H0V0z\" fill=\"none\"/>\n",
              "    <path d=\"M18.56 5.44l.94 2.06.94-2.06 2.06-.94-2.06-.94-.94-2.06-.94 2.06-2.06.94zm-11 1L8.5 8.5l.94-2.06 2.06-.94-2.06-.94L8.5 2.5l-.94 2.06-2.06.94zm10 10l.94 2.06.94-2.06 2.06-.94-2.06-.94-.94-2.06-.94 2.06-2.06.94z\"/><path d=\"M17.41 7.96l-1.37-1.37c-.4-.4-.92-.59-1.43-.59-.52 0-1.04.2-1.43.59L10.3 9.45l-7.72 7.72c-.78.78-.78 2.05 0 2.83L4 21.41c.39.39.9.59 1.41.59.51 0 1.02-.2 1.41-.59l7.78-7.78 2.81-2.81c.8-.78.8-2.07 0-2.86zM5.41 20L4 18.59l7.72-7.72 1.47 1.35L5.41 20z\"/>\n",
              "  </svg>\n",
              "      </button>\n",
              "      \n",
              "  <style>\n",
              "    .colab-df-container {\n",
              "      display:flex;\n",
              "      flex-wrap:wrap;\n",
              "      gap: 12px;\n",
              "    }\n",
              "\n",
              "    .colab-df-convert {\n",
              "      background-color: #E8F0FE;\n",
              "      border: none;\n",
              "      border-radius: 50%;\n",
              "      cursor: pointer;\n",
              "      display: none;\n",
              "      fill: #1967D2;\n",
              "      height: 32px;\n",
              "      padding: 0 0 0 0;\n",
              "      width: 32px;\n",
              "    }\n",
              "\n",
              "    .colab-df-convert:hover {\n",
              "      background-color: #E2EBFA;\n",
              "      box-shadow: 0px 1px 2px rgba(60, 64, 67, 0.3), 0px 1px 3px 1px rgba(60, 64, 67, 0.15);\n",
              "      fill: #174EA6;\n",
              "    }\n",
              "\n",
              "    [theme=dark] .colab-df-convert {\n",
              "      background-color: #3B4455;\n",
              "      fill: #D2E3FC;\n",
              "    }\n",
              "\n",
              "    [theme=dark] .colab-df-convert:hover {\n",
              "      background-color: #434B5C;\n",
              "      box-shadow: 0px 1px 3px 1px rgba(0, 0, 0, 0.15);\n",
              "      filter: drop-shadow(0px 1px 2px rgba(0, 0, 0, 0.3));\n",
              "      fill: #FFFFFF;\n",
              "    }\n",
              "  </style>\n",
              "\n",
              "      <script>\n",
              "        const buttonEl =\n",
              "          document.querySelector('#df-d5bf35f4-c1cd-404e-b34c-c5820e6673d0 button.colab-df-convert');\n",
              "        buttonEl.style.display =\n",
              "          google.colab.kernel.accessAllowed ? 'block' : 'none';\n",
              "\n",
              "        async function convertToInteractive(key) {\n",
              "          const element = document.querySelector('#df-d5bf35f4-c1cd-404e-b34c-c5820e6673d0');\n",
              "          const dataTable =\n",
              "            await google.colab.kernel.invokeFunction('convertToInteractive',\n",
              "                                                     [key], {});\n",
              "          if (!dataTable) return;\n",
              "\n",
              "          const docLinkHtml = 'Like what you see? Visit the ' +\n",
              "            '<a target=\"_blank\" href=https://colab.research.google.com/notebooks/data_table.ipynb>data table notebook</a>'\n",
              "            + ' to learn more about interactive tables.';\n",
              "          element.innerHTML = '';\n",
              "          dataTable['output_type'] = 'display_data';\n",
              "          await google.colab.output.renderOutput(dataTable, element);\n",
              "          const docLink = document.createElement('div');\n",
              "          docLink.innerHTML = docLinkHtml;\n",
              "          element.appendChild(docLink);\n",
              "        }\n",
              "      </script>\n",
              "    </div>\n",
              "  </div>\n",
              "  "
            ]
          },
          "metadata": {},
          "execution_count": 16
        }
      ],
      "source": [
        "training_set.head(3)"
      ]
    },
    {
      "cell_type": "code",
      "source": [
        "test_set.head(3)"
      ],
      "metadata": {
        "colab": {
          "base_uri": "https://localhost:8080/",
          "height": 239
        },
        "id": "QreswPOr-OiY",
        "outputId": "036c1743-c627-4f67-e57a-29fa862184a2"
      },
      "execution_count": null,
      "outputs": [
        {
          "output_type": "execute_result",
          "data": {
            "text/plain": [
              "                 Price\n",
              "Date                  \n",
              "2014-06-05  185.979996\n",
              "2014-06-06  186.369995\n",
              "2014-06-09  186.220001"
            ],
            "text/html": [
              "\n",
              "  <div id=\"df-fc3b8998-308f-4e0a-a49a-bad81d199b50\">\n",
              "    <div class=\"colab-df-container\">\n",
              "      <div>\n",
              "<style scoped>\n",
              "    .dataframe tbody tr th:only-of-type {\n",
              "        vertical-align: middle;\n",
              "    }\n",
              "\n",
              "    .dataframe tbody tr th {\n",
              "        vertical-align: top;\n",
              "    }\n",
              "\n",
              "    .dataframe thead th {\n",
              "        text-align: right;\n",
              "    }\n",
              "</style>\n",
              "<table border=\"1\" class=\"dataframe\">\n",
              "  <thead>\n",
              "    <tr style=\"text-align: right;\">\n",
              "      <th></th>\n",
              "      <th>Price</th>\n",
              "    </tr>\n",
              "    <tr>\n",
              "      <th>Date</th>\n",
              "      <th></th>\n",
              "    </tr>\n",
              "  </thead>\n",
              "  <tbody>\n",
              "    <tr>\n",
              "      <th>2014-06-05</th>\n",
              "      <td>185.979996</td>\n",
              "    </tr>\n",
              "    <tr>\n",
              "      <th>2014-06-06</th>\n",
              "      <td>186.369995</td>\n",
              "    </tr>\n",
              "    <tr>\n",
              "      <th>2014-06-09</th>\n",
              "      <td>186.220001</td>\n",
              "    </tr>\n",
              "  </tbody>\n",
              "</table>\n",
              "</div>\n",
              "      <button class=\"colab-df-convert\" onclick=\"convertToInteractive('df-fc3b8998-308f-4e0a-a49a-bad81d199b50')\"\n",
              "              title=\"Convert this dataframe to an interactive table.\"\n",
              "              style=\"display:none;\">\n",
              "        \n",
              "  <svg xmlns=\"http://www.w3.org/2000/svg\" height=\"24px\"viewBox=\"0 0 24 24\"\n",
              "       width=\"24px\">\n",
              "    <path d=\"M0 0h24v24H0V0z\" fill=\"none\"/>\n",
              "    <path d=\"M18.56 5.44l.94 2.06.94-2.06 2.06-.94-2.06-.94-.94-2.06-.94 2.06-2.06.94zm-11 1L8.5 8.5l.94-2.06 2.06-.94-2.06-.94L8.5 2.5l-.94 2.06-2.06.94zm10 10l.94 2.06.94-2.06 2.06-.94-2.06-.94-.94-2.06-.94 2.06-2.06.94z\"/><path d=\"M17.41 7.96l-1.37-1.37c-.4-.4-.92-.59-1.43-.59-.52 0-1.04.2-1.43.59L10.3 9.45l-7.72 7.72c-.78.78-.78 2.05 0 2.83L4 21.41c.39.39.9.59 1.41.59.51 0 1.02-.2 1.41-.59l7.78-7.78 2.81-2.81c.8-.78.8-2.07 0-2.86zM5.41 20L4 18.59l7.72-7.72 1.47 1.35L5.41 20z\"/>\n",
              "  </svg>\n",
              "      </button>\n",
              "      \n",
              "  <style>\n",
              "    .colab-df-container {\n",
              "      display:flex;\n",
              "      flex-wrap:wrap;\n",
              "      gap: 12px;\n",
              "    }\n",
              "\n",
              "    .colab-df-convert {\n",
              "      background-color: #E8F0FE;\n",
              "      border: none;\n",
              "      border-radius: 50%;\n",
              "      cursor: pointer;\n",
              "      display: none;\n",
              "      fill: #1967D2;\n",
              "      height: 32px;\n",
              "      padding: 0 0 0 0;\n",
              "      width: 32px;\n",
              "    }\n",
              "\n",
              "    .colab-df-convert:hover {\n",
              "      background-color: #E2EBFA;\n",
              "      box-shadow: 0px 1px 2px rgba(60, 64, 67, 0.3), 0px 1px 3px 1px rgba(60, 64, 67, 0.15);\n",
              "      fill: #174EA6;\n",
              "    }\n",
              "\n",
              "    [theme=dark] .colab-df-convert {\n",
              "      background-color: #3B4455;\n",
              "      fill: #D2E3FC;\n",
              "    }\n",
              "\n",
              "    [theme=dark] .colab-df-convert:hover {\n",
              "      background-color: #434B5C;\n",
              "      box-shadow: 0px 1px 3px 1px rgba(0, 0, 0, 0.15);\n",
              "      filter: drop-shadow(0px 1px 2px rgba(0, 0, 0, 0.3));\n",
              "      fill: #FFFFFF;\n",
              "    }\n",
              "  </style>\n",
              "\n",
              "      <script>\n",
              "        const buttonEl =\n",
              "          document.querySelector('#df-fc3b8998-308f-4e0a-a49a-bad81d199b50 button.colab-df-convert');\n",
              "        buttonEl.style.display =\n",
              "          google.colab.kernel.accessAllowed ? 'block' : 'none';\n",
              "\n",
              "        async function convertToInteractive(key) {\n",
              "          const element = document.querySelector('#df-fc3b8998-308f-4e0a-a49a-bad81d199b50');\n",
              "          const dataTable =\n",
              "            await google.colab.kernel.invokeFunction('convertToInteractive',\n",
              "                                                     [key], {});\n",
              "          if (!dataTable) return;\n",
              "\n",
              "          const docLinkHtml = 'Like what you see? Visit the ' +\n",
              "            '<a target=\"_blank\" href=https://colab.research.google.com/notebooks/data_table.ipynb>data table notebook</a>'\n",
              "            + ' to learn more about interactive tables.';\n",
              "          element.innerHTML = '';\n",
              "          dataTable['output_type'] = 'display_data';\n",
              "          await google.colab.output.renderOutput(dataTable, element);\n",
              "          const docLink = document.createElement('div');\n",
              "          docLink.innerHTML = docLinkHtml;\n",
              "          element.appendChild(docLink);\n",
              "        }\n",
              "      </script>\n",
              "    </div>\n",
              "  </div>\n",
              "  "
            ]
          },
          "metadata": {},
          "execution_count": 17
        }
      ]
    },
    {
      "cell_type": "code",
      "source": [
        "val_set.head(3)"
      ],
      "metadata": {
        "colab": {
          "base_uri": "https://localhost:8080/",
          "height": 239
        },
        "id": "db2zJTcg-RPg",
        "outputId": "f8d755c5-c889-4951-9dde-281174af9010"
      },
      "execution_count": null,
      "outputs": [
        {
          "output_type": "execute_result",
          "data": {
            "text/plain": [
              "                 Price\n",
              "Date                  \n",
              "2008-08-07  129.050003\n",
              "2008-08-08  128.809998\n",
              "2008-08-11  126.599998"
            ],
            "text/html": [
              "\n",
              "  <div id=\"df-9658be6a-e3e6-48f2-bf73-94617483f622\">\n",
              "    <div class=\"colab-df-container\">\n",
              "      <div>\n",
              "<style scoped>\n",
              "    .dataframe tbody tr th:only-of-type {\n",
              "        vertical-align: middle;\n",
              "    }\n",
              "\n",
              "    .dataframe tbody tr th {\n",
              "        vertical-align: top;\n",
              "    }\n",
              "\n",
              "    .dataframe thead th {\n",
              "        text-align: right;\n",
              "    }\n",
              "</style>\n",
              "<table border=\"1\" class=\"dataframe\">\n",
              "  <thead>\n",
              "    <tr style=\"text-align: right;\">\n",
              "      <th></th>\n",
              "      <th>Price</th>\n",
              "    </tr>\n",
              "    <tr>\n",
              "      <th>Date</th>\n",
              "      <th></th>\n",
              "    </tr>\n",
              "  </thead>\n",
              "  <tbody>\n",
              "    <tr>\n",
              "      <th>2008-08-07</th>\n",
              "      <td>129.050003</td>\n",
              "    </tr>\n",
              "    <tr>\n",
              "      <th>2008-08-08</th>\n",
              "      <td>128.809998</td>\n",
              "    </tr>\n",
              "    <tr>\n",
              "      <th>2008-08-11</th>\n",
              "      <td>126.599998</td>\n",
              "    </tr>\n",
              "  </tbody>\n",
              "</table>\n",
              "</div>\n",
              "      <button class=\"colab-df-convert\" onclick=\"convertToInteractive('df-9658be6a-e3e6-48f2-bf73-94617483f622')\"\n",
              "              title=\"Convert this dataframe to an interactive table.\"\n",
              "              style=\"display:none;\">\n",
              "        \n",
              "  <svg xmlns=\"http://www.w3.org/2000/svg\" height=\"24px\"viewBox=\"0 0 24 24\"\n",
              "       width=\"24px\">\n",
              "    <path d=\"M0 0h24v24H0V0z\" fill=\"none\"/>\n",
              "    <path d=\"M18.56 5.44l.94 2.06.94-2.06 2.06-.94-2.06-.94-.94-2.06-.94 2.06-2.06.94zm-11 1L8.5 8.5l.94-2.06 2.06-.94-2.06-.94L8.5 2.5l-.94 2.06-2.06.94zm10 10l.94 2.06.94-2.06 2.06-.94-2.06-.94-.94-2.06-.94 2.06-2.06.94z\"/><path d=\"M17.41 7.96l-1.37-1.37c-.4-.4-.92-.59-1.43-.59-.52 0-1.04.2-1.43.59L10.3 9.45l-7.72 7.72c-.78.78-.78 2.05 0 2.83L4 21.41c.39.39.9.59 1.41.59.51 0 1.02-.2 1.41-.59l7.78-7.78 2.81-2.81c.8-.78.8-2.07 0-2.86zM5.41 20L4 18.59l7.72-7.72 1.47 1.35L5.41 20z\"/>\n",
              "  </svg>\n",
              "      </button>\n",
              "      \n",
              "  <style>\n",
              "    .colab-df-container {\n",
              "      display:flex;\n",
              "      flex-wrap:wrap;\n",
              "      gap: 12px;\n",
              "    }\n",
              "\n",
              "    .colab-df-convert {\n",
              "      background-color: #E8F0FE;\n",
              "      border: none;\n",
              "      border-radius: 50%;\n",
              "      cursor: pointer;\n",
              "      display: none;\n",
              "      fill: #1967D2;\n",
              "      height: 32px;\n",
              "      padding: 0 0 0 0;\n",
              "      width: 32px;\n",
              "    }\n",
              "\n",
              "    .colab-df-convert:hover {\n",
              "      background-color: #E2EBFA;\n",
              "      box-shadow: 0px 1px 2px rgba(60, 64, 67, 0.3), 0px 1px 3px 1px rgba(60, 64, 67, 0.15);\n",
              "      fill: #174EA6;\n",
              "    }\n",
              "\n",
              "    [theme=dark] .colab-df-convert {\n",
              "      background-color: #3B4455;\n",
              "      fill: #D2E3FC;\n",
              "    }\n",
              "\n",
              "    [theme=dark] .colab-df-convert:hover {\n",
              "      background-color: #434B5C;\n",
              "      box-shadow: 0px 1px 3px 1px rgba(0, 0, 0, 0.15);\n",
              "      filter: drop-shadow(0px 1px 2px rgba(0, 0, 0, 0.3));\n",
              "      fill: #FFFFFF;\n",
              "    }\n",
              "  </style>\n",
              "\n",
              "      <script>\n",
              "        const buttonEl =\n",
              "          document.querySelector('#df-9658be6a-e3e6-48f2-bf73-94617483f622 button.colab-df-convert');\n",
              "        buttonEl.style.display =\n",
              "          google.colab.kernel.accessAllowed ? 'block' : 'none';\n",
              "\n",
              "        async function convertToInteractive(key) {\n",
              "          const element = document.querySelector('#df-9658be6a-e3e6-48f2-bf73-94617483f622');\n",
              "          const dataTable =\n",
              "            await google.colab.kernel.invokeFunction('convertToInteractive',\n",
              "                                                     [key], {});\n",
              "          if (!dataTable) return;\n",
              "\n",
              "          const docLinkHtml = 'Like what you see? Visit the ' +\n",
              "            '<a target=\"_blank\" href=https://colab.research.google.com/notebooks/data_table.ipynb>data table notebook</a>'\n",
              "            + ' to learn more about interactive tables.';\n",
              "          element.innerHTML = '';\n",
              "          dataTable['output_type'] = 'display_data';\n",
              "          await google.colab.output.renderOutput(dataTable, element);\n",
              "          const docLink = document.createElement('div');\n",
              "          docLink.innerHTML = docLinkHtml;\n",
              "          element.appendChild(docLink);\n",
              "        }\n",
              "      </script>\n",
              "    </div>\n",
              "  </div>\n",
              "  "
            ]
          },
          "metadata": {},
          "execution_count": 18
        }
      ]
    },
    {
      "cell_type": "code",
      "source": [
        "scaler = MinMaxScaler(feature_range=(0,1))\n",
        "training_set = scaler.fit_transform(training_set)\n",
        "val_set = scaler.fit_transform(val_set)\n",
        "test_set = test_set.to_numpy()"
      ],
      "metadata": {
        "id": "KvQhlGjBAUmm"
      },
      "execution_count": null,
      "outputs": []
    },
    {
      "cell_type": "markdown",
      "source": [
        "\n",
        "\n",
        "*   Melakukan scaling dengan range angka 0 sampai 1 dan normalisasi data pada training set.\n",
        "*   Melakukan scaling dengan range angka 0 sampai 1 dan normalisasi data pada validation set.\n",
        "*   Melakukan transformasi data pada testing set menjadi numpy array.\n",
        "\n",
        "\n"
      ],
      "metadata": {
        "id": "f3Ltxs9_t3du"
      }
    },
    {
      "cell_type": "code",
      "source": [
        "timesteps = 5\n",
        "x_train = []\n",
        "y_train = []\n",
        "for i in range(timesteps, training_set.shape[0] - timesteps + 1):\n",
        "    x_train.append(training_set[i-timesteps:i, 0])\n",
        "    y_train.append(training_set[i:i+timesteps, 0])\n",
        "\n",
        "x_train, y_train = np.array(x_train), np.array(y_train)\n",
        "\n",
        "print(x_train[0], y_train[0])\n",
        "print(x_train[1], y_train[1])"
      ],
      "metadata": {
        "colab": {
          "base_uri": "https://localhost:8080/"
        },
        "id": "auovg2BQB_We",
        "outputId": "b47282d7-d83f-4d6d-fbb6-43f4038c8dd9"
      },
      "execution_count": null,
      "outputs": [
        {
          "output_type": "stream",
          "name": "stdout",
          "text": [
            "[0.02650821 0.02700649 0.02643348 0.02531236 0.02426598] [0.02491374 0.02501339 0.02561132 0.02571098 0.02596011]\n",
            "[0.02700649 0.02643348 0.02531236 0.02426598 0.02491374] [0.02501339 0.02561132 0.02571098 0.02596011 0.02536218]\n"
          ]
        }
      ]
    },
    {
      "cell_type": "markdown",
      "source": [
        "Training set dibuat dengan menggunakan timesteps sebesar 5. Dari output diatas, 5 data pertama digunakan sebagai input (window size) dan 5 data berikutnya merupakan output (horizon).\n",
        "\n"
      ],
      "metadata": {
        "id": "dKJIowG7n-KS"
      }
    },
    {
      "cell_type": "code",
      "source": [
        "x_train = x_train.reshape((x_train.shape[0], x_train.shape[1], 1))\n",
        "idx = np.random.permutation(len(x_train))\n",
        "x_train = x_train[idx]\n",
        "y_train = y_train[idx]"
      ],
      "metadata": {
        "id": "2Wyha3yuCgGb"
      },
      "execution_count": null,
      "outputs": []
    },
    {
      "cell_type": "markdown",
      "source": [
        "*   Mengubah dimensi `x_train` agar sesuai dengan model yang akan digunakan. Dimensi `x_train` sebelumnya (jumlah sampel, timesteps) dan diubah menjadi (jumlah sampel, timesteps, 1).\n",
        "*   Variable `idx` untuk membuat array berisi indeks secara acak. Ini digunakan untuk mengacak urutan sampel training set sehingga model dapat belajar lebih baik.\n",
        "\n"
      ],
      "metadata": {
        "id": "GHhlOIw2rZZ5"
      }
    },
    {
      "cell_type": "code",
      "source": [
        "timesteps = 5\n",
        "x_val = []\n",
        "y_val = []\n",
        "for i in range(timesteps, val_set.shape[0] - timesteps + 1):\n",
        "    x_val.append(val_set[i-timesteps:i, 0])\n",
        "    y_val.append(val_set[i:i+timesteps, 0])\n",
        "\n",
        "x_val, y_val = np.array(x_val), np.array(y_val)\n",
        "\n",
        "print(x_val[0], y_val[0])\n",
        "print(x_val[1], y_val[1])\n"
      ],
      "metadata": {
        "colab": {
          "base_uri": "https://localhost:8080/"
        },
        "id": "e6BN4JCwCm0q",
        "outputId": "4fe3176d-4cf0-463d-d370-9da1edfd078c"
      },
      "execution_count": null,
      "outputs": [
        {
          "output_type": "stream",
          "name": "stdout",
          "text": [
            "[0.39782037 0.39615436 0.38081354 0.37123422 0.37526033] [0.3831737  0.37914758 0.36686101 0.35276966 0.35242262]\n",
            "[0.39615436 0.38081354 0.37123422 0.37526033 0.3831737 ] [0.37914758 0.36686101 0.35276966 0.35242262 0.35575453]\n"
          ]
        }
      ]
    },
    {
      "cell_type": "markdown",
      "source": [
        "Validation set dibuat dengan menggunakan timesteps sebesar 5. Dari output diatas, 5 data pertama merupakan input dan 5 data berikutnya merupakan output (horizon).\n",
        "\n"
      ],
      "metadata": {
        "id": "M3o_nOkxoqNG"
      }
    },
    {
      "cell_type": "code",
      "source": [
        "x_val = x_val.reshape((x_val.shape[0], x_val.shape[1], 1))\n",
        "idx1 = np.random.permutation(len(x_val))\n",
        "x_val = x_val[idx1]\n",
        "y_val = y_val[idx1]"
      ],
      "metadata": {
        "id": "9iLglpfxRj8L"
      },
      "execution_count": null,
      "outputs": []
    },
    {
      "cell_type": "markdown",
      "source": [
        "*   Mengubah dimensi `x_val` agar sesuai dengan model yang akan digunakan. Dimensi `x_val` sebelumnya (jumlah sampel, timesteps) dan diubah menjadi (jumlah sampel, timesteps, 1).\n",
        "*   Variable `idx1` untuk membuat array berisi indeks secara acak. Ini digunakan untuk mengacak urutan sampel validation set sehingga model dapat belajar lebih baik."
      ],
      "metadata": {
        "id": "a4s4saVNsfev"
      }
    },
    {
      "cell_type": "code",
      "source": [
        "timesteps = 5\n",
        "x_test = []\n",
        "y_test = []\n",
        "for i in range(timesteps, test_set.shape[0] - timesteps + 1):\n",
        "    x_test.append(test_set[i-timesteps:i, 0])\n",
        "    y_test.append(test_set[i:i+timesteps, 0])\n",
        "\n",
        "x_test, y_test = np.array(x_test), np.array(y_test)\n",
        "\n",
        "print(x_test[0], y_test[0])\n",
        "print(x_test[1], y_test[1])"
      ],
      "metadata": {
        "colab": {
          "base_uri": "https://localhost:8080/"
        },
        "id": "TQZIJE5l36OF",
        "outputId": "9f7c1a3c-139e-4d31-d09f-32505e8d1076"
      },
      "execution_count": null,
      "outputs": [
        {
          "output_type": "stream",
          "name": "stdout",
          "text": [
            "[185.97999573 186.36999512 186.22000122 184.28999329 182.25      ] [181.22000122 182.55999756 182.3500061  182.25999451 183.6000061 ]\n",
            "[186.36999512 186.22000122 184.28999329 182.25       181.22000122] [182.55999756 182.3500061  182.25999451 183.6000061  182.82000732]\n"
          ]
        }
      ]
    },
    {
      "cell_type": "markdown",
      "source": [
        "Testing set dibuat dengan menggunakan timesteps sebesar 5. Dari output diatas, 5 data pertama merupakan input dan 5 data berikutnya merupakan output (horizon).\n",
        "\n"
      ],
      "metadata": {
        "id": "xTAJ5Vv4ouOH"
      }
    },
    {
      "cell_type": "code",
      "source": [
        "x_test = x_test.reshape((x_test.shape[0], x_test.shape[1], 1))\n",
        "idx2 = np.random.permutation(len(x_test))\n",
        "x_test = x_test[idx2]\n",
        "y_test = y_test[idx2]"
      ],
      "metadata": {
        "id": "mnen-f5v3598"
      },
      "execution_count": null,
      "outputs": []
    },
    {
      "cell_type": "markdown",
      "source": [
        "*   Mengubah dimensi `x_test` agar sesuai dengan model yang akan digunakan. Dimensi `x_test` sebelumnya (jumlah sampel, timesteps) dan diubah menjadi (jumlah sampel, timesteps, 1).\n",
        "*   Variable `idx2` untuk membuat array berisi indeks secara acak. Ini digunakan untuk mengacak urutan sampel testing set sehingga model dapat belajar lebih baik."
      ],
      "metadata": {
        "id": "Z_nP8Y-ftpT1"
      }
    },
    {
      "cell_type": "markdown",
      "source": [
        "###**FB (Facebook, Inc) Dataset**"
      ],
      "metadata": {
        "id": "jd_teyS67peR"
      }
    },
    {
      "cell_type": "code",
      "execution_count": null,
      "metadata": {
        "id": "JZgGMFdI6ReN",
        "colab": {
          "base_uri": "https://localhost:8080/",
          "height": 288
        },
        "outputId": "f2cd9f13-4bf0-40e6-c1f7-fc698f753a66"
      },
      "outputs": [
        {
          "output_type": "execute_result",
          "data": {
            "text/plain": [
              "         Date       Open       High        Low      Close  Adj Close  \\\n",
              "0  2012-05-18  42.049999  45.000000  38.000000  38.230000  38.230000   \n",
              "1  2012-05-21  36.529999  36.660000  33.000000  34.029999  34.029999   \n",
              "2  2012-05-22  32.610001  33.590000  30.940001  31.000000  31.000000   \n",
              "3  2012-05-23  31.370001  32.500000  31.360001  32.000000  32.000000   \n",
              "4  2012-05-24  32.950001  33.209999  31.770000  33.029999  33.029999   \n",
              "\n",
              "      Volume  \n",
              "0  573576400  \n",
              "1  168192700  \n",
              "2  101786600  \n",
              "3   73600000  \n",
              "4   50237200  "
            ],
            "text/html": [
              "\n",
              "  <div id=\"df-8a72ba7b-36e9-4e46-84f8-03d6c74ef7b4\">\n",
              "    <div class=\"colab-df-container\">\n",
              "      <div>\n",
              "<style scoped>\n",
              "    .dataframe tbody tr th:only-of-type {\n",
              "        vertical-align: middle;\n",
              "    }\n",
              "\n",
              "    .dataframe tbody tr th {\n",
              "        vertical-align: top;\n",
              "    }\n",
              "\n",
              "    .dataframe thead th {\n",
              "        text-align: right;\n",
              "    }\n",
              "</style>\n",
              "<table border=\"1\" class=\"dataframe\">\n",
              "  <thead>\n",
              "    <tr style=\"text-align: right;\">\n",
              "      <th></th>\n",
              "      <th>Date</th>\n",
              "      <th>Open</th>\n",
              "      <th>High</th>\n",
              "      <th>Low</th>\n",
              "      <th>Close</th>\n",
              "      <th>Adj Close</th>\n",
              "      <th>Volume</th>\n",
              "    </tr>\n",
              "  </thead>\n",
              "  <tbody>\n",
              "    <tr>\n",
              "      <th>0</th>\n",
              "      <td>2012-05-18</td>\n",
              "      <td>42.049999</td>\n",
              "      <td>45.000000</td>\n",
              "      <td>38.000000</td>\n",
              "      <td>38.230000</td>\n",
              "      <td>38.230000</td>\n",
              "      <td>573576400</td>\n",
              "    </tr>\n",
              "    <tr>\n",
              "      <th>1</th>\n",
              "      <td>2012-05-21</td>\n",
              "      <td>36.529999</td>\n",
              "      <td>36.660000</td>\n",
              "      <td>33.000000</td>\n",
              "      <td>34.029999</td>\n",
              "      <td>34.029999</td>\n",
              "      <td>168192700</td>\n",
              "    </tr>\n",
              "    <tr>\n",
              "      <th>2</th>\n",
              "      <td>2012-05-22</td>\n",
              "      <td>32.610001</td>\n",
              "      <td>33.590000</td>\n",
              "      <td>30.940001</td>\n",
              "      <td>31.000000</td>\n",
              "      <td>31.000000</td>\n",
              "      <td>101786600</td>\n",
              "    </tr>\n",
              "    <tr>\n",
              "      <th>3</th>\n",
              "      <td>2012-05-23</td>\n",
              "      <td>31.370001</td>\n",
              "      <td>32.500000</td>\n",
              "      <td>31.360001</td>\n",
              "      <td>32.000000</td>\n",
              "      <td>32.000000</td>\n",
              "      <td>73600000</td>\n",
              "    </tr>\n",
              "    <tr>\n",
              "      <th>4</th>\n",
              "      <td>2012-05-24</td>\n",
              "      <td>32.950001</td>\n",
              "      <td>33.209999</td>\n",
              "      <td>31.770000</td>\n",
              "      <td>33.029999</td>\n",
              "      <td>33.029999</td>\n",
              "      <td>50237200</td>\n",
              "    </tr>\n",
              "  </tbody>\n",
              "</table>\n",
              "</div>\n",
              "      <button class=\"colab-df-convert\" onclick=\"convertToInteractive('df-8a72ba7b-36e9-4e46-84f8-03d6c74ef7b4')\"\n",
              "              title=\"Convert this dataframe to an interactive table.\"\n",
              "              style=\"display:none;\">\n",
              "        \n",
              "  <svg xmlns=\"http://www.w3.org/2000/svg\" height=\"24px\"viewBox=\"0 0 24 24\"\n",
              "       width=\"24px\">\n",
              "    <path d=\"M0 0h24v24H0V0z\" fill=\"none\"/>\n",
              "    <path d=\"M18.56 5.44l.94 2.06.94-2.06 2.06-.94-2.06-.94-.94-2.06-.94 2.06-2.06.94zm-11 1L8.5 8.5l.94-2.06 2.06-.94-2.06-.94L8.5 2.5l-.94 2.06-2.06.94zm10 10l.94 2.06.94-2.06 2.06-.94-2.06-.94-.94-2.06-.94 2.06-2.06.94z\"/><path d=\"M17.41 7.96l-1.37-1.37c-.4-.4-.92-.59-1.43-.59-.52 0-1.04.2-1.43.59L10.3 9.45l-7.72 7.72c-.78.78-.78 2.05 0 2.83L4 21.41c.39.39.9.59 1.41.59.51 0 1.02-.2 1.41-.59l7.78-7.78 2.81-2.81c.8-.78.8-2.07 0-2.86zM5.41 20L4 18.59l7.72-7.72 1.47 1.35L5.41 20z\"/>\n",
              "  </svg>\n",
              "      </button>\n",
              "      \n",
              "  <style>\n",
              "    .colab-df-container {\n",
              "      display:flex;\n",
              "      flex-wrap:wrap;\n",
              "      gap: 12px;\n",
              "    }\n",
              "\n",
              "    .colab-df-convert {\n",
              "      background-color: #E8F0FE;\n",
              "      border: none;\n",
              "      border-radius: 50%;\n",
              "      cursor: pointer;\n",
              "      display: none;\n",
              "      fill: #1967D2;\n",
              "      height: 32px;\n",
              "      padding: 0 0 0 0;\n",
              "      width: 32px;\n",
              "    }\n",
              "\n",
              "    .colab-df-convert:hover {\n",
              "      background-color: #E2EBFA;\n",
              "      box-shadow: 0px 1px 2px rgba(60, 64, 67, 0.3), 0px 1px 3px 1px rgba(60, 64, 67, 0.15);\n",
              "      fill: #174EA6;\n",
              "    }\n",
              "\n",
              "    [theme=dark] .colab-df-convert {\n",
              "      background-color: #3B4455;\n",
              "      fill: #D2E3FC;\n",
              "    }\n",
              "\n",
              "    [theme=dark] .colab-df-convert:hover {\n",
              "      background-color: #434B5C;\n",
              "      box-shadow: 0px 1px 3px 1px rgba(0, 0, 0, 0.15);\n",
              "      filter: drop-shadow(0px 1px 2px rgba(0, 0, 0, 0.3));\n",
              "      fill: #FFFFFF;\n",
              "    }\n",
              "  </style>\n",
              "\n",
              "      <script>\n",
              "        const buttonEl =\n",
              "          document.querySelector('#df-8a72ba7b-36e9-4e46-84f8-03d6c74ef7b4 button.colab-df-convert');\n",
              "        buttonEl.style.display =\n",
              "          google.colab.kernel.accessAllowed ? 'block' : 'none';\n",
              "\n",
              "        async function convertToInteractive(key) {\n",
              "          const element = document.querySelector('#df-8a72ba7b-36e9-4e46-84f8-03d6c74ef7b4');\n",
              "          const dataTable =\n",
              "            await google.colab.kernel.invokeFunction('convertToInteractive',\n",
              "                                                     [key], {});\n",
              "          if (!dataTable) return;\n",
              "\n",
              "          const docLinkHtml = 'Like what you see? Visit the ' +\n",
              "            '<a target=\"_blank\" href=https://colab.research.google.com/notebooks/data_table.ipynb>data table notebook</a>'\n",
              "            + ' to learn more about interactive tables.';\n",
              "          element.innerHTML = '';\n",
              "          dataTable['output_type'] = 'display_data';\n",
              "          await google.colab.output.renderOutput(dataTable, element);\n",
              "          const docLink = document.createElement('div');\n",
              "          docLink.innerHTML = docLinkHtml;\n",
              "          element.appendChild(docLink);\n",
              "        }\n",
              "      </script>\n",
              "    </div>\n",
              "  </div>\n",
              "  "
            ]
          },
          "metadata": {},
          "execution_count": 26
        }
      ],
      "source": [
        "dataFB = pd.read_csv('/content/drive/MyDrive/FB.csv')\n",
        "dataFB.head()"
      ]
    },
    {
      "cell_type": "code",
      "execution_count": null,
      "metadata": {
        "id": "iAayWgQBDm7t",
        "colab": {
          "base_uri": "https://localhost:8080/"
        },
        "outputId": "b93206d5-42b4-4ffe-d9f9-461b8f88990e"
      },
      "outputs": [
        {
          "output_type": "stream",
          "name": "stdout",
          "text": [
            "<class 'pandas.core.frame.DataFrame'>\n",
            "RangeIndex: 1980 entries, 0 to 1979\n",
            "Data columns (total 7 columns):\n",
            " #   Column     Non-Null Count  Dtype  \n",
            "---  ------     --------------  -----  \n",
            " 0   Date       1980 non-null   object \n",
            " 1   Open       1980 non-null   float64\n",
            " 2   High       1980 non-null   float64\n",
            " 3   Low        1980 non-null   float64\n",
            " 4   Close      1980 non-null   float64\n",
            " 5   Adj Close  1980 non-null   float64\n",
            " 6   Volume     1980 non-null   int64  \n",
            "dtypes: float64(5), int64(1), object(1)\n",
            "memory usage: 108.4+ KB\n"
          ]
        }
      ],
      "source": [
        "dataFB.info()"
      ]
    },
    {
      "cell_type": "code",
      "execution_count": null,
      "metadata": {
        "id": "kwZTccEoZCEM",
        "colab": {
          "base_uri": "https://localhost:8080/"
        },
        "outputId": "0ecac997-1090-4de7-cc33-2a0b21b7bf45"
      },
      "outputs": [
        {
          "output_type": "stream",
          "name": "stdout",
          "text": [
            "Jumlah baris dalam data FB:  1980\n",
            "Jumlah kolom dalam data FB:  7\n"
          ]
        }
      ],
      "source": [
        "row, col = dataFB.shape\n",
        "print(\"Jumlah baris dalam data FB: \", row)\n",
        "print(\"Jumlah kolom dalam data FB: \", col)"
      ]
    },
    {
      "cell_type": "markdown",
      "source": [
        "Data Facebook terdiri dari 1980 baris dan 7 kolom."
      ],
      "metadata": {
        "id": "g2gqcVo-2AL8"
      }
    },
    {
      "cell_type": "markdown",
      "source": [
        "###**Checking Missing Value and Duplicated Data**"
      ],
      "metadata": {
        "id": "vXCb4vIahRuR"
      }
    },
    {
      "cell_type": "code",
      "execution_count": null,
      "metadata": {
        "id": "UdOYcNOUEvjN",
        "colab": {
          "base_uri": "https://localhost:8080/"
        },
        "outputId": "7c5e4326-1081-4bb0-bbda-11817ffdc65a"
      },
      "outputs": [
        {
          "output_type": "stream",
          "name": "stdout",
          "text": [
            "Missing Value on FB dataset : \n",
            "Date         0\n",
            "Open         0\n",
            "High         0\n",
            "Low          0\n",
            "Close        0\n",
            "Adj Close    0\n",
            "Volume       0\n",
            "dtype: int64\n"
          ]
        },
        {
          "output_type": "execute_result",
          "data": {
            "text/plain": [
              "(1980, 7)"
            ]
          },
          "metadata": {},
          "execution_count": 29
        }
      ],
      "source": [
        "print('Missing Value on FB dataset : ')\n",
        "print(dataFB.isna().sum())\n",
        "dataFB.shape"
      ]
    },
    {
      "cell_type": "markdown",
      "source": [
        "Setelah melakukan pengecekan, output 0 dari tiap variable diatas menunjukkan tidak adanya missing value dari semua variable dalam dataset Facebook."
      ],
      "metadata": {
        "id": "04toL9Nm2HMA"
      }
    },
    {
      "cell_type": "code",
      "execution_count": null,
      "metadata": {
        "id": "qqCPtIcUOvNq",
        "colab": {
          "base_uri": "https://localhost:8080/"
        },
        "outputId": "dbedf805-0054-43e3-9975-c616c69c6945"
      },
      "outputs": [
        {
          "output_type": "stream",
          "name": "stdout",
          "text": [
            "Duplicated Data on FB dataset : \n",
            "(1980, 7)\n",
            "(0, 7)\n"
          ]
        }
      ],
      "source": [
        "print('Duplicated Data on FB dataset : ')\n",
        "print(dataFB.shape)\n",
        "print(dataFB[dataFB.duplicated()].shape)"
      ]
    },
    {
      "cell_type": "markdown",
      "source": [
        "*   dataFB mempunyai 1980 baris dan 7 kolom.\n",
        "*   Setelah dicheck dengan duplicated() method ternyata tidak ada data yang terduplikasi.\n",
        "\n"
      ],
      "metadata": {
        "id": "SjEF7Q352N2Z"
      }
    },
    {
      "cell_type": "code",
      "execution_count": null,
      "metadata": {
        "id": "TiIIh1R7ZjbU",
        "colab": {
          "base_uri": "https://localhost:8080/",
          "height": 319
        },
        "outputId": "55e96666-9962-4137-ac84-af6d942140c0"
      },
      "outputs": [
        {
          "output_type": "execute_result",
          "data": {
            "text/plain": [
              "                 Open       High        Low      Close  Adj Close     Volume\n",
              "Date                                                                        \n",
              "2012-05-18  42.049999  45.000000  38.000000  38.230000  38.230000  573576400\n",
              "2012-05-21  36.529999  36.660000  33.000000  34.029999  34.029999  168192700\n",
              "2012-05-22  32.610001  33.590000  30.940001  31.000000  31.000000  101786600\n",
              "2012-05-23  31.370001  32.500000  31.360001  32.000000  32.000000   73600000\n",
              "2012-05-24  32.950001  33.209999  31.770000  33.029999  33.029999   50237200"
            ],
            "text/html": [
              "\n",
              "  <div id=\"df-c78e8788-b9ec-4a97-8bd7-ddc430508131\">\n",
              "    <div class=\"colab-df-container\">\n",
              "      <div>\n",
              "<style scoped>\n",
              "    .dataframe tbody tr th:only-of-type {\n",
              "        vertical-align: middle;\n",
              "    }\n",
              "\n",
              "    .dataframe tbody tr th {\n",
              "        vertical-align: top;\n",
              "    }\n",
              "\n",
              "    .dataframe thead th {\n",
              "        text-align: right;\n",
              "    }\n",
              "</style>\n",
              "<table border=\"1\" class=\"dataframe\">\n",
              "  <thead>\n",
              "    <tr style=\"text-align: right;\">\n",
              "      <th></th>\n",
              "      <th>Open</th>\n",
              "      <th>High</th>\n",
              "      <th>Low</th>\n",
              "      <th>Close</th>\n",
              "      <th>Adj Close</th>\n",
              "      <th>Volume</th>\n",
              "    </tr>\n",
              "    <tr>\n",
              "      <th>Date</th>\n",
              "      <th></th>\n",
              "      <th></th>\n",
              "      <th></th>\n",
              "      <th></th>\n",
              "      <th></th>\n",
              "      <th></th>\n",
              "    </tr>\n",
              "  </thead>\n",
              "  <tbody>\n",
              "    <tr>\n",
              "      <th>2012-05-18</th>\n",
              "      <td>42.049999</td>\n",
              "      <td>45.000000</td>\n",
              "      <td>38.000000</td>\n",
              "      <td>38.230000</td>\n",
              "      <td>38.230000</td>\n",
              "      <td>573576400</td>\n",
              "    </tr>\n",
              "    <tr>\n",
              "      <th>2012-05-21</th>\n",
              "      <td>36.529999</td>\n",
              "      <td>36.660000</td>\n",
              "      <td>33.000000</td>\n",
              "      <td>34.029999</td>\n",
              "      <td>34.029999</td>\n",
              "      <td>168192700</td>\n",
              "    </tr>\n",
              "    <tr>\n",
              "      <th>2012-05-22</th>\n",
              "      <td>32.610001</td>\n",
              "      <td>33.590000</td>\n",
              "      <td>30.940001</td>\n",
              "      <td>31.000000</td>\n",
              "      <td>31.000000</td>\n",
              "      <td>101786600</td>\n",
              "    </tr>\n",
              "    <tr>\n",
              "      <th>2012-05-23</th>\n",
              "      <td>31.370001</td>\n",
              "      <td>32.500000</td>\n",
              "      <td>31.360001</td>\n",
              "      <td>32.000000</td>\n",
              "      <td>32.000000</td>\n",
              "      <td>73600000</td>\n",
              "    </tr>\n",
              "    <tr>\n",
              "      <th>2012-05-24</th>\n",
              "      <td>32.950001</td>\n",
              "      <td>33.209999</td>\n",
              "      <td>31.770000</td>\n",
              "      <td>33.029999</td>\n",
              "      <td>33.029999</td>\n",
              "      <td>50237200</td>\n",
              "    </tr>\n",
              "  </tbody>\n",
              "</table>\n",
              "</div>\n",
              "      <button class=\"colab-df-convert\" onclick=\"convertToInteractive('df-c78e8788-b9ec-4a97-8bd7-ddc430508131')\"\n",
              "              title=\"Convert this dataframe to an interactive table.\"\n",
              "              style=\"display:none;\">\n",
              "        \n",
              "  <svg xmlns=\"http://www.w3.org/2000/svg\" height=\"24px\"viewBox=\"0 0 24 24\"\n",
              "       width=\"24px\">\n",
              "    <path d=\"M0 0h24v24H0V0z\" fill=\"none\"/>\n",
              "    <path d=\"M18.56 5.44l.94 2.06.94-2.06 2.06-.94-2.06-.94-.94-2.06-.94 2.06-2.06.94zm-11 1L8.5 8.5l.94-2.06 2.06-.94-2.06-.94L8.5 2.5l-.94 2.06-2.06.94zm10 10l.94 2.06.94-2.06 2.06-.94-2.06-.94-.94-2.06-.94 2.06-2.06.94z\"/><path d=\"M17.41 7.96l-1.37-1.37c-.4-.4-.92-.59-1.43-.59-.52 0-1.04.2-1.43.59L10.3 9.45l-7.72 7.72c-.78.78-.78 2.05 0 2.83L4 21.41c.39.39.9.59 1.41.59.51 0 1.02-.2 1.41-.59l7.78-7.78 2.81-2.81c.8-.78.8-2.07 0-2.86zM5.41 20L4 18.59l7.72-7.72 1.47 1.35L5.41 20z\"/>\n",
              "  </svg>\n",
              "      </button>\n",
              "      \n",
              "  <style>\n",
              "    .colab-df-container {\n",
              "      display:flex;\n",
              "      flex-wrap:wrap;\n",
              "      gap: 12px;\n",
              "    }\n",
              "\n",
              "    .colab-df-convert {\n",
              "      background-color: #E8F0FE;\n",
              "      border: none;\n",
              "      border-radius: 50%;\n",
              "      cursor: pointer;\n",
              "      display: none;\n",
              "      fill: #1967D2;\n",
              "      height: 32px;\n",
              "      padding: 0 0 0 0;\n",
              "      width: 32px;\n",
              "    }\n",
              "\n",
              "    .colab-df-convert:hover {\n",
              "      background-color: #E2EBFA;\n",
              "      box-shadow: 0px 1px 2px rgba(60, 64, 67, 0.3), 0px 1px 3px 1px rgba(60, 64, 67, 0.15);\n",
              "      fill: #174EA6;\n",
              "    }\n",
              "\n",
              "    [theme=dark] .colab-df-convert {\n",
              "      background-color: #3B4455;\n",
              "      fill: #D2E3FC;\n",
              "    }\n",
              "\n",
              "    [theme=dark] .colab-df-convert:hover {\n",
              "      background-color: #434B5C;\n",
              "      box-shadow: 0px 1px 3px 1px rgba(0, 0, 0, 0.15);\n",
              "      filter: drop-shadow(0px 1px 2px rgba(0, 0, 0, 0.3));\n",
              "      fill: #FFFFFF;\n",
              "    }\n",
              "  </style>\n",
              "\n",
              "      <script>\n",
              "        const buttonEl =\n",
              "          document.querySelector('#df-c78e8788-b9ec-4a97-8bd7-ddc430508131 button.colab-df-convert');\n",
              "        buttonEl.style.display =\n",
              "          google.colab.kernel.accessAllowed ? 'block' : 'none';\n",
              "\n",
              "        async function convertToInteractive(key) {\n",
              "          const element = document.querySelector('#df-c78e8788-b9ec-4a97-8bd7-ddc430508131');\n",
              "          const dataTable =\n",
              "            await google.colab.kernel.invokeFunction('convertToInteractive',\n",
              "                                                     [key], {});\n",
              "          if (!dataTable) return;\n",
              "\n",
              "          const docLinkHtml = 'Like what you see? Visit the ' +\n",
              "            '<a target=\"_blank\" href=https://colab.research.google.com/notebooks/data_table.ipynb>data table notebook</a>'\n",
              "            + ' to learn more about interactive tables.';\n",
              "          element.innerHTML = '';\n",
              "          dataTable['output_type'] = 'display_data';\n",
              "          await google.colab.output.renderOutput(dataTable, element);\n",
              "          const docLink = document.createElement('div');\n",
              "          docLink.innerHTML = docLinkHtml;\n",
              "          element.appendChild(docLink);\n",
              "        }\n",
              "      </script>\n",
              "    </div>\n",
              "  </div>\n",
              "  "
            ]
          },
          "metadata": {},
          "execution_count": 31
        }
      ],
      "source": [
        "# Parse dates and set \"Date\" column as index\n",
        "dataFB[\"Date\"] = pd.to_datetime(dataFB[\"Date\"])  # Convert \"Date\" column to datetime format\n",
        "dataFB.set_index(\"Date\", inplace=True)  # Set \"Date\" column as index\n",
        "dataFB.head()"
      ]
    },
    {
      "cell_type": "markdown",
      "source": [
        "*   Mengubah kolom `Date` dalam dataframe menjadi tipe data datetime untuk memudahkan proses pengolahan data selanjutnya.\n",
        "*   Menjadikan kolom `Date` yang sudah diubah sebagai index dalam dataframe.\n",
        "\n"
      ],
      "metadata": {
        "id": "4uQztLJH2k_I"
      }
    },
    {
      "cell_type": "markdown",
      "source": [
        "###**Convert Date Column**"
      ],
      "metadata": {
        "id": "PQlq3fYVCL2E"
      }
    },
    {
      "cell_type": "code",
      "execution_count": null,
      "metadata": {
        "id": "DrPMrCnxDooW",
        "colab": {
          "base_uri": "https://localhost:8080/"
        },
        "outputId": "70c03d76-0aba-4888-9023-adf96caa6c91"
      },
      "outputs": [
        {
          "output_type": "stream",
          "name": "stdout",
          "text": [
            "<class 'pandas.core.frame.DataFrame'>\n",
            "DatetimeIndex: 1980 entries, 2012-05-18 to 2020-04-01\n",
            "Data columns (total 6 columns):\n",
            " #   Column     Non-Null Count  Dtype  \n",
            "---  ------     --------------  -----  \n",
            " 0   Open       1980 non-null   float64\n",
            " 1   High       1980 non-null   float64\n",
            " 2   Low        1980 non-null   float64\n",
            " 3   Close      1980 non-null   float64\n",
            " 4   Adj Close  1980 non-null   float64\n",
            " 5   Volume     1980 non-null   int64  \n",
            "dtypes: float64(5), int64(1)\n",
            "memory usage: 108.3 KB\n"
          ]
        }
      ],
      "source": [
        "dataFB.info()"
      ]
    },
    {
      "cell_type": "markdown",
      "source": [
        "Setiap kolom pada dataset memiliki 1980 data dengan tipe data yang ada yaitu float dan integer."
      ],
      "metadata": {
        "id": "NeIqZN_V2x3I"
      }
    },
    {
      "cell_type": "code",
      "execution_count": null,
      "metadata": {
        "id": "smvg-VAp_Ufv",
        "colab": {
          "base_uri": "https://localhost:8080/",
          "height": 238
        },
        "outputId": "f186fbc1-bb6e-453f-a885-66f99143deb0"
      },
      "outputs": [
        {
          "output_type": "execute_result",
          "data": {
            "text/plain": [
              "                Price\n",
              "Date                 \n",
              "2012-05-18  38.230000\n",
              "2012-05-21  34.029999\n",
              "2012-05-22  31.000000\n",
              "2012-05-23  32.000000\n",
              "2012-05-24  33.029999"
            ],
            "text/html": [
              "\n",
              "  <div id=\"df-6ae32937-5736-4028-b0d0-969fe5be9c95\">\n",
              "    <div class=\"colab-df-container\">\n",
              "      <div>\n",
              "<style scoped>\n",
              "    .dataframe tbody tr th:only-of-type {\n",
              "        vertical-align: middle;\n",
              "    }\n",
              "\n",
              "    .dataframe tbody tr th {\n",
              "        vertical-align: top;\n",
              "    }\n",
              "\n",
              "    .dataframe thead th {\n",
              "        text-align: right;\n",
              "    }\n",
              "</style>\n",
              "<table border=\"1\" class=\"dataframe\">\n",
              "  <thead>\n",
              "    <tr style=\"text-align: right;\">\n",
              "      <th></th>\n",
              "      <th>Price</th>\n",
              "    </tr>\n",
              "    <tr>\n",
              "      <th>Date</th>\n",
              "      <th></th>\n",
              "    </tr>\n",
              "  </thead>\n",
              "  <tbody>\n",
              "    <tr>\n",
              "      <th>2012-05-18</th>\n",
              "      <td>38.230000</td>\n",
              "    </tr>\n",
              "    <tr>\n",
              "      <th>2012-05-21</th>\n",
              "      <td>34.029999</td>\n",
              "    </tr>\n",
              "    <tr>\n",
              "      <th>2012-05-22</th>\n",
              "      <td>31.000000</td>\n",
              "    </tr>\n",
              "    <tr>\n",
              "      <th>2012-05-23</th>\n",
              "      <td>32.000000</td>\n",
              "    </tr>\n",
              "    <tr>\n",
              "      <th>2012-05-24</th>\n",
              "      <td>33.029999</td>\n",
              "    </tr>\n",
              "  </tbody>\n",
              "</table>\n",
              "</div>\n",
              "      <button class=\"colab-df-convert\" onclick=\"convertToInteractive('df-6ae32937-5736-4028-b0d0-969fe5be9c95')\"\n",
              "              title=\"Convert this dataframe to an interactive table.\"\n",
              "              style=\"display:none;\">\n",
              "        \n",
              "  <svg xmlns=\"http://www.w3.org/2000/svg\" height=\"24px\"viewBox=\"0 0 24 24\"\n",
              "       width=\"24px\">\n",
              "    <path d=\"M0 0h24v24H0V0z\" fill=\"none\"/>\n",
              "    <path d=\"M18.56 5.44l.94 2.06.94-2.06 2.06-.94-2.06-.94-.94-2.06-.94 2.06-2.06.94zm-11 1L8.5 8.5l.94-2.06 2.06-.94-2.06-.94L8.5 2.5l-.94 2.06-2.06.94zm10 10l.94 2.06.94-2.06 2.06-.94-2.06-.94-.94-2.06-.94 2.06-2.06.94z\"/><path d=\"M17.41 7.96l-1.37-1.37c-.4-.4-.92-.59-1.43-.59-.52 0-1.04.2-1.43.59L10.3 9.45l-7.72 7.72c-.78.78-.78 2.05 0 2.83L4 21.41c.39.39.9.59 1.41.59.51 0 1.02-.2 1.41-.59l7.78-7.78 2.81-2.81c.8-.78.8-2.07 0-2.86zM5.41 20L4 18.59l7.72-7.72 1.47 1.35L5.41 20z\"/>\n",
              "  </svg>\n",
              "      </button>\n",
              "      \n",
              "  <style>\n",
              "    .colab-df-container {\n",
              "      display:flex;\n",
              "      flex-wrap:wrap;\n",
              "      gap: 12px;\n",
              "    }\n",
              "\n",
              "    .colab-df-convert {\n",
              "      background-color: #E8F0FE;\n",
              "      border: none;\n",
              "      border-radius: 50%;\n",
              "      cursor: pointer;\n",
              "      display: none;\n",
              "      fill: #1967D2;\n",
              "      height: 32px;\n",
              "      padding: 0 0 0 0;\n",
              "      width: 32px;\n",
              "    }\n",
              "\n",
              "    .colab-df-convert:hover {\n",
              "      background-color: #E2EBFA;\n",
              "      box-shadow: 0px 1px 2px rgba(60, 64, 67, 0.3), 0px 1px 3px 1px rgba(60, 64, 67, 0.15);\n",
              "      fill: #174EA6;\n",
              "    }\n",
              "\n",
              "    [theme=dark] .colab-df-convert {\n",
              "      background-color: #3B4455;\n",
              "      fill: #D2E3FC;\n",
              "    }\n",
              "\n",
              "    [theme=dark] .colab-df-convert:hover {\n",
              "      background-color: #434B5C;\n",
              "      box-shadow: 0px 1px 3px 1px rgba(0, 0, 0, 0.15);\n",
              "      filter: drop-shadow(0px 1px 2px rgba(0, 0, 0, 0.3));\n",
              "      fill: #FFFFFF;\n",
              "    }\n",
              "  </style>\n",
              "\n",
              "      <script>\n",
              "        const buttonEl =\n",
              "          document.querySelector('#df-6ae32937-5736-4028-b0d0-969fe5be9c95 button.colab-df-convert');\n",
              "        buttonEl.style.display =\n",
              "          google.colab.kernel.accessAllowed ? 'block' : 'none';\n",
              "\n",
              "        async function convertToInteractive(key) {\n",
              "          const element = document.querySelector('#df-6ae32937-5736-4028-b0d0-969fe5be9c95');\n",
              "          const dataTable =\n",
              "            await google.colab.kernel.invokeFunction('convertToInteractive',\n",
              "                                                     [key], {});\n",
              "          if (!dataTable) return;\n",
              "\n",
              "          const docLinkHtml = 'Like what you see? Visit the ' +\n",
              "            '<a target=\"_blank\" href=https://colab.research.google.com/notebooks/data_table.ipynb>data table notebook</a>'\n",
              "            + ' to learn more about interactive tables.';\n",
              "          element.innerHTML = '';\n",
              "          dataTable['output_type'] = 'display_data';\n",
              "          await google.colab.output.renderOutput(dataTable, element);\n",
              "          const docLink = document.createElement('div');\n",
              "          docLink.innerHTML = docLinkHtml;\n",
              "          element.appendChild(docLink);\n",
              "        }\n",
              "      </script>\n",
              "    </div>\n",
              "  </div>\n",
              "  "
            ]
          },
          "metadata": {},
          "execution_count": 33
        }
      ],
      "source": [
        "FB_price = pd.DataFrame(dataFB['Close']).rename(columns={'Close':'Price'})\n",
        "FB_price.head()"
      ]
    },
    {
      "cell_type": "markdown",
      "source": [
        "*   Membuat dataframe baru \"FB_price\" yang hanya menggunakan kolom `Date` dan `Close`\n",
        "*   Mengubah nama kolom `Close` menjadi `Price` dan menampilkan isi data teratas dari dataframe terbaru\n",
        "\n"
      ],
      "metadata": {
        "id": "9-LLGck1377k"
      }
    },
    {
      "cell_type": "markdown",
      "source": [
        "###**Creating Train, Test, and Validation Set for FB Dataset**\n"
      ],
      "metadata": {
        "id": "J8aayFrxEZMI"
      }
    },
    {
      "cell_type": "code",
      "source": [
        "stockFB = FB_price.copy()"
      ],
      "metadata": {
        "id": "-NbiwOBurzEg"
      },
      "execution_count": null,
      "outputs": []
    },
    {
      "cell_type": "code",
      "source": [
        "stockFB"
      ],
      "metadata": {
        "colab": {
          "base_uri": "https://localhost:8080/",
          "height": 455
        },
        "id": "ZcugPjF9ecZH",
        "outputId": "0f3db668-42cb-45b1-e369-fae1f770ee4e"
      },
      "execution_count": null,
      "outputs": [
        {
          "output_type": "execute_result",
          "data": {
            "text/plain": [
              "                 Price\n",
              "Date                  \n",
              "2012-05-18   38.230000\n",
              "2012-05-21   34.029999\n",
              "2012-05-22   31.000000\n",
              "2012-05-23   32.000000\n",
              "2012-05-24   33.029999\n",
              "...                ...\n",
              "2020-03-26  163.339996\n",
              "2020-03-27  156.789993\n",
              "2020-03-30  165.949997\n",
              "2020-03-31  166.800003\n",
              "2020-04-01  159.600006\n",
              "\n",
              "[1980 rows x 1 columns]"
            ],
            "text/html": [
              "\n",
              "  <div id=\"df-f25fd4ad-4028-46f9-b25e-6b671a677b5b\">\n",
              "    <div class=\"colab-df-container\">\n",
              "      <div>\n",
              "<style scoped>\n",
              "    .dataframe tbody tr th:only-of-type {\n",
              "        vertical-align: middle;\n",
              "    }\n",
              "\n",
              "    .dataframe tbody tr th {\n",
              "        vertical-align: top;\n",
              "    }\n",
              "\n",
              "    .dataframe thead th {\n",
              "        text-align: right;\n",
              "    }\n",
              "</style>\n",
              "<table border=\"1\" class=\"dataframe\">\n",
              "  <thead>\n",
              "    <tr style=\"text-align: right;\">\n",
              "      <th></th>\n",
              "      <th>Price</th>\n",
              "    </tr>\n",
              "    <tr>\n",
              "      <th>Date</th>\n",
              "      <th></th>\n",
              "    </tr>\n",
              "  </thead>\n",
              "  <tbody>\n",
              "    <tr>\n",
              "      <th>2012-05-18</th>\n",
              "      <td>38.230000</td>\n",
              "    </tr>\n",
              "    <tr>\n",
              "      <th>2012-05-21</th>\n",
              "      <td>34.029999</td>\n",
              "    </tr>\n",
              "    <tr>\n",
              "      <th>2012-05-22</th>\n",
              "      <td>31.000000</td>\n",
              "    </tr>\n",
              "    <tr>\n",
              "      <th>2012-05-23</th>\n",
              "      <td>32.000000</td>\n",
              "    </tr>\n",
              "    <tr>\n",
              "      <th>2012-05-24</th>\n",
              "      <td>33.029999</td>\n",
              "    </tr>\n",
              "    <tr>\n",
              "      <th>...</th>\n",
              "      <td>...</td>\n",
              "    </tr>\n",
              "    <tr>\n",
              "      <th>2020-03-26</th>\n",
              "      <td>163.339996</td>\n",
              "    </tr>\n",
              "    <tr>\n",
              "      <th>2020-03-27</th>\n",
              "      <td>156.789993</td>\n",
              "    </tr>\n",
              "    <tr>\n",
              "      <th>2020-03-30</th>\n",
              "      <td>165.949997</td>\n",
              "    </tr>\n",
              "    <tr>\n",
              "      <th>2020-03-31</th>\n",
              "      <td>166.800003</td>\n",
              "    </tr>\n",
              "    <tr>\n",
              "      <th>2020-04-01</th>\n",
              "      <td>159.600006</td>\n",
              "    </tr>\n",
              "  </tbody>\n",
              "</table>\n",
              "<p>1980 rows × 1 columns</p>\n",
              "</div>\n",
              "      <button class=\"colab-df-convert\" onclick=\"convertToInteractive('df-f25fd4ad-4028-46f9-b25e-6b671a677b5b')\"\n",
              "              title=\"Convert this dataframe to an interactive table.\"\n",
              "              style=\"display:none;\">\n",
              "        \n",
              "  <svg xmlns=\"http://www.w3.org/2000/svg\" height=\"24px\"viewBox=\"0 0 24 24\"\n",
              "       width=\"24px\">\n",
              "    <path d=\"M0 0h24v24H0V0z\" fill=\"none\"/>\n",
              "    <path d=\"M18.56 5.44l.94 2.06.94-2.06 2.06-.94-2.06-.94-.94-2.06-.94 2.06-2.06.94zm-11 1L8.5 8.5l.94-2.06 2.06-.94-2.06-.94L8.5 2.5l-.94 2.06-2.06.94zm10 10l.94 2.06.94-2.06 2.06-.94-2.06-.94-.94-2.06-.94 2.06-2.06.94z\"/><path d=\"M17.41 7.96l-1.37-1.37c-.4-.4-.92-.59-1.43-.59-.52 0-1.04.2-1.43.59L10.3 9.45l-7.72 7.72c-.78.78-.78 2.05 0 2.83L4 21.41c.39.39.9.59 1.41.59.51 0 1.02-.2 1.41-.59l7.78-7.78 2.81-2.81c.8-.78.8-2.07 0-2.86zM5.41 20L4 18.59l7.72-7.72 1.47 1.35L5.41 20z\"/>\n",
              "  </svg>\n",
              "      </button>\n",
              "      \n",
              "  <style>\n",
              "    .colab-df-container {\n",
              "      display:flex;\n",
              "      flex-wrap:wrap;\n",
              "      gap: 12px;\n",
              "    }\n",
              "\n",
              "    .colab-df-convert {\n",
              "      background-color: #E8F0FE;\n",
              "      border: none;\n",
              "      border-radius: 50%;\n",
              "      cursor: pointer;\n",
              "      display: none;\n",
              "      fill: #1967D2;\n",
              "      height: 32px;\n",
              "      padding: 0 0 0 0;\n",
              "      width: 32px;\n",
              "    }\n",
              "\n",
              "    .colab-df-convert:hover {\n",
              "      background-color: #E2EBFA;\n",
              "      box-shadow: 0px 1px 2px rgba(60, 64, 67, 0.3), 0px 1px 3px 1px rgba(60, 64, 67, 0.15);\n",
              "      fill: #174EA6;\n",
              "    }\n",
              "\n",
              "    [theme=dark] .colab-df-convert {\n",
              "      background-color: #3B4455;\n",
              "      fill: #D2E3FC;\n",
              "    }\n",
              "\n",
              "    [theme=dark] .colab-df-convert:hover {\n",
              "      background-color: #434B5C;\n",
              "      box-shadow: 0px 1px 3px 1px rgba(0, 0, 0, 0.15);\n",
              "      filter: drop-shadow(0px 1px 2px rgba(0, 0, 0, 0.3));\n",
              "      fill: #FFFFFF;\n",
              "    }\n",
              "  </style>\n",
              "\n",
              "      <script>\n",
              "        const buttonEl =\n",
              "          document.querySelector('#df-f25fd4ad-4028-46f9-b25e-6b671a677b5b button.colab-df-convert');\n",
              "        buttonEl.style.display =\n",
              "          google.colab.kernel.accessAllowed ? 'block' : 'none';\n",
              "\n",
              "        async function convertToInteractive(key) {\n",
              "          const element = document.querySelector('#df-f25fd4ad-4028-46f9-b25e-6b671a677b5b');\n",
              "          const dataTable =\n",
              "            await google.colab.kernel.invokeFunction('convertToInteractive',\n",
              "                                                     [key], {});\n",
              "          if (!dataTable) return;\n",
              "\n",
              "          const docLinkHtml = 'Like what you see? Visit the ' +\n",
              "            '<a target=\"_blank\" href=https://colab.research.google.com/notebooks/data_table.ipynb>data table notebook</a>'\n",
              "            + ' to learn more about interactive tables.';\n",
              "          element.innerHTML = '';\n",
              "          dataTable['output_type'] = 'display_data';\n",
              "          await google.colab.output.renderOutput(dataTable, element);\n",
              "          const docLink = document.createElement('div');\n",
              "          docLink.innerHTML = docLinkHtml;\n",
              "          element.appendChild(docLink);\n",
              "        }\n",
              "      </script>\n",
              "    </div>\n",
              "  </div>\n",
              "  "
            ]
          },
          "metadata": {},
          "execution_count": 35
        }
      ]
    },
    {
      "cell_type": "code",
      "source": [
        "# Calculate the data\n",
        "total_length1 = len(stockFB)\n",
        "train_index1 = int(0.8 * total_length1)\n",
        "val_index1 = int(0.9 * total_length1)\n",
        "\n",
        "# Split the dataset\n",
        "training_set1 = stockFB.iloc[:train_index1][['Price']]\n",
        "val_set1 = stockFB.iloc[train_index1:val_index1][['Price']]\n",
        "test_set1 = stockFB.iloc[val_index1:][['Price']]"
      ],
      "metadata": {
        "id": "1t86v8tXrzAH"
      },
      "execution_count": null,
      "outputs": []
    },
    {
      "cell_type": "code",
      "source": [
        "print('Train set: {} baris x {} kolom'.format(training_set1.shape[0], training_set1.shape[1]))\n",
        "print('Test set: {} baris x {} kolom'.format(test_set1.shape[0], test_set1.shape[1]))\n",
        "print('Validation set: {} baris x {} kolom'.format(val_set1.shape[0], val_set1.shape[1]))"
      ],
      "metadata": {
        "colab": {
          "base_uri": "https://localhost:8080/"
        },
        "id": "Gr31-22Zry7n",
        "outputId": "ed8bbfb2-75da-4103-f66a-15aa625e6155"
      },
      "execution_count": null,
      "outputs": [
        {
          "output_type": "stream",
          "name": "stdout",
          "text": [
            "Train set: 1584 baris x 1 kolom\n",
            "Test set: 198 baris x 1 kolom\n",
            "Validation set: 198 baris x 1 kolom\n"
          ]
        }
      ]
    },
    {
      "cell_type": "markdown",
      "source": [
        "Output diatas menunjukkan jumlah data setelah dibagi menjadi 3 dengan proporsi 80% training set, 10% test set, dan 10% validation set."
      ],
      "metadata": {
        "id": "tKzjjQacxWPl"
      }
    },
    {
      "cell_type": "code",
      "source": [
        "training_set1.head(3)"
      ],
      "metadata": {
        "colab": {
          "base_uri": "https://localhost:8080/",
          "height": 175
        },
        "id": "elQ-XrVzry3r",
        "outputId": "e7c1f1be-2ef8-45e9-a7cf-f5434deb81a7"
      },
      "execution_count": null,
      "outputs": [
        {
          "output_type": "execute_result",
          "data": {
            "text/plain": [
              "                Price\n",
              "Date                 \n",
              "2012-05-18  38.230000\n",
              "2012-05-21  34.029999\n",
              "2012-05-22  31.000000"
            ],
            "text/html": [
              "\n",
              "  <div id=\"df-af2ba622-be89-4161-b0fc-d0e3beb378e9\">\n",
              "    <div class=\"colab-df-container\">\n",
              "      <div>\n",
              "<style scoped>\n",
              "    .dataframe tbody tr th:only-of-type {\n",
              "        vertical-align: middle;\n",
              "    }\n",
              "\n",
              "    .dataframe tbody tr th {\n",
              "        vertical-align: top;\n",
              "    }\n",
              "\n",
              "    .dataframe thead th {\n",
              "        text-align: right;\n",
              "    }\n",
              "</style>\n",
              "<table border=\"1\" class=\"dataframe\">\n",
              "  <thead>\n",
              "    <tr style=\"text-align: right;\">\n",
              "      <th></th>\n",
              "      <th>Price</th>\n",
              "    </tr>\n",
              "    <tr>\n",
              "      <th>Date</th>\n",
              "      <th></th>\n",
              "    </tr>\n",
              "  </thead>\n",
              "  <tbody>\n",
              "    <tr>\n",
              "      <th>2012-05-18</th>\n",
              "      <td>38.230000</td>\n",
              "    </tr>\n",
              "    <tr>\n",
              "      <th>2012-05-21</th>\n",
              "      <td>34.029999</td>\n",
              "    </tr>\n",
              "    <tr>\n",
              "      <th>2012-05-22</th>\n",
              "      <td>31.000000</td>\n",
              "    </tr>\n",
              "  </tbody>\n",
              "</table>\n",
              "</div>\n",
              "      <button class=\"colab-df-convert\" onclick=\"convertToInteractive('df-af2ba622-be89-4161-b0fc-d0e3beb378e9')\"\n",
              "              title=\"Convert this dataframe to an interactive table.\"\n",
              "              style=\"display:none;\">\n",
              "        \n",
              "  <svg xmlns=\"http://www.w3.org/2000/svg\" height=\"24px\"viewBox=\"0 0 24 24\"\n",
              "       width=\"24px\">\n",
              "    <path d=\"M0 0h24v24H0V0z\" fill=\"none\"/>\n",
              "    <path d=\"M18.56 5.44l.94 2.06.94-2.06 2.06-.94-2.06-.94-.94-2.06-.94 2.06-2.06.94zm-11 1L8.5 8.5l.94-2.06 2.06-.94-2.06-.94L8.5 2.5l-.94 2.06-2.06.94zm10 10l.94 2.06.94-2.06 2.06-.94-2.06-.94-.94-2.06-.94 2.06-2.06.94z\"/><path d=\"M17.41 7.96l-1.37-1.37c-.4-.4-.92-.59-1.43-.59-.52 0-1.04.2-1.43.59L10.3 9.45l-7.72 7.72c-.78.78-.78 2.05 0 2.83L4 21.41c.39.39.9.59 1.41.59.51 0 1.02-.2 1.41-.59l7.78-7.78 2.81-2.81c.8-.78.8-2.07 0-2.86zM5.41 20L4 18.59l7.72-7.72 1.47 1.35L5.41 20z\"/>\n",
              "  </svg>\n",
              "      </button>\n",
              "      \n",
              "  <style>\n",
              "    .colab-df-container {\n",
              "      display:flex;\n",
              "      flex-wrap:wrap;\n",
              "      gap: 12px;\n",
              "    }\n",
              "\n",
              "    .colab-df-convert {\n",
              "      background-color: #E8F0FE;\n",
              "      border: none;\n",
              "      border-radius: 50%;\n",
              "      cursor: pointer;\n",
              "      display: none;\n",
              "      fill: #1967D2;\n",
              "      height: 32px;\n",
              "      padding: 0 0 0 0;\n",
              "      width: 32px;\n",
              "    }\n",
              "\n",
              "    .colab-df-convert:hover {\n",
              "      background-color: #E2EBFA;\n",
              "      box-shadow: 0px 1px 2px rgba(60, 64, 67, 0.3), 0px 1px 3px 1px rgba(60, 64, 67, 0.15);\n",
              "      fill: #174EA6;\n",
              "    }\n",
              "\n",
              "    [theme=dark] .colab-df-convert {\n",
              "      background-color: #3B4455;\n",
              "      fill: #D2E3FC;\n",
              "    }\n",
              "\n",
              "    [theme=dark] .colab-df-convert:hover {\n",
              "      background-color: #434B5C;\n",
              "      box-shadow: 0px 1px 3px 1px rgba(0, 0, 0, 0.15);\n",
              "      filter: drop-shadow(0px 1px 2px rgba(0, 0, 0, 0.3));\n",
              "      fill: #FFFFFF;\n",
              "    }\n",
              "  </style>\n",
              "\n",
              "      <script>\n",
              "        const buttonEl =\n",
              "          document.querySelector('#df-af2ba622-be89-4161-b0fc-d0e3beb378e9 button.colab-df-convert');\n",
              "        buttonEl.style.display =\n",
              "          google.colab.kernel.accessAllowed ? 'block' : 'none';\n",
              "\n",
              "        async function convertToInteractive(key) {\n",
              "          const element = document.querySelector('#df-af2ba622-be89-4161-b0fc-d0e3beb378e9');\n",
              "          const dataTable =\n",
              "            await google.colab.kernel.invokeFunction('convertToInteractive',\n",
              "                                                     [key], {});\n",
              "          if (!dataTable) return;\n",
              "\n",
              "          const docLinkHtml = 'Like what you see? Visit the ' +\n",
              "            '<a target=\"_blank\" href=https://colab.research.google.com/notebooks/data_table.ipynb>data table notebook</a>'\n",
              "            + ' to learn more about interactive tables.';\n",
              "          element.innerHTML = '';\n",
              "          dataTable['output_type'] = 'display_data';\n",
              "          await google.colab.output.renderOutput(dataTable, element);\n",
              "          const docLink = document.createElement('div');\n",
              "          docLink.innerHTML = docLinkHtml;\n",
              "          element.appendChild(docLink);\n",
              "        }\n",
              "      </script>\n",
              "    </div>\n",
              "  </div>\n",
              "  "
            ]
          },
          "metadata": {},
          "execution_count": 38
        }
      ]
    },
    {
      "cell_type": "code",
      "source": [
        "val_set1.head(3)"
      ],
      "metadata": {
        "colab": {
          "base_uri": "https://localhost:8080/",
          "height": 175
        },
        "id": "HVJ6VfWWshlW",
        "outputId": "6cb3f507-28e3-4170-a044-e0b5279880fa"
      },
      "execution_count": null,
      "outputs": [
        {
          "output_type": "execute_result",
          "data": {
            "text/plain": [
              "                 Price\n",
              "Date                  \n",
              "2018-09-05  167.179993\n",
              "2018-09-06  162.529999\n",
              "2018-09-07  163.039993"
            ],
            "text/html": [
              "\n",
              "  <div id=\"df-d3dd4ff0-8c2b-410b-a5a8-cba9d5708212\">\n",
              "    <div class=\"colab-df-container\">\n",
              "      <div>\n",
              "<style scoped>\n",
              "    .dataframe tbody tr th:only-of-type {\n",
              "        vertical-align: middle;\n",
              "    }\n",
              "\n",
              "    .dataframe tbody tr th {\n",
              "        vertical-align: top;\n",
              "    }\n",
              "\n",
              "    .dataframe thead th {\n",
              "        text-align: right;\n",
              "    }\n",
              "</style>\n",
              "<table border=\"1\" class=\"dataframe\">\n",
              "  <thead>\n",
              "    <tr style=\"text-align: right;\">\n",
              "      <th></th>\n",
              "      <th>Price</th>\n",
              "    </tr>\n",
              "    <tr>\n",
              "      <th>Date</th>\n",
              "      <th></th>\n",
              "    </tr>\n",
              "  </thead>\n",
              "  <tbody>\n",
              "    <tr>\n",
              "      <th>2018-09-05</th>\n",
              "      <td>167.179993</td>\n",
              "    </tr>\n",
              "    <tr>\n",
              "      <th>2018-09-06</th>\n",
              "      <td>162.529999</td>\n",
              "    </tr>\n",
              "    <tr>\n",
              "      <th>2018-09-07</th>\n",
              "      <td>163.039993</td>\n",
              "    </tr>\n",
              "  </tbody>\n",
              "</table>\n",
              "</div>\n",
              "      <button class=\"colab-df-convert\" onclick=\"convertToInteractive('df-d3dd4ff0-8c2b-410b-a5a8-cba9d5708212')\"\n",
              "              title=\"Convert this dataframe to an interactive table.\"\n",
              "              style=\"display:none;\">\n",
              "        \n",
              "  <svg xmlns=\"http://www.w3.org/2000/svg\" height=\"24px\"viewBox=\"0 0 24 24\"\n",
              "       width=\"24px\">\n",
              "    <path d=\"M0 0h24v24H0V0z\" fill=\"none\"/>\n",
              "    <path d=\"M18.56 5.44l.94 2.06.94-2.06 2.06-.94-2.06-.94-.94-2.06-.94 2.06-2.06.94zm-11 1L8.5 8.5l.94-2.06 2.06-.94-2.06-.94L8.5 2.5l-.94 2.06-2.06.94zm10 10l.94 2.06.94-2.06 2.06-.94-2.06-.94-.94-2.06-.94 2.06-2.06.94z\"/><path d=\"M17.41 7.96l-1.37-1.37c-.4-.4-.92-.59-1.43-.59-.52 0-1.04.2-1.43.59L10.3 9.45l-7.72 7.72c-.78.78-.78 2.05 0 2.83L4 21.41c.39.39.9.59 1.41.59.51 0 1.02-.2 1.41-.59l7.78-7.78 2.81-2.81c.8-.78.8-2.07 0-2.86zM5.41 20L4 18.59l7.72-7.72 1.47 1.35L5.41 20z\"/>\n",
              "  </svg>\n",
              "      </button>\n",
              "      \n",
              "  <style>\n",
              "    .colab-df-container {\n",
              "      display:flex;\n",
              "      flex-wrap:wrap;\n",
              "      gap: 12px;\n",
              "    }\n",
              "\n",
              "    .colab-df-convert {\n",
              "      background-color: #E8F0FE;\n",
              "      border: none;\n",
              "      border-radius: 50%;\n",
              "      cursor: pointer;\n",
              "      display: none;\n",
              "      fill: #1967D2;\n",
              "      height: 32px;\n",
              "      padding: 0 0 0 0;\n",
              "      width: 32px;\n",
              "    }\n",
              "\n",
              "    .colab-df-convert:hover {\n",
              "      background-color: #E2EBFA;\n",
              "      box-shadow: 0px 1px 2px rgba(60, 64, 67, 0.3), 0px 1px 3px 1px rgba(60, 64, 67, 0.15);\n",
              "      fill: #174EA6;\n",
              "    }\n",
              "\n",
              "    [theme=dark] .colab-df-convert {\n",
              "      background-color: #3B4455;\n",
              "      fill: #D2E3FC;\n",
              "    }\n",
              "\n",
              "    [theme=dark] .colab-df-convert:hover {\n",
              "      background-color: #434B5C;\n",
              "      box-shadow: 0px 1px 3px 1px rgba(0, 0, 0, 0.15);\n",
              "      filter: drop-shadow(0px 1px 2px rgba(0, 0, 0, 0.3));\n",
              "      fill: #FFFFFF;\n",
              "    }\n",
              "  </style>\n",
              "\n",
              "      <script>\n",
              "        const buttonEl =\n",
              "          document.querySelector('#df-d3dd4ff0-8c2b-410b-a5a8-cba9d5708212 button.colab-df-convert');\n",
              "        buttonEl.style.display =\n",
              "          google.colab.kernel.accessAllowed ? 'block' : 'none';\n",
              "\n",
              "        async function convertToInteractive(key) {\n",
              "          const element = document.querySelector('#df-d3dd4ff0-8c2b-410b-a5a8-cba9d5708212');\n",
              "          const dataTable =\n",
              "            await google.colab.kernel.invokeFunction('convertToInteractive',\n",
              "                                                     [key], {});\n",
              "          if (!dataTable) return;\n",
              "\n",
              "          const docLinkHtml = 'Like what you see? Visit the ' +\n",
              "            '<a target=\"_blank\" href=https://colab.research.google.com/notebooks/data_table.ipynb>data table notebook</a>'\n",
              "            + ' to learn more about interactive tables.';\n",
              "          element.innerHTML = '';\n",
              "          dataTable['output_type'] = 'display_data';\n",
              "          await google.colab.output.renderOutput(dataTable, element);\n",
              "          const docLink = document.createElement('div');\n",
              "          docLink.innerHTML = docLinkHtml;\n",
              "          element.appendChild(docLink);\n",
              "        }\n",
              "      </script>\n",
              "    </div>\n",
              "  </div>\n",
              "  "
            ]
          },
          "metadata": {},
          "execution_count": 39
        }
      ]
    },
    {
      "cell_type": "code",
      "source": [
        "test_set1.head(3)"
      ],
      "metadata": {
        "colab": {
          "base_uri": "https://localhost:8080/",
          "height": 175
        },
        "id": "qS54Brq4sk1f",
        "outputId": "f556d12d-3f26-4c6c-f91a-27378e8a8f84"
      },
      "execution_count": null,
      "outputs": [
        {
          "output_type": "execute_result",
          "data": {
            "text/plain": [
              "                 Price\n",
              "Date                  \n",
              "2019-06-20  189.529999\n",
              "2019-06-21  191.139999\n",
              "2019-06-24  192.600006"
            ],
            "text/html": [
              "\n",
              "  <div id=\"df-79de7042-74e5-476b-87d9-06c922b26bac\">\n",
              "    <div class=\"colab-df-container\">\n",
              "      <div>\n",
              "<style scoped>\n",
              "    .dataframe tbody tr th:only-of-type {\n",
              "        vertical-align: middle;\n",
              "    }\n",
              "\n",
              "    .dataframe tbody tr th {\n",
              "        vertical-align: top;\n",
              "    }\n",
              "\n",
              "    .dataframe thead th {\n",
              "        text-align: right;\n",
              "    }\n",
              "</style>\n",
              "<table border=\"1\" class=\"dataframe\">\n",
              "  <thead>\n",
              "    <tr style=\"text-align: right;\">\n",
              "      <th></th>\n",
              "      <th>Price</th>\n",
              "    </tr>\n",
              "    <tr>\n",
              "      <th>Date</th>\n",
              "      <th></th>\n",
              "    </tr>\n",
              "  </thead>\n",
              "  <tbody>\n",
              "    <tr>\n",
              "      <th>2019-06-20</th>\n",
              "      <td>189.529999</td>\n",
              "    </tr>\n",
              "    <tr>\n",
              "      <th>2019-06-21</th>\n",
              "      <td>191.139999</td>\n",
              "    </tr>\n",
              "    <tr>\n",
              "      <th>2019-06-24</th>\n",
              "      <td>192.600006</td>\n",
              "    </tr>\n",
              "  </tbody>\n",
              "</table>\n",
              "</div>\n",
              "      <button class=\"colab-df-convert\" onclick=\"convertToInteractive('df-79de7042-74e5-476b-87d9-06c922b26bac')\"\n",
              "              title=\"Convert this dataframe to an interactive table.\"\n",
              "              style=\"display:none;\">\n",
              "        \n",
              "  <svg xmlns=\"http://www.w3.org/2000/svg\" height=\"24px\"viewBox=\"0 0 24 24\"\n",
              "       width=\"24px\">\n",
              "    <path d=\"M0 0h24v24H0V0z\" fill=\"none\"/>\n",
              "    <path d=\"M18.56 5.44l.94 2.06.94-2.06 2.06-.94-2.06-.94-.94-2.06-.94 2.06-2.06.94zm-11 1L8.5 8.5l.94-2.06 2.06-.94-2.06-.94L8.5 2.5l-.94 2.06-2.06.94zm10 10l.94 2.06.94-2.06 2.06-.94-2.06-.94-.94-2.06-.94 2.06-2.06.94z\"/><path d=\"M17.41 7.96l-1.37-1.37c-.4-.4-.92-.59-1.43-.59-.52 0-1.04.2-1.43.59L10.3 9.45l-7.72 7.72c-.78.78-.78 2.05 0 2.83L4 21.41c.39.39.9.59 1.41.59.51 0 1.02-.2 1.41-.59l7.78-7.78 2.81-2.81c.8-.78.8-2.07 0-2.86zM5.41 20L4 18.59l7.72-7.72 1.47 1.35L5.41 20z\"/>\n",
              "  </svg>\n",
              "      </button>\n",
              "      \n",
              "  <style>\n",
              "    .colab-df-container {\n",
              "      display:flex;\n",
              "      flex-wrap:wrap;\n",
              "      gap: 12px;\n",
              "    }\n",
              "\n",
              "    .colab-df-convert {\n",
              "      background-color: #E8F0FE;\n",
              "      border: none;\n",
              "      border-radius: 50%;\n",
              "      cursor: pointer;\n",
              "      display: none;\n",
              "      fill: #1967D2;\n",
              "      height: 32px;\n",
              "      padding: 0 0 0 0;\n",
              "      width: 32px;\n",
              "    }\n",
              "\n",
              "    .colab-df-convert:hover {\n",
              "      background-color: #E2EBFA;\n",
              "      box-shadow: 0px 1px 2px rgba(60, 64, 67, 0.3), 0px 1px 3px 1px rgba(60, 64, 67, 0.15);\n",
              "      fill: #174EA6;\n",
              "    }\n",
              "\n",
              "    [theme=dark] .colab-df-convert {\n",
              "      background-color: #3B4455;\n",
              "      fill: #D2E3FC;\n",
              "    }\n",
              "\n",
              "    [theme=dark] .colab-df-convert:hover {\n",
              "      background-color: #434B5C;\n",
              "      box-shadow: 0px 1px 3px 1px rgba(0, 0, 0, 0.15);\n",
              "      filter: drop-shadow(0px 1px 2px rgba(0, 0, 0, 0.3));\n",
              "      fill: #FFFFFF;\n",
              "    }\n",
              "  </style>\n",
              "\n",
              "      <script>\n",
              "        const buttonEl =\n",
              "          document.querySelector('#df-79de7042-74e5-476b-87d9-06c922b26bac button.colab-df-convert');\n",
              "        buttonEl.style.display =\n",
              "          google.colab.kernel.accessAllowed ? 'block' : 'none';\n",
              "\n",
              "        async function convertToInteractive(key) {\n",
              "          const element = document.querySelector('#df-79de7042-74e5-476b-87d9-06c922b26bac');\n",
              "          const dataTable =\n",
              "            await google.colab.kernel.invokeFunction('convertToInteractive',\n",
              "                                                     [key], {});\n",
              "          if (!dataTable) return;\n",
              "\n",
              "          const docLinkHtml = 'Like what you see? Visit the ' +\n",
              "            '<a target=\"_blank\" href=https://colab.research.google.com/notebooks/data_table.ipynb>data table notebook</a>'\n",
              "            + ' to learn more about interactive tables.';\n",
              "          element.innerHTML = '';\n",
              "          dataTable['output_type'] = 'display_data';\n",
              "          await google.colab.output.renderOutput(dataTable, element);\n",
              "          const docLink = document.createElement('div');\n",
              "          docLink.innerHTML = docLinkHtml;\n",
              "          element.appendChild(docLink);\n",
              "        }\n",
              "      </script>\n",
              "    </div>\n",
              "  </div>\n",
              "  "
            ]
          },
          "metadata": {},
          "execution_count": 40
        }
      ]
    },
    {
      "cell_type": "code",
      "source": [
        "scaler1 = MinMaxScaler(feature_range=(0,1))\n",
        "training_set1 = scaler1.fit_transform(training_set)\n",
        "val_set1 = scaler1.fit_transform(val_set)\n",
        "test_set1 = test_set1.to_numpy()"
      ],
      "metadata": {
        "id": "06eTSjV5sqeu"
      },
      "execution_count": null,
      "outputs": []
    },
    {
      "cell_type": "markdown",
      "source": [
        "\n",
        "\n",
        "*   Melakukan scaling dengan range angka 0 sampai 1 dan normalisasi data pada training set.\n",
        "*   Melakukan scaling dengan range angka 0 sampai 1 dan normalisasi data pada validation set.\n",
        "*   Melakukan transformasi data pada testing set menjadi numpy array.\n",
        "\n",
        "\n"
      ],
      "metadata": {
        "id": "OqHmVP0cuxMU"
      }
    },
    {
      "cell_type": "code",
      "source": [
        "timesteps = 5\n",
        "x_train1 = []\n",
        "y_train1 = []\n",
        "for i in range(timesteps, training_set1.shape[0] - timesteps + 1):\n",
        "    x_train1.append(training_set1[i-timesteps:i, 0])\n",
        "    y_train1.append(training_set1[i:i+timesteps, 0])\n",
        "\n",
        "x_train1, y_train1 = np.array(x_train1), np.array(y_train1)\n",
        "\n",
        "print(x_train1[0], y_train1[0])\n",
        "print(x_train1[1], y_train1[1])"
      ],
      "metadata": {
        "colab": {
          "base_uri": "https://localhost:8080/"
        },
        "id": "y7dOulWvtOvk",
        "outputId": "2eb64315-06e2-433c-eec3-91410825f33c"
      },
      "execution_count": null,
      "outputs": [
        {
          "output_type": "stream",
          "name": "stdout",
          "text": [
            "[0.02650821 0.02700649 0.02643348 0.02531236 0.02426598] [0.02491374 0.02501339 0.02561132 0.02571098 0.02596011]\n",
            "[0.02700649 0.02643348 0.02531236 0.02426598 0.02491374] [0.02501339 0.02561132 0.02571098 0.02596011 0.02536218]\n"
          ]
        }
      ]
    },
    {
      "cell_type": "markdown",
      "source": [
        "Training set dibuat dengan menggunakan timesteps sebesar 5. Dari output diatas, 5 data pertama digunakan sebagai input (window size) dan 5 data berikutnya merupakan output (horizon).\n",
        "\n"
      ],
      "metadata": {
        "id": "tNUSJ_BWu252"
      }
    },
    {
      "cell_type": "code",
      "source": [
        "x_train1 = x_train1.reshape((x_train1.shape[0], x_train1.shape[1], 1))\n",
        "idx_train = np.random.permutation(len(x_train1))\n",
        "x_train1 = x_train1[idx_train]\n",
        "y_train1 = y_train1[idx_train]"
      ],
      "metadata": {
        "id": "xSgaxQZGuWf6"
      },
      "execution_count": null,
      "outputs": []
    },
    {
      "cell_type": "markdown",
      "source": [
        "*   Mengubah dimensi `x_train1` agar sesuai dengan model yang akan digunakan. Dimensi `x_train1` sebelumnya (jumlah sampel, timesteps) dan diubah menjadi (jumlah sampel, timesteps, 1).\n",
        "*   Variable `idx_train` untuk membuat array berisi indeks secara acak. Ini digunakan untuk mengacak urutan sampel training set sehingga model dapat belajar lebih baik.\n",
        "\n"
      ],
      "metadata": {
        "id": "h8BWuEIyvXln"
      }
    },
    {
      "cell_type": "code",
      "source": [
        "timesteps = 5\n",
        "x_val1 = []\n",
        "y_val1 = []\n",
        "for i in range(timesteps, val_set1.shape[0] - timesteps + 1):\n",
        "    x_val1.append(val_set1[i-timesteps:i, 0])\n",
        "    y_val1.append(val_set1[i:i+timesteps, 0])\n",
        "\n",
        "x_val1, y_val1 = np.array(x_val1), np.array(y_val1)\n",
        "\n",
        "print(x_val1[0], y_val1[0])\n",
        "print(x_val1[1], y_val1[1])"
      ],
      "metadata": {
        "colab": {
          "base_uri": "https://localhost:8080/"
        },
        "id": "WFLUOx_DvYkS",
        "outputId": "59405e5e-631c-4400-f5bc-23ba3bb79ff7"
      },
      "execution_count": null,
      "outputs": [
        {
          "output_type": "stream",
          "name": "stdout",
          "text": [
            "[0.39782037 0.39615436 0.38081354 0.37123422 0.37526033] [0.3831737  0.37914758 0.36686101 0.35276966 0.35242262]\n",
            "[0.39615436 0.38081354 0.37123422 0.37526033 0.3831737 ] [0.37914758 0.36686101 0.35276966 0.35242262 0.35575453]\n"
          ]
        }
      ]
    },
    {
      "cell_type": "markdown",
      "source": [
        "Validation set dibuat dengan menggunakan timesteps sebesar 5. Dari output diatas, 5 data pertama digunakan sebagai input (window size) dan 5 data berikutnya merupakan output (horizon).\n",
        "\n"
      ],
      "metadata": {
        "id": "gQ9U8vVvvi2C"
      }
    },
    {
      "cell_type": "code",
      "source": [
        "x_val1 = x_val1.reshape((x_val1.shape[0], x_val1.shape[1], 1))\n",
        "idx1_val = np.random.permutation(len(x_val1))\n",
        "x_val1 = x_val1[idx1_val]\n",
        "y_val1 = y_val1[idx1_val]"
      ],
      "metadata": {
        "id": "jM8DFWVuvYhF"
      },
      "execution_count": null,
      "outputs": []
    },
    {
      "cell_type": "markdown",
      "source": [
        "*   Mengubah dimensi `x_val1` agar sesuai dengan model yang akan digunakan. Dimensi `x_val1` sebelumnya (jumlah sampel, timesteps) dan diubah menjadi (jumlah sampel, timesteps, 1).\n",
        "*   Variable `idx1_val` untuk membuat array berisi indeks secara acak. Ini digunakan untuk mengacak urutan sampel testing set sehingga model dapat belajar lebih baik."
      ],
      "metadata": {
        "id": "IuIoZY2jv0nP"
      }
    },
    {
      "cell_type": "code",
      "source": [
        "timesteps = 5\n",
        "x_test1 = []\n",
        "y_test1 = []\n",
        "for i in range(timesteps, test_set1.shape[0] - timesteps + 1):\n",
        "    x_test1.append(test_set1[i-timesteps:i, 0])\n",
        "    y_test1.append(test_set1[i:i+timesteps, 0])\n",
        "\n",
        "x_test1, y_test1 = np.array(x_test1), np.array(y_test1)\n",
        "\n",
        "print(x_test1[0], y_test1[0])\n",
        "print(x_test1[1], y_test1[1])"
      ],
      "metadata": {
        "colab": {
          "base_uri": "https://localhost:8080/"
        },
        "id": "sKbqtW5_2ZHI",
        "outputId": "545ff459-7e1d-471f-8f5a-07daf9241b31"
      },
      "execution_count": null,
      "outputs": [
        {
          "output_type": "stream",
          "name": "stdout",
          "text": [
            "[189.52999878 191.13999939 192.6000061  188.83999634 187.66000366] [189.5        193.         193.         195.         197.19999695]\n",
            "[191.13999939 192.6000061  188.83999634 187.66000366 189.5       ] [193.         193.         195.         197.19999695 196.3999939 ]\n"
          ]
        }
      ]
    },
    {
      "cell_type": "markdown",
      "source": [
        "Testing set dibuat dengan menggunakan timesteps sebesar 5. Dari output diatas, 5 data pertama digunakan sebagai input (window size) dan 5 data berikutnya merupakan output (horizon).\n",
        "\n"
      ],
      "metadata": {
        "id": "8WaRkKSpwdy5"
      }
    },
    {
      "cell_type": "code",
      "source": [
        "x_test1 = x_test1.reshape((x_test1.shape[0], x_test1.shape[1], 1))\n",
        "idx2 = np.random.permutation(len(x_test1))\n",
        "x_test1 = x_test1[idx2]\n",
        "y_test1 = y_test1[idx2]"
      ],
      "metadata": {
        "id": "OYWzh2JzwQCG"
      },
      "execution_count": null,
      "outputs": []
    },
    {
      "cell_type": "markdown",
      "source": [
        "*   Mengubah dimensi `x_test1` agar sesuai dengan model yang akan digunakan. Dimensi `x_test1` sebelumnya (jumlah sampel, timesteps) dan diubah menjadi (jumlah sampel, timesteps, 1).\n",
        "*   Variable `idx2` untuk membuat array berisi indeks secara acak. Ini digunakan untuk mengacak urutan sampel testing set sehingga model dapat belajar lebih baik."
      ],
      "metadata": {
        "id": "T8HyPijbxhZC"
      }
    },
    {
      "cell_type": "markdown",
      "source": [
        "##**b. Arsitektur Baseline Transformer**"
      ],
      "metadata": {
        "id": "ZddM2f56CSjp"
      }
    },
    {
      "cell_type": "markdown",
      "source": [
        "###**Architecture Baseline for IBM Dataset**"
      ],
      "metadata": {
        "id": "CWjDwvddEOnA"
      }
    },
    {
      "cell_type": "code",
      "source": [
        "def transformerModel(inputs, head, n_head, feedfoward, dropout=0):\n",
        "    # Embedding Layer\n",
        "    x = layers.LayerNormalization(epsilon=1e-6)(inputs)\n",
        "\n",
        "    # Attention Layer\n",
        "    x = layers.MultiHeadAttention(key_dim=head, num_heads=n_head, dropout=dropout)(x, x)\n",
        "    result = x + inputs\n",
        "\n",
        "    # Add & Norm\n",
        "    x = layers.LayerNormalization(epsilon=1e-6)(result)\n",
        "\n",
        "    # Feed Foward\n",
        "    x = layers.Conv1D(filters=feedfoward, kernel_size=1, activation = \"relu\")(x)\n",
        "\n",
        "    # Add & Norm\n",
        "    x = layers.LayerNormalization(epsilon=1e-6)(result)\n",
        "\n",
        "    return x + result"
      ],
      "metadata": {
        "id": "90EtJJqBCgC5"
      },
      "execution_count": null,
      "outputs": []
    },
    {
      "cell_type": "markdown",
      "source": [
        "*   Baseline model pertama menggunakan Transformer sesuai dengan gambar pada soal. Layer pertama terdiri dari Embedding Layer yang berisi normalisasi lapisan `inputs` menggunakan `LayerNormalization`.\n",
        "*   Layer kedua yaitu Attention Layer, dalam layer ini `MultiHeadAttention` merupakan komponen dari transformer yang menerima input `x`.\n",
        "*   Layer ketiga yaitu Add & Norm, pada layer ini Attention Layer (x) ditambahkan dengan input awal (inputs). Selanjutnya, dilakukan normalisasi data menggunakan `LayerNormalization`.\n",
        "*   Layer keempat yaitu Feed Foward, dilakukan operasi feed foward pada nilai `x` menggunakan layer 1 layer `Conv1D` dan fungsi aktivasi ReLU.\n",
        "*   Layer terakhir yaitu Add & Norm, layer ini menambahkan hasil feed foward dan hasil Add & Norm yang sebelumnya. Kemudian dilakukan normalisasi data kembali.\n",
        "*   Output dari fungsi `transformerModel` diatas adalah nilai `x + result` sebagai block transformers.\n",
        "\n",
        "\n",
        "\n"
      ],
      "metadata": {
        "id": "7PPTtbBzJ7Ve"
      }
    },
    {
      "cell_type": "code",
      "source": [
        "def modelling(input_shape, head, n_head, feedfoward, transformer_blocks,):\n",
        "    inputs = keras.Input(shape=input_shape)\n",
        "    x = inputs\n",
        "\n",
        "    for _ in range(transformer_blocks):\n",
        "        x = transformerModel(x, head, n_head, feedfoward)\n",
        "\n",
        "    x = layers.GlobalAveragePooling1D(data_format=\"channels_first\")(x)\n",
        "    layeroutput = layers.Dense(5, activation=\"linear\")(x)\n",
        "\n",
        "    return keras.Model(inputs, layeroutput)"
      ],
      "metadata": {
        "id": "J5ST8KlGD-2A"
      },
      "execution_count": null,
      "outputs": []
    },
    {
      "cell_type": "markdown",
      "source": [
        "*   Fungsi `modelling` untuk implementasi model yang terdiri dari beberapa block Transformer. Fungsi ini dimulai dengan membuat layer input menggunakan `keras.Input(shape=input_shape)` yang akan digunakan untuk titik masuk data input.\n",
        "*   Selanjutnya, dilakukan iterasi ke seluruh block transformer. Output dari block transformer akan menjadi input untuk block selanjutnya.\n",
        "*   Setelah seluruh block transformer diproses, selanjutnya mengambil rata-rata global dari setiap saluran pada dimensi waktu menggunakan `GlobalAveragePooling1D`.\n",
        "*   Layer terakhir yaitu dense layer dengan 5 unit digunakan sebagai output layer yang menggunakan fungsi aktivasi linear. Layer ini akan menghasilkan output dari model.\n",
        "\n",
        "\n",
        "\n"
      ],
      "metadata": {
        "id": "-mjQwX-OLUkA"
      }
    },
    {
      "cell_type": "code",
      "source": [
        "input_shape = x_train.shape[1:]\n",
        "\n",
        "model = modelling(input_shape, head = 8, n_head = 10, feedfoward = 5, transformer_blocks = 5,)\n",
        "model.compile(loss=\"mae\", optimizer='adam', metrics=[\"mae\"],)\n",
        "\n",
        "model.summary()"
      ],
      "metadata": {
        "colab": {
          "base_uri": "https://localhost:8080/"
        },
        "id": "DGEit7_pkFqv",
        "outputId": "08d3ee48-3747-46a9-ca17-3a245f35c94a"
      },
      "execution_count": null,
      "outputs": [
        {
          "output_type": "stream",
          "name": "stdout",
          "text": [
            "Model: \"model\"\n",
            "__________________________________________________________________________________________________\n",
            " Layer (type)                   Output Shape         Param #     Connected to                     \n",
            "==================================================================================================\n",
            " input_1 (InputLayer)           [(None, 5, 1)]       0           []                               \n",
            "                                                                                                  \n",
            " layer_normalization (LayerNorm  (None, 5, 1)        2           ['input_1[0][0]']                \n",
            " alization)                                                                                       \n",
            "                                                                                                  \n",
            " multi_head_attention (MultiHea  (None, 5, 1)        561         ['layer_normalization[0][0]',    \n",
            " dAttention)                                                      'layer_normalization[0][0]']    \n",
            "                                                                                                  \n",
            " tf.__operators__.add (TFOpLamb  (None, 5, 1)        0           ['multi_head_attention[0][0]',   \n",
            " da)                                                              'input_1[0][0]']                \n",
            "                                                                                                  \n",
            " layer_normalization_2 (LayerNo  (None, 5, 1)        2           ['tf.__operators__.add[0][0]']   \n",
            " rmalization)                                                                                     \n",
            "                                                                                                  \n",
            " tf.__operators__.add_1 (TFOpLa  (None, 5, 1)        0           ['layer_normalization_2[0][0]',  \n",
            " mbda)                                                            'tf.__operators__.add[0][0]']   \n",
            "                                                                                                  \n",
            " layer_normalization_3 (LayerNo  (None, 5, 1)        2           ['tf.__operators__.add_1[0][0]'] \n",
            " rmalization)                                                                                     \n",
            "                                                                                                  \n",
            " multi_head_attention_1 (MultiH  (None, 5, 1)        561         ['layer_normalization_3[0][0]',  \n",
            " eadAttention)                                                    'layer_normalization_3[0][0]']  \n",
            "                                                                                                  \n",
            " tf.__operators__.add_2 (TFOpLa  (None, 5, 1)        0           ['multi_head_attention_1[0][0]', \n",
            " mbda)                                                            'tf.__operators__.add_1[0][0]'] \n",
            "                                                                                                  \n",
            " layer_normalization_5 (LayerNo  (None, 5, 1)        2           ['tf.__operators__.add_2[0][0]'] \n",
            " rmalization)                                                                                     \n",
            "                                                                                                  \n",
            " tf.__operators__.add_3 (TFOpLa  (None, 5, 1)        0           ['layer_normalization_5[0][0]',  \n",
            " mbda)                                                            'tf.__operators__.add_2[0][0]'] \n",
            "                                                                                                  \n",
            " layer_normalization_6 (LayerNo  (None, 5, 1)        2           ['tf.__operators__.add_3[0][0]'] \n",
            " rmalization)                                                                                     \n",
            "                                                                                                  \n",
            " multi_head_attention_2 (MultiH  (None, 5, 1)        561         ['layer_normalization_6[0][0]',  \n",
            " eadAttention)                                                    'layer_normalization_6[0][0]']  \n",
            "                                                                                                  \n",
            " tf.__operators__.add_4 (TFOpLa  (None, 5, 1)        0           ['multi_head_attention_2[0][0]', \n",
            " mbda)                                                            'tf.__operators__.add_3[0][0]'] \n",
            "                                                                                                  \n",
            " layer_normalization_8 (LayerNo  (None, 5, 1)        2           ['tf.__operators__.add_4[0][0]'] \n",
            " rmalization)                                                                                     \n",
            "                                                                                                  \n",
            " tf.__operators__.add_5 (TFOpLa  (None, 5, 1)        0           ['layer_normalization_8[0][0]',  \n",
            " mbda)                                                            'tf.__operators__.add_4[0][0]'] \n",
            "                                                                                                  \n",
            " layer_normalization_9 (LayerNo  (None, 5, 1)        2           ['tf.__operators__.add_5[0][0]'] \n",
            " rmalization)                                                                                     \n",
            "                                                                                                  \n",
            " multi_head_attention_3 (MultiH  (None, 5, 1)        561         ['layer_normalization_9[0][0]',  \n",
            " eadAttention)                                                    'layer_normalization_9[0][0]']  \n",
            "                                                                                                  \n",
            " tf.__operators__.add_6 (TFOpLa  (None, 5, 1)        0           ['multi_head_attention_3[0][0]', \n",
            " mbda)                                                            'tf.__operators__.add_5[0][0]'] \n",
            "                                                                                                  \n",
            " layer_normalization_11 (LayerN  (None, 5, 1)        2           ['tf.__operators__.add_6[0][0]'] \n",
            " ormalization)                                                                                    \n",
            "                                                                                                  \n",
            " tf.__operators__.add_7 (TFOpLa  (None, 5, 1)        0           ['layer_normalization_11[0][0]', \n",
            " mbda)                                                            'tf.__operators__.add_6[0][0]'] \n",
            "                                                                                                  \n",
            " layer_normalization_12 (LayerN  (None, 5, 1)        2           ['tf.__operators__.add_7[0][0]'] \n",
            " ormalization)                                                                                    \n",
            "                                                                                                  \n",
            " multi_head_attention_4 (MultiH  (None, 5, 1)        561         ['layer_normalization_12[0][0]', \n",
            " eadAttention)                                                    'layer_normalization_12[0][0]'] \n",
            "                                                                                                  \n",
            " tf.__operators__.add_8 (TFOpLa  (None, 5, 1)        0           ['multi_head_attention_4[0][0]', \n",
            " mbda)                                                            'tf.__operators__.add_7[0][0]'] \n",
            "                                                                                                  \n",
            " layer_normalization_14 (LayerN  (None, 5, 1)        2           ['tf.__operators__.add_8[0][0]'] \n",
            " ormalization)                                                                                    \n",
            "                                                                                                  \n",
            " tf.__operators__.add_9 (TFOpLa  (None, 5, 1)        0           ['layer_normalization_14[0][0]', \n",
            " mbda)                                                            'tf.__operators__.add_8[0][0]'] \n",
            "                                                                                                  \n",
            " global_average_pooling1d (Glob  (None, 5)           0           ['tf.__operators__.add_9[0][0]'] \n",
            " alAveragePooling1D)                                                                              \n",
            "                                                                                                  \n",
            " dense (Dense)                  (None, 5)            30          ['global_average_pooling1d[0][0]'\n",
            "                                                                 ]                                \n",
            "                                                                                                  \n",
            "==================================================================================================\n",
            "Total params: 2,855\n",
            "Trainable params: 2,855\n",
            "Non-trainable params: 0\n",
            "__________________________________________________________________________________________________\n"
          ]
        }
      ]
    },
    {
      "cell_type": "markdown",
      "source": [
        "*   Dari output diatas, dapat dilihat bahwa model\n",
        "terdiri dari beberapa layer yaitu `layer_normalization`, `multi_head_attention`, `tf.__operators__.add`, `global_average_pooling1d`, dan `dense`.\n",
        "*   Layer yang ada pada arsitektur ini saling terhubung dengan hubungan yang sesuai pada kolom `Connected to`.\n",
        "*   Total parameter yang digunakan model ini adalah 2.855."
      ],
      "metadata": {
        "id": "yUxMuYARLYut"
      }
    },
    {
      "cell_type": "code",
      "source": [
        "history = model.fit(\n",
        "    x_train,\n",
        "    y_train,\n",
        "    validation_data=(x_val, y_val),\n",
        "    epochs=10,\n",
        "    batch_size=32,\n",
        ")"
      ],
      "metadata": {
        "colab": {
          "base_uri": "https://localhost:8080/"
        },
        "id": "E56MQprsNyFO",
        "outputId": "353bd0a3-0655-4767-e17d-21c84771925c"
      },
      "execution_count": null,
      "outputs": [
        {
          "output_type": "stream",
          "name": "stdout",
          "text": [
            "Epoch 1/10\n",
            "367/367 [==============================] - 32s 16ms/step - loss: 0.0221 - mae: 0.0221 - val_loss: 0.0233 - val_mae: 0.0233\n",
            "Epoch 2/10\n",
            "367/367 [==============================] - 7s 19ms/step - loss: 0.0078 - mae: 0.0078 - val_loss: 0.0228 - val_mae: 0.0228\n",
            "Epoch 3/10\n",
            "367/367 [==============================] - 6s 15ms/step - loss: 0.0078 - mae: 0.0078 - val_loss: 0.0231 - val_mae: 0.0231\n",
            "Epoch 4/10\n",
            "367/367 [==============================] - 6s 17ms/step - loss: 0.0077 - mae: 0.0077 - val_loss: 0.0226 - val_mae: 0.0226\n",
            "Epoch 5/10\n",
            "367/367 [==============================] - 5s 15ms/step - loss: 0.0077 - mae: 0.0077 - val_loss: 0.0226 - val_mae: 0.0226\n",
            "Epoch 6/10\n",
            "367/367 [==============================] - 6s 15ms/step - loss: 0.0076 - mae: 0.0076 - val_loss: 0.0225 - val_mae: 0.0225\n",
            "Epoch 7/10\n",
            "367/367 [==============================] - 6s 16ms/step - loss: 0.0075 - mae: 0.0075 - val_loss: 0.0224 - val_mae: 0.0224\n",
            "Epoch 8/10\n",
            "367/367 [==============================] - 5s 14ms/step - loss: 0.0075 - mae: 0.0075 - val_loss: 0.0221 - val_mae: 0.0221\n",
            "Epoch 9/10\n",
            "367/367 [==============================] - 6s 18ms/step - loss: 0.0074 - mae: 0.0074 - val_loss: 0.0219 - val_mae: 0.0219\n",
            "Epoch 10/10\n",
            "367/367 [==============================] - 5s 14ms/step - loss: 0.0074 - mae: 0.0074 - val_loss: 0.0220 - val_mae: 0.0220\n"
          ]
        }
      ]
    },
    {
      "cell_type": "markdown",
      "source": [
        "*   Dalam proses training, input data berupa\n",
        "`x_train` dan `y_train`. Selain itu,\n",
        "validation set juga digunakan sebagai validasi dari performa model tiap epoch.\n",
        "*   Model diuji (train) dengan 10 epoch (iterasi) dan batch size sebesar 32.\n",
        "*   Training loss dan validation loss berkurang secara bertahap dan konsisten.\n",
        "*   Nilai training loss berkisar antara 0.007 - 0.02. Sedangkan, untuk validation loss berkisar di angka 0.02."
      ],
      "metadata": {
        "id": "ONDM63-OLdjW"
      }
    },
    {
      "cell_type": "code",
      "source": [
        " # Get training and validation loss from history\n",
        "train_loss = history.history['loss']\n",
        "val_loss = history.history['val_loss']\n",
        "\n",
        "# Plot training and validation loss\n",
        "epochs = range(1, len(train_loss) + 1)\n",
        "plt.plot(epochs, train_loss, 'b', label='Training Loss')\n",
        "plt.plot(epochs, val_loss, 'r', label='Validation Loss')\n",
        "plt.title('Training and Validation Loss on IBM Dataset')\n",
        "plt.xlabel('Epochs')\n",
        "plt.ylabel('Loss')\n",
        "plt.legend()\n",
        "plt.show()"
      ],
      "metadata": {
        "colab": {
          "base_uri": "https://localhost:8080/",
          "height": 472
        },
        "id": "liJITcDfDu6o",
        "outputId": "d78da7d2-3766-4f16-b775-837fc31a3fb8"
      },
      "execution_count": null,
      "outputs": [
        {
          "output_type": "display_data",
          "data": {
            "text/plain": [
              "<Figure size 640x480 with 1 Axes>"
            ],
            "image/png": "[encoded data removed]"
          },
          "metadata": {}
        }
      ]
    },
    {
      "cell_type": "markdown",
      "source": [
        "*   Grafik training loss sangat tinggi di awal, tetapi mengalami penurunan yang dratis saat model diuji. Ini menunjukkan hasil yang baik, karena nilai loss semakin rendah dan\n",
        "stabil.\n",
        "*   Grafik validation loss mengalami penurunan walaupun tidak telalu signifikan, tetapi penurunannya stabil. Ini menunjukkan hasil yang baik, karena nilai loss semakin rendah dan\n",
        "stabil.\n",
        "*   Hasil akhir dari pengujian model menunjukkan grafik training dan validation loss yang rendah\n",
        "dan stabil. Grafik menunjukkan penurunan dari keduanya walaupun ada selisih nilai antara training dan testing loss."
      ],
      "metadata": {
        "id": "Hukizd96VLBF"
      }
    },
    {
      "cell_type": "markdown",
      "source": [
        "###**Architecture Baseline for FB Dataset**"
      ],
      "metadata": {
        "id": "e3n8ce6yoMb0"
      }
    },
    {
      "cell_type": "code",
      "source": [
        "def transformer_Model2(inputs, head, n_head, feedfoward, dropout=0):\n",
        "    # Embedding Layer\n",
        "    x = layers.LayerNormalization(epsilon=1e-6)(inputs)\n",
        "\n",
        "    # Attention Layer\n",
        "    x = layers.MultiHeadAttention(key_dim=head, num_heads=n_head, dropout=dropout)(x, x)\n",
        "    result = x + inputs\n",
        "\n",
        "    # Add & Norm\n",
        "    x = layers.LayerNormalization(epsilon=1e-6)(result)\n",
        "\n",
        "    # Feed Foward\n",
        "    x = layers.Conv1D(filters=feedfoward, kernel_size=1, activation = \"relu\")(x)\n",
        "\n",
        "    # Add & Norm\n",
        "    x = layers.LayerNormalization(epsilon=1e-6)(result)\n",
        "\n",
        "    return x + result"
      ],
      "metadata": {
        "id": "oCz3YJ5pzJC8"
      },
      "execution_count": null,
      "outputs": []
    },
    {
      "cell_type": "markdown",
      "source": [
        "*   Baseline model pertama menggunakan Transformer sesuai dengan gambar pada soal. Layer pertama terdiri dari Embedding Layer yang berisi normalisasi lapisan `inputs` menggunakan `LayerNormalization`.\n",
        "*   Layer kedua yaitu Attention Layer, dalam layer ini `MultiHeadAttention` merupakan komponen dari transformer yang menerima input `x`.\n",
        "*   Layer ketiga yaitu Add & Norm, pada layer ini Attention Layer (x) ditambahkan dengan input awal (inputs). Selanjutnya, dilakukan normalisasi data menggunakan `LayerNormalization`.\n",
        "*   Layer keempat yaitu Feed Foward, dilakukan operasi feed foward pada nilai `x` menggunakan layer 1 layer `Conv1D` dan fungsi aktivasi ReLU.\n",
        "*   Layer terakhir yaitu Add & Norm, layer ini menambahkan hasil feed foward dan hasil Add & Norm yang sebelumnya. Kemudian dilakukan normalisasi data kembali.\n",
        "*   Output dari fungsi `transformerModel` diatas adalah nilai `x + result` sebagai block transformers.\n",
        "\n",
        "\n",
        "\n"
      ],
      "metadata": {
        "id": "TlexCoh1VsYk"
      }
    },
    {
      "cell_type": "code",
      "source": [
        "def modelling2(input_shape, head, n_head, feedfoward, transformer_blocks,):\n",
        "    inputs = keras.Input(shape=input_shape)\n",
        "    x = inputs\n",
        "\n",
        "    for _ in range(transformer_blocks):\n",
        "        x = transformerModel(x, head, n_head, feedfoward)\n",
        "\n",
        "    x = layers.GlobalAveragePooling1D(data_format=\"channels_first\")(x)\n",
        "\n",
        "    layeroutput = layers.Dense(5, activation=\"linear\")(x)\n",
        "    return keras.Model(inputs, layeroutput)"
      ],
      "metadata": {
        "id": "YnHJCzv4zbib"
      },
      "execution_count": null,
      "outputs": []
    },
    {
      "cell_type": "markdown",
      "source": [
        "*   Fungsi `modelling` untuk implementasi model yang terdiri dari beberapa block Transformer. Fungsi ini dimulai dengan membuat layer input menggunakan `keras.Input(shape=input_shape)` yang akan digunakan untuk titik masuk data input.\n",
        "*   Selanjutnya, dilakukan iterasi ke seluruh block transformer. Output dari block transformer akan menjadi input untuk block selanjutnya.\n",
        "*   Setelah seluruh block transformer diproses, selanjutnya mengambil rata-rata global dari setiap saluran pada dimensi waktu menggunakan `GlobalAveragePooling1D`.\n",
        "*   Layer terakhir yaitu dense layer dengan 5 unit digunakan sebagai output layer yang menggunakan fungsi aktivasi linear. Layer ini akan menghasilkan output dari model.\n",
        "\n",
        "\n",
        "\n"
      ],
      "metadata": {
        "id": "EIo79k-gVwa7"
      }
    },
    {
      "cell_type": "code",
      "source": [
        "input_shape2 = x_train1.shape[1:]\n",
        "model2 = modelling2(input_shape2, head = 8, n_head = 10, feedfoward = 5, transformer_blocks = 5,)\n",
        "model2.compile(loss=\"mae\", optimizer='adam', metrics=[\"mae\"],)\n",
        "model2.summary()"
      ],
      "metadata": {
        "colab": {
          "base_uri": "https://localhost:8080/"
        },
        "id": "FBZJLj3uzkJa",
        "outputId": "6ff9f459-16e9-4ff7-ce3c-489367df177c"
      },
      "execution_count": null,
      "outputs": [
        {
          "output_type": "stream",
          "name": "stdout",
          "text": [
            "Model: \"model_1\"\n",
            "__________________________________________________________________________________________________\n",
            " Layer (type)                   Output Shape         Param #     Connected to                     \n",
            "==================================================================================================\n",
            " input_2 (InputLayer)           [(None, 5, 1)]       0           []                               \n",
            "                                                                                                  \n",
            " layer_normalization_15 (LayerN  (None, 5, 1)        2           ['input_2[0][0]']                \n",
            " ormalization)                                                                                    \n",
            "                                                                                                  \n",
            " multi_head_attention_5 (MultiH  (None, 5, 1)        561         ['layer_normalization_15[0][0]', \n",
            " eadAttention)                                                    'layer_normalization_15[0][0]'] \n",
            "                                                                                                  \n",
            " tf.__operators__.add_10 (TFOpL  (None, 5, 1)        0           ['multi_head_attention_5[0][0]', \n",
            " ambda)                                                           'input_2[0][0]']                \n",
            "                                                                                                  \n",
            " layer_normalization_17 (LayerN  (None, 5, 1)        2           ['tf.__operators__.add_10[0][0]']\n",
            " ormalization)                                                                                    \n",
            "                                                                                                  \n",
            " tf.__operators__.add_11 (TFOpL  (None, 5, 1)        0           ['layer_normalization_17[0][0]', \n",
            " ambda)                                                           'tf.__operators__.add_10[0][0]']\n",
            "                                                                                                  \n",
            " layer_normalization_18 (LayerN  (None, 5, 1)        2           ['tf.__operators__.add_11[0][0]']\n",
            " ormalization)                                                                                    \n",
            "                                                                                                  \n",
            " multi_head_attention_6 (MultiH  (None, 5, 1)        561         ['layer_normalization_18[0][0]', \n",
            " eadAttention)                                                    'layer_normalization_18[0][0]'] \n",
            "                                                                                                  \n",
            " tf.__operators__.add_12 (TFOpL  (None, 5, 1)        0           ['multi_head_attention_6[0][0]', \n",
            " ambda)                                                           'tf.__operators__.add_11[0][0]']\n",
            "                                                                                                  \n",
            " layer_normalization_20 (LayerN  (None, 5, 1)        2           ['tf.__operators__.add_12[0][0]']\n",
            " ormalization)                                                                                    \n",
            "                                                                                                  \n",
            " tf.__operators__.add_13 (TFOpL  (None, 5, 1)        0           ['layer_normalization_20[0][0]', \n",
            " ambda)                                                           'tf.__operators__.add_12[0][0]']\n",
            "                                                                                                  \n",
            " layer_normalization_21 (LayerN  (None, 5, 1)        2           ['tf.__operators__.add_13[0][0]']\n",
            " ormalization)                                                                                    \n",
            "                                                                                                  \n",
            " multi_head_attention_7 (MultiH  (None, 5, 1)        561         ['layer_normalization_21[0][0]', \n",
            " eadAttention)                                                    'layer_normalization_21[0][0]'] \n",
            "                                                                                                  \n",
            " tf.__operators__.add_14 (TFOpL  (None, 5, 1)        0           ['multi_head_attention_7[0][0]', \n",
            " ambda)                                                           'tf.__operators__.add_13[0][0]']\n",
            "                                                                                                  \n",
            " layer_normalization_23 (LayerN  (None, 5, 1)        2           ['tf.__operators__.add_14[0][0]']\n",
            " ormalization)                                                                                    \n",
            "                                                                                                  \n",
            " tf.__operators__.add_15 (TFOpL  (None, 5, 1)        0           ['layer_normalization_23[0][0]', \n",
            " ambda)                                                           'tf.__operators__.add_14[0][0]']\n",
            "                                                                                                  \n",
            " layer_normalization_24 (LayerN  (None, 5, 1)        2           ['tf.__operators__.add_15[0][0]']\n",
            " ormalization)                                                                                    \n",
            "                                                                                                  \n",
            " multi_head_attention_8 (MultiH  (None, 5, 1)        561         ['layer_normalization_24[0][0]', \n",
            " eadAttention)                                                    'layer_normalization_24[0][0]'] \n",
            "                                                                                                  \n",
            " tf.__operators__.add_16 (TFOpL  (None, 5, 1)        0           ['multi_head_attention_8[0][0]', \n",
            " ambda)                                                           'tf.__operators__.add_15[0][0]']\n",
            "                                                                                                  \n",
            " layer_normalization_26 (LayerN  (None, 5, 1)        2           ['tf.__operators__.add_16[0][0]']\n",
            " ormalization)                                                                                    \n",
            "                                                                                                  \n",
            " tf.__operators__.add_17 (TFOpL  (None, 5, 1)        0           ['layer_normalization_26[0][0]', \n",
            " ambda)                                                           'tf.__operators__.add_16[0][0]']\n",
            "                                                                                                  \n",
            " layer_normalization_27 (LayerN  (None, 5, 1)        2           ['tf.__operators__.add_17[0][0]']\n",
            " ormalization)                                                                                    \n",
            "                                                                                                  \n",
            " multi_head_attention_9 (MultiH  (None, 5, 1)        561         ['layer_normalization_27[0][0]', \n",
            " eadAttention)                                                    'layer_normalization_27[0][0]'] \n",
            "                                                                                                  \n",
            " tf.__operators__.add_18 (TFOpL  (None, 5, 1)        0           ['multi_head_attention_9[0][0]', \n",
            " ambda)                                                           'tf.__operators__.add_17[0][0]']\n",
            "                                                                                                  \n",
            " layer_normalization_29 (LayerN  (None, 5, 1)        2           ['tf.__operators__.add_18[0][0]']\n",
            " ormalization)                                                                                    \n",
            "                                                                                                  \n",
            " tf.__operators__.add_19 (TFOpL  (None, 5, 1)        0           ['layer_normalization_29[0][0]', \n",
            " ambda)                                                           'tf.__operators__.add_18[0][0]']\n",
            "                                                                                                  \n",
            " global_average_pooling1d_1 (Gl  (None, 5)           0           ['tf.__operators__.add_19[0][0]']\n",
            " obalAveragePooling1D)                                                                            \n",
            "                                                                                                  \n",
            " dense_1 (Dense)                (None, 5)            30          ['global_average_pooling1d_1[0][0\n",
            "                                                                 ]']                              \n",
            "                                                                                                  \n",
            "==================================================================================================\n",
            "Total params: 2,855\n",
            "Trainable params: 2,855\n",
            "Non-trainable params: 0\n",
            "__________________________________________________________________________________________________\n"
          ]
        }
      ]
    },
    {
      "cell_type": "markdown",
      "source": [
        "*   Dari output diatas, dapat dilihat bahwa model\n",
        "terdiri dari beberapa layer yaitu `layer_normalization`, `multi_head_attention`, `tf.__operators__.add`, `global_average_pooling1d`, dan `dense`.\n",
        "*   Layer yang ada pada arsitektur ini saling terhubung dengan hubungan yang sesuai pada kolom `Connected to`.\n",
        "*   Total parameter yang digunakan model ini adalah 2.855."
      ],
      "metadata": {
        "id": "U4eXD67gV1mJ"
      }
    },
    {
      "cell_type": "code",
      "source": [
        "historyFB = model2.fit(\n",
        "    x_train1,\n",
        "    y_train1,\n",
        "    validation_data=(x_val1, y_val1),\n",
        "    epochs=10,\n",
        "    batch_size=32,\n",
        ")"
      ],
      "metadata": {
        "colab": {
          "base_uri": "https://localhost:8080/"
        },
        "id": "zARtWidj0VV4",
        "outputId": "fb6807ff-52db-45c1-f51f-8b2ba118e637"
      },
      "execution_count": null,
      "outputs": [
        {
          "output_type": "stream",
          "name": "stdout",
          "text": [
            "Epoch 1/10\n",
            "367/367 [==============================] - 36s 24ms/step - loss: 0.1256 - mae: 0.1256 - val_loss: 0.0907 - val_mae: 0.0907\n",
            "Epoch 2/10\n",
            "367/367 [==============================] - 6s 16ms/step - loss: 0.0134 - mae: 0.0134 - val_loss: 0.0237 - val_mae: 0.0237\n",
            "Epoch 3/10\n",
            "367/367 [==============================] - 5s 15ms/step - loss: 0.0084 - mae: 0.0084 - val_loss: 0.0238 - val_mae: 0.0238\n",
            "Epoch 4/10\n",
            "367/367 [==============================] - 6s 17ms/step - loss: 0.0082 - mae: 0.0082 - val_loss: 0.0228 - val_mae: 0.0228\n",
            "Epoch 5/10\n",
            "367/367 [==============================] - 5s 14ms/step - loss: 0.0080 - mae: 0.0080 - val_loss: 0.0228 - val_mae: 0.0228\n",
            "Epoch 6/10\n",
            "367/367 [==============================] - 6s 17ms/step - loss: 0.0078 - mae: 0.0078 - val_loss: 0.0224 - val_mae: 0.0224\n",
            "Epoch 7/10\n",
            "367/367 [==============================] - 5s 15ms/step - loss: 0.0078 - mae: 0.0078 - val_loss: 0.0229 - val_mae: 0.0229\n",
            "Epoch 8/10\n",
            "367/367 [==============================] - 6s 16ms/step - loss: 0.0077 - mae: 0.0077 - val_loss: 0.0223 - val_mae: 0.0223\n",
            "Epoch 9/10\n",
            "367/367 [==============================] - 6s 16ms/step - loss: 0.0077 - mae: 0.0077 - val_loss: 0.0220 - val_mae: 0.0220\n",
            "Epoch 10/10\n",
            "367/367 [==============================] - 5s 14ms/step - loss: 0.0076 - mae: 0.0076 - val_loss: 0.0218 - val_mae: 0.0218\n"
          ]
        }
      ]
    },
    {
      "cell_type": "markdown",
      "source": [
        "*   Dalam proses training, input data berupa\n",
        "`x_train` dan `y_train`. Selain itu,\n",
        "validation set juga digunakan sebagai validasi dari performa model tiap epoch.\n",
        "*   Model diuji (train) dengan 10 epoch (iterasi) dan batch size sebesar 32.\n",
        "*   Training loss dan validation loss berkurang secara bertahap dan konsisten.\n",
        "*   Nilai training loss berkisar antara 0.007 - 0.05. Sedangkan, untuk validation loss berkisar di angka 0.02."
      ],
      "metadata": {
        "id": "iJ7cMdyrMoGi"
      }
    },
    {
      "cell_type": "code",
      "source": [
        " # Get training and validation loss from history\n",
        "train_loss1 = historyFB.history['loss']\n",
        "val_loss1 = historyFB.history['val_loss']\n",
        "\n",
        "# Plot training and validation loss\n",
        "epochs = range(1, len(train_loss1) + 1)\n",
        "plt.plot(epochs, train_loss1, 'b', label='Training Loss')\n",
        "plt.plot(epochs, val_loss1, 'r', label='Validation Loss')\n",
        "plt.title('Training and Validation Loss on Facebook Dataset')\n",
        "plt.xlabel('Epochs')\n",
        "plt.ylabel('Loss')\n",
        "plt.legend()\n",
        "plt.show()"
      ],
      "metadata": {
        "colab": {
          "base_uri": "https://localhost:8080/",
          "height": 472
        },
        "id": "BwTPtNLl0VSq",
        "outputId": "b103e669-53bd-469a-fc37-df7550895575"
      },
      "execution_count": null,
      "outputs": [
        {
          "output_type": "display_data",
          "data": {
            "text/plain": [
              "<Figure size 640x480 with 1 Axes>"
            ],
            "image/png": "[encoded data removed]"
          },
          "metadata": {}
        }
      ]
    },
    {
      "cell_type": "markdown",
      "source": [
        "*   Grafik training dan validation loss sangat tinggi di awal, tetapi mengalami penurunan yang dratis dan stabil saat model diuji. Ini menunjukkan hasil yang baik, karena nilai loss semakin rendah dan\n",
        "stabil.\n",
        "*   Hasil akhir dari pengujian model menunjukkan grafik training dan validation loss yang rendah\n",
        "dan stabil. Adanya penurunan yang sangat signifikan dari keduanya walaupun nilai loss nya tidak terlalu dekat antara training dan testing loss."
      ],
      "metadata": {
        "id": "bvmZXSEbVEf7"
      }
    },
    {
      "cell_type": "markdown",
      "source": [
        "##**c. Modifikasi Arsitektur**"
      ],
      "metadata": {
        "id": "CCmhvjFT2Vrt"
      }
    },
    {
      "cell_type": "markdown",
      "source": [
        "###**Modification for IBM Dataset**"
      ],
      "metadata": {
        "id": "eBynsV5-aRgl"
      }
    },
    {
      "cell_type": "code",
      "source": [
        "def transformerModified(inputs, head, n_head, feedfoward, dropout=0):\n",
        "    # Embedding Layer\n",
        "    x = layers.LayerNormalization(epsilon=1e-6)(inputs)\n",
        "\n",
        "    # Attention Layer\n",
        "    x = layers.MultiHeadAttention(key_dim=head, num_heads=n_head, dropout=dropout)(x, x)\n",
        "    result = x + inputs\n",
        "    x = layers.Dropout(dropout)(x)\n",
        "\n",
        "    # Add & Norm\n",
        "    x = layers.LayerNormalization(epsilon=1e-6)(result)\n",
        "\n",
        "    # Feed Foward\n",
        "    x = layers.Conv1D(filters=feedfoward, kernel_size=1, activation = \"relu\")(x)\n",
        "    x = layers.Dropout(dropout)(x)\n",
        "\n",
        "    # Add & Norm\n",
        "    x = layers.LayerNormalization(epsilon=1e-6)(result)\n",
        "\n",
        "    return x + result"
      ],
      "metadata": {
        "id": "b-X0r0hPiPtm"
      },
      "execution_count": null,
      "outputs": []
    },
    {
      "cell_type": "markdown",
      "source": [
        "\n",
        "\n",
        "*   Modifikasi yang saya lakukan adalah menambahkan layer dropout pada lapisan feed foward dan attention layer. Saya menambahkan layer dropout untuk mencegah model yang overfitting.\n",
        "*   Model modifikasi untuk IBM dataset menggunakan Transformer sesuai dengan gambar pada soal. Layer pertama terdiri dari Embedding Layer yang berisi normalisasi lapisan `inputs` menggunakan `LayerNormalization`.\n",
        "*   Layer kedua yaitu Attention Layer, dalam layer ini `MultiHeadAttention` merupakan komponen dari transformer yang menerima input `x`.\n",
        "*   Layer ketiga yaitu Add & Norm, pada layer ini Attention Layer (x) ditambahkan dengan input awal (inputs). Selanjutnya, dilakukan normalisasi data menggunakan `LayerNormalization`.\n",
        "*   Layer keempat yaitu Feed Foward, dilakukan operasi feed foward pada nilai `x` menggunakan layer 1 layer `Conv1D` dan fungsi aktivasi ReLU.\n",
        "*   Layer terakhir yaitu Add & Norm, layer ini menambahkan hasil feed foward dan hasil Add & Norm yang sebelumnya. Kemudian dilakukan normalisasi data kembali.\n",
        "*   Output dari fungsi `transformerModel` diatas adalah nilai `x + result` sebagai block transformers.\n",
        "\n",
        "\n",
        "\n"
      ],
      "metadata": {
        "id": "LqiVPcdZV8Xp"
      }
    },
    {
      "cell_type": "code",
      "source": [
        "def modifymodel(input_shape,head,n_head,feedfoward,transformer_blocks,):\n",
        "    inputs = keras.Input(shape=input_shape)\n",
        "    x = inputs\n",
        "\n",
        "    for _ in range(transformer_blocks):  # This is what stacks our transformer blocks\n",
        "        x = transformerModified(x, head, n_head, feedfoward)\n",
        "\n",
        "    x = layers.GlobalAveragePooling1D(data_format=\"channels_first\")(x)\n",
        "\n",
        "    outputs = layers.Dense(5, activation=\"linear\")(x) #this is a pass-through\n",
        "    return keras.Model(inputs, outputs)"
      ],
      "metadata": {
        "id": "ZfuLaBgSlJPh"
      },
      "execution_count": null,
      "outputs": []
    },
    {
      "cell_type": "markdown",
      "source": [
        "\n",
        "\n",
        "*   Selanjutnya, saya melakukan modifikasi menggunakan hyperparameter.  Saya mengurangi jumlah head per block, demensi head, dan jumlah block transformer. Selain itu, saya juga menaikkan jumlah epoch dan batch size.\n",
        "*   Fungsi `modifymodel` untuk implementasi model yang terdiri dari beberapa block Transformer. Fungsi ini dimulai dengan membuat layer input menggunakan `keras.Input(shape=input_shape)` yang akan digunakan untuk titik masuk data input.\n",
        "*   Selanjutnya, dilakukan iterasi ke seluruh block transformer. Output dari block transformer akan menjadi input untuk block selanjutnya.\n",
        "*   Setelah seluruh block transformer diproses, selanjutnya mengambil rata-rata global dari setiap saluran pada dimensi waktu menggunakan `GlobalAveragePooling1D`.\n",
        "*   Layer terakhir yaitu dense layer dengan 5 unit digunakan sebagai output layer yang menggunakan fungsi aktivasi linear. Layer ini akan menghasilkan output dari model.\n",
        "\n",
        "\n",
        "\n"
      ],
      "metadata": {
        "id": "pRKTxV7RWyzW"
      }
    },
    {
      "cell_type": "code",
      "source": [
        "input_shape1 = x_train.shape[1:]\n",
        "modified = modifymodel(input_shape1, head = 5, n_head = 5, feedfoward = 5, transformer_blocks = 3,)\n",
        "modified.compile(loss=\"mae\", optimizer='adam', metrics=[\"mae\"],)\n",
        "modified.summary()"
      ],
      "metadata": {
        "colab": {
          "base_uri": "https://localhost:8080/"
        },
        "id": "3tmvJ_wVjKs1",
        "outputId": "ef2d2197-8383-47fe-be1e-1236dc151b16"
      },
      "execution_count": null,
      "outputs": [
        {
          "output_type": "stream",
          "name": "stdout",
          "text": [
            "Model: \"model_2\"\n",
            "__________________________________________________________________________________________________\n",
            " Layer (type)                   Output Shape         Param #     Connected to                     \n",
            "==================================================================================================\n",
            " input_3 (InputLayer)           [(None, 5, 1)]       0           []                               \n",
            "                                                                                                  \n",
            " layer_normalization_30 (LayerN  (None, 5, 1)        2           ['input_3[0][0]']                \n",
            " ormalization)                                                                                    \n",
            "                                                                                                  \n",
            " multi_head_attention_10 (Multi  (None, 5, 1)        176         ['layer_normalization_30[0][0]', \n",
            " HeadAttention)                                                   'layer_normalization_30[0][0]'] \n",
            "                                                                                                  \n",
            " tf.__operators__.add_20 (TFOpL  (None, 5, 1)        0           ['multi_head_attention_10[0][0]',\n",
            " ambda)                                                           'input_3[0][0]']                \n",
            "                                                                                                  \n",
            " layer_normalization_32 (LayerN  (None, 5, 1)        2           ['tf.__operators__.add_20[0][0]']\n",
            " ormalization)                                                                                    \n",
            "                                                                                                  \n",
            " tf.__operators__.add_21 (TFOpL  (None, 5, 1)        0           ['layer_normalization_32[0][0]', \n",
            " ambda)                                                           'tf.__operators__.add_20[0][0]']\n",
            "                                                                                                  \n",
            " layer_normalization_33 (LayerN  (None, 5, 1)        2           ['tf.__operators__.add_21[0][0]']\n",
            " ormalization)                                                                                    \n",
            "                                                                                                  \n",
            " multi_head_attention_11 (Multi  (None, 5, 1)        176         ['layer_normalization_33[0][0]', \n",
            " HeadAttention)                                                   'layer_normalization_33[0][0]'] \n",
            "                                                                                                  \n",
            " tf.__operators__.add_22 (TFOpL  (None, 5, 1)        0           ['multi_head_attention_11[0][0]',\n",
            " ambda)                                                           'tf.__operators__.add_21[0][0]']\n",
            "                                                                                                  \n",
            " layer_normalization_35 (LayerN  (None, 5, 1)        2           ['tf.__operators__.add_22[0][0]']\n",
            " ormalization)                                                                                    \n",
            "                                                                                                  \n",
            " tf.__operators__.add_23 (TFOpL  (None, 5, 1)        0           ['layer_normalization_35[0][0]', \n",
            " ambda)                                                           'tf.__operators__.add_22[0][0]']\n",
            "                                                                                                  \n",
            " layer_normalization_36 (LayerN  (None, 5, 1)        2           ['tf.__operators__.add_23[0][0]']\n",
            " ormalization)                                                                                    \n",
            "                                                                                                  \n",
            " multi_head_attention_12 (Multi  (None, 5, 1)        176         ['layer_normalization_36[0][0]', \n",
            " HeadAttention)                                                   'layer_normalization_36[0][0]'] \n",
            "                                                                                                  \n",
            " tf.__operators__.add_24 (TFOpL  (None, 5, 1)        0           ['multi_head_attention_12[0][0]',\n",
            " ambda)                                                           'tf.__operators__.add_23[0][0]']\n",
            "                                                                                                  \n",
            " layer_normalization_38 (LayerN  (None, 5, 1)        2           ['tf.__operators__.add_24[0][0]']\n",
            " ormalization)                                                                                    \n",
            "                                                                                                  \n",
            " tf.__operators__.add_25 (TFOpL  (None, 5, 1)        0           ['layer_normalization_38[0][0]', \n",
            " ambda)                                                           'tf.__operators__.add_24[0][0]']\n",
            "                                                                                                  \n",
            " global_average_pooling1d_2 (Gl  (None, 5)           0           ['tf.__operators__.add_25[0][0]']\n",
            " obalAveragePooling1D)                                                                            \n",
            "                                                                                                  \n",
            " dense_2 (Dense)                (None, 5)            30          ['global_average_pooling1d_2[0][0\n",
            "                                                                 ]']                              \n",
            "                                                                                                  \n",
            "==================================================================================================\n",
            "Total params: 570\n",
            "Trainable params: 570\n",
            "Non-trainable params: 0\n",
            "__________________________________________________________________________________________________\n"
          ]
        }
      ]
    },
    {
      "cell_type": "markdown",
      "source": [
        "*   Dari output diatas, dapat dilihat bahwa model\n",
        "terdiri dari beberapa layer yaitu `layer_normalization`, `multi_head_attention`, `tf.__operators__.add`, `global_average_pooling1d`, dan `dense`.\n",
        "*   Layer yang ada pada arsitektur ini saling terhubung dengan hubungan yang sesuai pada kolom `Connected to`.\n",
        "*   Total parameter yang digunakan dalam model modifikasi ini adalah 570."
      ],
      "metadata": {
        "id": "DOuLNfZeY6Wk"
      }
    },
    {
      "cell_type": "code",
      "source": [
        "history1 = modified.fit(\n",
        "    x_train,\n",
        "    y_train,\n",
        "    validation_data=(x_val, y_val),\n",
        "    epochs=15,\n",
        "    batch_size=64,\n",
        ")"
      ],
      "metadata": {
        "colab": {
          "base_uri": "https://localhost:8080/"
        },
        "id": "3IXfYCljBTgx",
        "outputId": "42f15ba0-47dd-47b2-ff04-efc7b37b7b51"
      },
      "execution_count": null,
      "outputs": [
        {
          "output_type": "stream",
          "name": "stdout",
          "text": [
            "Epoch 1/15\n",
            "184/184 [==============================] - 11s 13ms/step - loss: 0.1416 - mae: 0.1416 - val_loss: 0.2129 - val_mae: 0.2129\n",
            "Epoch 2/15\n",
            "184/184 [==============================] - 2s 11ms/step - loss: 0.0424 - mae: 0.0424 - val_loss: 0.0457 - val_mae: 0.0457\n",
            "Epoch 3/15\n",
            "184/184 [==============================] - 3s 15ms/step - loss: 0.0091 - mae: 0.0091 - val_loss: 0.0233 - val_mae: 0.0233\n",
            "Epoch 4/15\n",
            "184/184 [==============================] - 2s 10ms/step - loss: 0.0080 - mae: 0.0080 - val_loss: 0.0235 - val_mae: 0.0235\n",
            "Epoch 5/15\n",
            "184/184 [==============================] - 2s 10ms/step - loss: 0.0079 - mae: 0.0079 - val_loss: 0.0230 - val_mae: 0.0230\n",
            "Epoch 6/15\n",
            "184/184 [==============================] - 4s 21ms/step - loss: 0.0078 - mae: 0.0078 - val_loss: 0.0230 - val_mae: 0.0230\n",
            "Epoch 7/15\n",
            "184/184 [==============================] - 4s 19ms/step - loss: 0.0077 - mae: 0.0077 - val_loss: 0.0229 - val_mae: 0.0229\n",
            "Epoch 8/15\n",
            "184/184 [==============================] - 2s 10ms/step - loss: 0.0076 - mae: 0.0076 - val_loss: 0.0228 - val_mae: 0.0228\n",
            "Epoch 9/15\n",
            "184/184 [==============================] - 2s 10ms/step - loss: 0.0076 - mae: 0.0076 - val_loss: 0.0228 - val_mae: 0.0228\n",
            "Epoch 10/15\n",
            "184/184 [==============================] - 2s 10ms/step - loss: 0.0077 - mae: 0.0077 - val_loss: 0.0228 - val_mae: 0.0228\n",
            "Epoch 11/15\n",
            "184/184 [==============================] - 2s 13ms/step - loss: 0.0077 - mae: 0.0077 - val_loss: 0.0226 - val_mae: 0.0226\n",
            "Epoch 12/15\n",
            "184/184 [==============================] - 2s 13ms/step - loss: 0.0076 - mae: 0.0076 - val_loss: 0.0225 - val_mae: 0.0225\n",
            "Epoch 13/15\n",
            "184/184 [==============================] - 3s 14ms/step - loss: 0.0075 - mae: 0.0075 - val_loss: 0.0225 - val_mae: 0.0225\n",
            "Epoch 14/15\n",
            "184/184 [==============================] - 2s 11ms/step - loss: 0.0074 - mae: 0.0074 - val_loss: 0.0236 - val_mae: 0.0236\n",
            "Epoch 15/15\n",
            "184/184 [==============================] - 2s 10ms/step - loss: 0.0075 - mae: 0.0075 - val_loss: 0.0222 - val_mae: 0.0222\n"
          ]
        }
      ]
    },
    {
      "cell_type": "markdown",
      "source": [
        "*   Dalam proses training, input data berupa\n",
        "`x_train` dan `y_train`. Selain itu,\n",
        "validation set juga digunakan sebagai validasi dari performa model tiap epoch.\n",
        "*   Model diuji (train) dengan 15 epoch (iterasi) dan batch size sebesar 64.\n",
        "*   Training loss dan validation loss berkurang secara bertahap dan konsisten.\n",
        "*   Nilai training loss berkisar antara 0.007 - 0.1. Sedangkan, untuk validation loss berkisar antara 0.02 - 0.04."
      ],
      "metadata": {
        "id": "XygAR9NUM6Ft"
      }
    },
    {
      "cell_type": "code",
      "source": [
        " # Get training and validation loss from history\n",
        "train_lossmodif = history1.history['loss']\n",
        "val_lossmodif = history1.history['val_loss']\n",
        "\n",
        "# Plot training and validation loss\n",
        "epochs = range(1, len(train_lossmodif) + 1)\n",
        "plt.plot(epochs, train_lossmodif, 'b', label='Training Loss')\n",
        "plt.plot(epochs, val_lossmodif, 'r', label='Validation Loss')\n",
        "plt.title('Training and Validation Loss on IBM Dataset')\n",
        "plt.xlabel('Epochs')\n",
        "plt.ylabel('Loss')\n",
        "plt.legend()\n",
        "plt.show()"
      ],
      "metadata": {
        "colab": {
          "base_uri": "https://localhost:8080/",
          "height": 472
        },
        "id": "gSeTX7rsp3aw",
        "outputId": "72463155-96e2-4c5f-9b77-8df2affa6eda"
      },
      "execution_count": null,
      "outputs": [
        {
          "output_type": "display_data",
          "data": {
            "text/plain": [
              "<Figure size 640x480 with 1 Axes>"
            ],
            "image/png": "[encoded data removed]"
          },
          "metadata": {}
        }
      ]
    },
    {
      "cell_type": "markdown",
      "source": [
        "*   Grafik training dan validation loss sangat tinggi di awal, tetapi mengalami penurunan yang dratis dan stabil saat model diuji. Ini menunjukkan hasil yang baik, karena nilai loss semakin rendah dan\n",
        "stabil.\n",
        "*   Hasil akhir dari pengujian model menunjukkan grafik training dan validation loss yang rendah\n",
        "dan stabil. Adanya penurunan yang sangat signifikan dari keduanya walaupun nilai loss nya tidak terlalu dekat antara training dan testing loss."
      ],
      "metadata": {
        "id": "uxsaHcudVAM8"
      }
    },
    {
      "cell_type": "markdown",
      "source": [
        "###**Modification for FB Dataset**"
      ],
      "metadata": {
        "id": "JbDMYUl0aWQI"
      }
    },
    {
      "cell_type": "code",
      "source": [
        "def transformerModify2(inputs, head, n_head, feedfoward, dropout=0):\n",
        "    # Embedding Layer\n",
        "    x = layers.LayerNormalization(epsilon=1e-6)(inputs)\n",
        "\n",
        "    # Attention Layer\n",
        "    x = layers.MultiHeadAttention(key_dim=head, num_heads=n_head, dropout=dropout)(x, x)\n",
        "    result = x + inputs\n",
        "    x = layers.Dropout(dropout)(x)\n",
        "\n",
        "    # Add & Norm\n",
        "    x = layers.LayerNormalization(epsilon=1e-6)(result)\n",
        "\n",
        "    # Feed Foward\n",
        "    x = layers.Conv1D(filters=feedfoward, kernel_size=1, activation = \"relu\")(x)\n",
        "    x = layers.Dropout(dropout)(x)\n",
        "\n",
        "    # Add & Norm\n",
        "    x = layers.LayerNormalization(epsilon=1e-6)(result)\n",
        "\n",
        "    return x + result"
      ],
      "metadata": {
        "id": "29HiRJ3E6T5U"
      },
      "execution_count": null,
      "outputs": []
    },
    {
      "cell_type": "markdown",
      "source": [
        "\n",
        "\n",
        "*   Modifikasi yang saya lakukan adalah menambahkan layer dropout pada lapisan feed foward dan attention layer. Saya menambahkan layer dropout untuk mencegah model yang overfitting.\n",
        "*   Model modifikasi untuk Facebook dataset menggunakan Transformer sesuai dengan gambar pada soal. Layer pertama terdiri dari Embedding Layer yang berisi normalisasi lapisan `inputs` menggunakan `LayerNormalization`.\n",
        "*   Layer kedua yaitu Attention Layer, dalam layer ini `MultiHeadAttention` merupakan komponen dari transformer yang menerima input `x`.\n",
        "*   Layer ketiga yaitu Add & Norm, pada layer ini Attention Layer (x) ditambahkan dengan input awal (inputs). Selanjutnya, dilakukan normalisasi data menggunakan `LayerNormalization`.\n",
        "*   Layer keempat yaitu Feed Foward, dilakukan operasi feed foward pada nilai `x` menggunakan layer 1 layer `Conv1D` dan fungsi aktivasi ReLU.\n",
        "*   Layer terakhir yaitu Add & Norm, layer ini menambahkan hasil feed foward dan hasil Add & Norm yang sebelumnya. Kemudian dilakukan normalisasi data kembali.\n",
        "*   Output dari fungsi `transformerModel` diatas adalah nilai `x + result` sebagai block transformers.\n",
        "\n",
        "\n",
        "\n"
      ],
      "metadata": {
        "id": "CgLF9ZdmWsee"
      }
    },
    {
      "cell_type": "code",
      "source": [
        "def modifymodel2(input_shape, head, n_head, feedfoward, transformer_blocks,):\n",
        "    inputs = keras.Input(shape=input_shape)\n",
        "    x = inputs\n",
        "\n",
        "    for _ in range(transformer_blocks):  # This is what stacks our transformer blocks\n",
        "        x = transformerModified(x, head, n_head, feedfoward)\n",
        "\n",
        "    x = layers.GlobalAveragePooling1D(data_format=\"channels_first\")(x)\n",
        "\n",
        "    outputs = layers.Dense(5, activation=\"linear\")(x) #this is a pass-through\n",
        "    return keras.Model(inputs, outputs)"
      ],
      "metadata": {
        "id": "mDqaRer_8fhs"
      },
      "execution_count": null,
      "outputs": []
    },
    {
      "cell_type": "markdown",
      "source": [
        "\n",
        "\n",
        "*   Selanjutnya, saya melakukan modifikasi menggunakan hyperparameter. Saya mengurangi jumlah head per block, demensi head, dan jumlah block transformer. Selain itu, saya juga menaikkan jumlah epoch dan batch size.\n",
        "*   Fungsi `modifymodel2` untuk implementasi model yang terdiri dari beberapa block Transformer. Fungsi ini dimulai dengan membuat layer input menggunakan `keras.Input(shape=input_shape)` yang akan digunakan untuk titik masuk data input.\n",
        "*   Selanjutnya, dilakukan iterasi ke seluruh block transformer. Output dari block transformer akan menjadi input untuk block selanjutnya.\n",
        "*   Setelah seluruh block transformer diproses, selanjutnya mengambil rata-rata global dari setiap saluran pada dimensi waktu menggunakan `GlobalAveragePooling1D`.\n",
        "*   Layer terakhir yaitu dense layer dengan 5 unit digunakan sebagai output layer yang menggunakan fungsi aktivasi linear. Layer ini akan menghasilkan output dari model.\n",
        "\n",
        "\n",
        "\n"
      ],
      "metadata": {
        "id": "cgMiJOH0X-_d"
      }
    },
    {
      "cell_type": "code",
      "source": [
        "input_shape2modif = x_train1.shape[1:]\n",
        "modifiedFB = modifymodel(input_shape2modif, head = 5, n_head = 5, feedfoward = 5, transformer_blocks = 3,)\n",
        "modifiedFB.compile(loss=\"mae\", optimizer='adam', metrics=[\"mae\"],)\n",
        "modifiedFB.summary()"
      ],
      "metadata": {
        "colab": {
          "base_uri": "https://localhost:8080/"
        },
        "id": "1qbkaUOu-_OR",
        "outputId": "190afa1a-bc6c-4d2c-ec5d-0da28800d396"
      },
      "execution_count": null,
      "outputs": [
        {
          "output_type": "stream",
          "name": "stdout",
          "text": [
            "Model: \"model_3\"\n",
            "__________________________________________________________________________________________________\n",
            " Layer (type)                   Output Shape         Param #     Connected to                     \n",
            "==================================================================================================\n",
            " input_4 (InputLayer)           [(None, 5, 1)]       0           []                               \n",
            "                                                                                                  \n",
            " layer_normalization_39 (LayerN  (None, 5, 1)        2           ['input_4[0][0]']                \n",
            " ormalization)                                                                                    \n",
            "                                                                                                  \n",
            " multi_head_attention_13 (Multi  (None, 5, 1)        176         ['layer_normalization_39[0][0]', \n",
            " HeadAttention)                                                   'layer_normalization_39[0][0]'] \n",
            "                                                                                                  \n",
            " tf.__operators__.add_26 (TFOpL  (None, 5, 1)        0           ['multi_head_attention_13[0][0]',\n",
            " ambda)                                                           'input_4[0][0]']                \n",
            "                                                                                                  \n",
            " layer_normalization_41 (LayerN  (None, 5, 1)        2           ['tf.__operators__.add_26[0][0]']\n",
            " ormalization)                                                                                    \n",
            "                                                                                                  \n",
            " tf.__operators__.add_27 (TFOpL  (None, 5, 1)        0           ['layer_normalization_41[0][0]', \n",
            " ambda)                                                           'tf.__operators__.add_26[0][0]']\n",
            "                                                                                                  \n",
            " layer_normalization_42 (LayerN  (None, 5, 1)        2           ['tf.__operators__.add_27[0][0]']\n",
            " ormalization)                                                                                    \n",
            "                                                                                                  \n",
            " multi_head_attention_14 (Multi  (None, 5, 1)        176         ['layer_normalization_42[0][0]', \n",
            " HeadAttention)                                                   'layer_normalization_42[0][0]'] \n",
            "                                                                                                  \n",
            " tf.__operators__.add_28 (TFOpL  (None, 5, 1)        0           ['multi_head_attention_14[0][0]',\n",
            " ambda)                                                           'tf.__operators__.add_27[0][0]']\n",
            "                                                                                                  \n",
            " layer_normalization_44 (LayerN  (None, 5, 1)        2           ['tf.__operators__.add_28[0][0]']\n",
            " ormalization)                                                                                    \n",
            "                                                                                                  \n",
            " tf.__operators__.add_29 (TFOpL  (None, 5, 1)        0           ['layer_normalization_44[0][0]', \n",
            " ambda)                                                           'tf.__operators__.add_28[0][0]']\n",
            "                                                                                                  \n",
            " layer_normalization_45 (LayerN  (None, 5, 1)        2           ['tf.__operators__.add_29[0][0]']\n",
            " ormalization)                                                                                    \n",
            "                                                                                                  \n",
            " multi_head_attention_15 (Multi  (None, 5, 1)        176         ['layer_normalization_45[0][0]', \n",
            " HeadAttention)                                                   'layer_normalization_45[0][0]'] \n",
            "                                                                                                  \n",
            " tf.__operators__.add_30 (TFOpL  (None, 5, 1)        0           ['multi_head_attention_15[0][0]',\n",
            " ambda)                                                           'tf.__operators__.add_29[0][0]']\n",
            "                                                                                                  \n",
            " layer_normalization_47 (LayerN  (None, 5, 1)        2           ['tf.__operators__.add_30[0][0]']\n",
            " ormalization)                                                                                    \n",
            "                                                                                                  \n",
            " tf.__operators__.add_31 (TFOpL  (None, 5, 1)        0           ['layer_normalization_47[0][0]', \n",
            " ambda)                                                           'tf.__operators__.add_30[0][0]']\n",
            "                                                                                                  \n",
            " global_average_pooling1d_3 (Gl  (None, 5)           0           ['tf.__operators__.add_31[0][0]']\n",
            " obalAveragePooling1D)                                                                            \n",
            "                                                                                                  \n",
            " dense_3 (Dense)                (None, 5)            30          ['global_average_pooling1d_3[0][0\n",
            "                                                                 ]']                              \n",
            "                                                                                                  \n",
            "==================================================================================================\n",
            "Total params: 570\n",
            "Trainable params: 570\n",
            "Non-trainable params: 0\n",
            "__________________________________________________________________________________________________\n"
          ]
        }
      ]
    },
    {
      "cell_type": "markdown",
      "source": [
        "*   Dari output diatas, dapat dilihat bahwa model\n",
        "terdiri dari beberapa layer yaitu `layer_normalization`, `multi_head_attention`, `tf.__operators__.add`, `global_average_pooling1d`, dan `dense`.\n",
        "*   Layer yang ada pada arsitektur ini saling terhubung dengan hubungan yang sesuai pada kolom `Connected to`.\n",
        "*   Total parameter yang digunakan dalam model modifikasi ini adalah 570."
      ],
      "metadata": {
        "id": "fZaOmvYuZCb4"
      }
    },
    {
      "cell_type": "code",
      "source": [
        "historyFBmodif = modifiedFB.fit(\n",
        "    x_train,\n",
        "    y_train,\n",
        "    validation_data=(x_val, y_val),\n",
        "    epochs=15,\n",
        "    batch_size=64,\n",
        ")"
      ],
      "metadata": {
        "colab": {
          "base_uri": "https://localhost:8080/"
        },
        "id": "YaPDxGqNCLGC",
        "outputId": "24b39245-63fe-40a9-985f-049043208c21"
      },
      "execution_count": null,
      "outputs": [
        {
          "output_type": "stream",
          "name": "stdout",
          "text": [
            "Epoch 1/15\n",
            "184/184 [==============================] - 11s 12ms/step - loss: 0.1629 - mae: 0.1629 - val_loss: 0.2743 - val_mae: 0.2743\n",
            "Epoch 2/15\n",
            "184/184 [==============================] - 2s 10ms/step - loss: 0.0692 - mae: 0.0692 - val_loss: 0.1455 - val_mae: 0.1455\n",
            "Epoch 3/15\n",
            "184/184 [==============================] - 2s 10ms/step - loss: 0.0372 - mae: 0.0372 - val_loss: 0.0613 - val_mae: 0.0613\n",
            "Epoch 4/15\n",
            "184/184 [==============================] - 2s 11ms/step - loss: 0.0112 - mae: 0.0112 - val_loss: 0.0221 - val_mae: 0.0221\n",
            "Epoch 5/15\n",
            "184/184 [==============================] - 3s 15ms/step - loss: 0.0072 - mae: 0.0072 - val_loss: 0.0221 - val_mae: 0.0221\n",
            "Epoch 6/15\n",
            "184/184 [==============================] - 2s 10ms/step - loss: 0.0075 - mae: 0.0075 - val_loss: 0.0221 - val_mae: 0.0221\n",
            "Epoch 7/15\n",
            "184/184 [==============================] - 2s 10ms/step - loss: 0.0072 - mae: 0.0072 - val_loss: 0.0218 - val_mae: 0.0218\n",
            "Epoch 8/15\n",
            "184/184 [==============================] - 2s 10ms/step - loss: 0.0074 - mae: 0.0074 - val_loss: 0.0217 - val_mae: 0.0217\n",
            "Epoch 9/15\n",
            "184/184 [==============================] - 2s 10ms/step - loss: 0.0072 - mae: 0.0072 - val_loss: 0.0219 - val_mae: 0.0219\n",
            "Epoch 10/15\n",
            "184/184 [==============================] - 2s 10ms/step - loss: 0.0072 - mae: 0.0072 - val_loss: 0.0216 - val_mae: 0.0216\n",
            "Epoch 11/15\n",
            "184/184 [==============================] - 2s 12ms/step - loss: 0.0072 - mae: 0.0072 - val_loss: 0.0218 - val_mae: 0.0218\n",
            "Epoch 12/15\n",
            "184/184 [==============================] - 3s 14ms/step - loss: 0.0072 - mae: 0.0072 - val_loss: 0.0217 - val_mae: 0.0217\n",
            "Epoch 13/15\n",
            "184/184 [==============================] - 2s 10ms/step - loss: 0.0072 - mae: 0.0072 - val_loss: 0.0217 - val_mae: 0.0217\n",
            "Epoch 14/15\n",
            "184/184 [==============================] - 2s 10ms/step - loss: 0.0072 - mae: 0.0072 - val_loss: 0.0214 - val_mae: 0.0214\n",
            "Epoch 15/15\n",
            "184/184 [==============================] - 2s 10ms/step - loss: 0.0070 - mae: 0.0070 - val_loss: 0.0214 - val_mae: 0.0214\n"
          ]
        }
      ]
    },
    {
      "cell_type": "markdown",
      "source": [
        "*   Dalam proses training, input data berupa\n",
        "`x_train` dan `y_train`. Selain itu,\n",
        "validation set juga digunakan sebagai validasi dari performa model tiap epoch.\n",
        "*   Model diuji (train) dengan 15 epoch (iterasi) dan batch size sebesar 64.\n",
        "*   Training loss dan validation loss berkurang secara bertahap dan konsisten.\n",
        "*   Nilai training loss berkisar antara 0.007 - 0.1. Sedangkan, untuk validation loss berkisar antara 0.02 - 0.1."
      ],
      "metadata": {
        "id": "UUlQ1RnEYoUR"
      }
    },
    {
      "cell_type": "code",
      "source": [
        " # Get training and validation loss from history\n",
        "train_loss1modif = historyFBmodif.history['loss']\n",
        "val_loss1modif = historyFBmodif.history['val_loss']\n",
        "\n",
        "# Plot training and validation loss\n",
        "epochs = range(1, len(train_loss) + 1)\n",
        "plt.plot(epochs, train_loss, 'b', label='Training Loss')\n",
        "plt.plot(epochs, val_loss, 'r', label='Validation Loss')\n",
        "plt.title('Training and Validation Loss on Facebook Dataset')\n",
        "plt.xlabel('Epochs')\n",
        "plt.ylabel('Loss')\n",
        "plt.legend()\n",
        "plt.show()"
      ],
      "metadata": {
        "colab": {
          "base_uri": "https://localhost:8080/",
          "height": 472
        },
        "id": "jtRek3nr8fe8",
        "outputId": "9c849c03-b1b1-472e-ab8d-3ff4fed010e4"
      },
      "execution_count": null,
      "outputs": [
        {
          "output_type": "display_data",
          "data": {
            "text/plain": [
              "<Figure size 640x480 with 1 Axes>"
            ],
            "image/png": "[encoded data removed]"
          },
          "metadata": {}
        }
      ]
    },
    {
      "cell_type": "markdown",
      "source": [
        "*   Grafik training loss sangat tinggi di awal, tetapi mengalami penurunan yang dratis saat model diuji. Ini menunjukkan hasil yang baik, karena nilai loss semakin rendah dan\n",
        "stabil.\n",
        "*   Grafik validation loss mengalami penurunan walaupun tidak telalu signifikan, tetapi penurunannya stabil. Ini menunjukkan hasil yang baik, karena nilai loss semakin rendah dan\n",
        "stabil.\n",
        "*   Hasil akhir dari pengujian model menunjukkan grafik training dan validation loss yang rendah\n",
        "dan stabil. Grafik menunjukkan penurunan dari keduanya walaupun ada selisih nilai antara training dan testing loss."
      ],
      "metadata": {
        "id": "thfcensFUcbi"
      }
    },
    {
      "cell_type": "markdown",
      "source": [
        "##**d. Evaluasi Kedua Arsitektur**"
      ],
      "metadata": {
        "id": "Aqook-XM5aI2"
      }
    },
    {
      "cell_type": "markdown",
      "source": [
        "###**Evaluation on IBM Dataset**"
      ],
      "metadata": {
        "id": "vwGdo6VlHFTL"
      }
    },
    {
      "cell_type": "code",
      "source": [
        "predictions = model.predict(x_test)\n",
        "\n",
        "rmse = np.sqrt(mean_squared_error(y_test, predictions))\n",
        "mae = mean_absolute_error(y_test, predictions)\n",
        "mape = mean_absolute_percentage_error(y_test, predictions)\n",
        "\n",
        "print('Baseline Model : ')\n",
        "print(\"RMSE:\", rmse)\n",
        "print(\"MAE:\", mae)\n",
        "print(\"MAPE:\", mape)"
      ],
      "metadata": {
        "id": "oyw7sFnfBiP7",
        "colab": {
          "base_uri": "https://localhost:8080/"
        },
        "outputId": "3f21a5e0-81a0-4828-c943-c4e574e57951"
      },
      "execution_count": null,
      "outputs": [
        {
          "output_type": "stream",
          "name": "stdout",
          "text": [
            "46/46 [==============================] - 0s 3ms/step\n",
            "Baseline Model : \n",
            "RMSE: 4.788282436286061\n",
            "MAE: 3.2903902846599307\n",
            "MAPE: 0.02261431340727339\n"
          ]
        }
      ]
    },
    {
      "cell_type": "markdown",
      "source": [
        "\n",
        "\n",
        "*   Evaluasi baseline model pertama untuk IBM dataset dilakukan dengan pengujian data testing.\n",
        "*   RMSE digunakan untuk menghitung rata-rata kesalahan prediksi harga saham (satuan sama\n",
        "dengan data aslinya / harga saham). MAE untuk mengukur rata-rata kesalahan absolut prediksi. Sedangkan, MAPE mengukur rata-rata persentase kesalahan prediksi (satuan\n",
        "persen).\n",
        "\n",
        "\n",
        "*  Dengan nilai RMSE 4.78, berarti model memiliki rata-rata kesalahan prediksi harga saham\n",
        "sebesar 4.78. Angka ini cukup baik mengingat dataset yang digunakan terdiri dari ribuan\n",
        "data.\n",
        "*  Dengan nilai MAE 3.29, berarti model memiliki rata-rata kesalahan absolut harga saham\n",
        "sebesar 3.29.\n",
        "*  Dengan nilai MAPE 0.02, berarti model memiliki rata-rata presentase kesalahan prediksi\n",
        "harga saham sebesar 2,2%.\n",
        "*  Output diatas menampilkan hasil dari nilai RMSE, MAE, dan MAPE yang sudah\n",
        "baik, ketiganya menunjukkan nilai yang mendekati angka 0. Semakin kecil angka RMSE,\n",
        "MAE, dan MAPE maka semakin kecil kesalahan prediksi yang dilakukan oleh model"
      ],
      "metadata": {
        "id": "89ZRI8xXZNno"
      }
    },
    {
      "cell_type": "code",
      "source": [
        "def preprocess_data(data, target_column, train_end_date, test_start_date, test_set, timesteps):\n",
        "    df = pd.concat((data[target_column][:train_end_date], data[target_column][test_start_date:]), axis=0)\n",
        "\n",
        "    # Normalize the input data\n",
        "    sc = MinMaxScaler(feature_range=(0, 1))\n",
        "    inputs = data[len(data) - len(test_set) - timesteps:].values\n",
        "    inputs = inputs.reshape(-1, 1)\n",
        "    inputs = sc.fit_transform(inputs)\n",
        "\n",
        "    # Prepare the input data for prediction\n",
        "    X_test = []\n",
        "    for i in range(timesteps, test_set.shape[0] + timesteps):\n",
        "        X_test.append(inputs[i - timesteps:i, 0])\n",
        "    X_test = np.array(X_test)\n",
        "    X_test = np.reshape(X_test, (X_test.shape[0], X_test.shape[1], 1))\n",
        "\n",
        "    return X_test, sc\n",
        "\n",
        "def predict_stock_price(model, X_test, sc):\n",
        "    # Perform prediction\n",
        "    predicted_stock_price = model.predict(X_test)\n",
        "    predicted_stock_price = sc.inverse_transform(predicted_stock_price)\n",
        "\n",
        "    return predicted_stock_price\n",
        "\n",
        "def plot(test, predicted, symbol):\n",
        "    plt.plot(test, color='red', label=f'Real {symbol} Stock Price')\n",
        "    plt.plot(predicted, color='blue')\n",
        "\n",
        "    plt.title(f'{symbol} Stock Price Prediction')\n",
        "    plt.xlabel('Index')\n",
        "    plt.ylabel(f'{symbol} Stock Price')\n",
        "\n",
        "    # Create a legend with unique labels\n",
        "    plt.legend(['Real Stock Price', 'Predicted Stock Price'])\n",
        "\n",
        "    plt.show()\n",
        "\n",
        "# Dates on IBM set\n",
        "test_start_date = \"1962-01-02\"\n",
        "target = \"Price\"\n",
        "train_end_date = \"2020-04-01\"\n",
        "original_stock = stockIBM\n",
        "\n",
        "X_test, sc = preprocess_data(original_stock, target, train_end_date, test_start_date, test_set, timesteps)\n",
        "predicted_stock_price = predict_stock_price(model, X_test, sc)\n",
        "plot(test_set, predicted_stock_price, 'IBM')"
      ],
      "metadata": {
        "colab": {
          "base_uri": "https://localhost:8080/",
          "height": 490
        },
        "id": "3hIJEnp5QhGB",
        "outputId": "1abeaabd-33d9-4c53-ec0f-1be7150795c9"
      },
      "execution_count": null,
      "outputs": [
        {
          "output_type": "stream",
          "name": "stdout",
          "text": [
            "46/46 [==============================] - 0s 3ms/step\n"
          ]
        },
        {
          "output_type": "display_data",
          "data": {
            "text/plain": [
              "<Figure size 640x480 with 1 Axes>"
            ],
            "image/png": "[encoded data removed]"
          },
          "metadata": {}
        }
      ]
    },
    {
      "cell_type": "markdown",
      "source": [
        "Output diatas menunjukkan grafik hasil prediksi dengan nilai asli data yang ada. Grafik menunjukkan hasil\n",
        "yang sangat baik, karena garis antar keduanya sama (berada di titik/garis yang sama). Hanya ada sedikit perbedaan garis di beberapa titik data."
      ],
      "metadata": {
        "id": "54gqRIwoai5H"
      }
    },
    {
      "cell_type": "code",
      "source": [
        "model_pred = model.predict(x_test)\n",
        "actual = np.argmax(x_test, axis=1)\n",
        "model_pred = np.argmax(model_pred, axis=1)\n",
        "\n",
        "print(\"Ground Truth:\", actual)\n",
        "print(\"Predicted Result:\",model_pred)"
      ],
      "metadata": {
        "colab": {
          "base_uri": "https://localhost:8080/"
        },
        "id": "t_a6W7QYLx20",
        "outputId": "be08e63f-1466-4891-8a9f-972cad73919b"
      },
      "execution_count": null,
      "outputs": [
        {
          "output_type": "stream",
          "name": "stdout",
          "text": [
            "46/46 [==============================] - 0s 3ms/step\n",
            "Ground Truth: [[4]\n",
            " [1]\n",
            " [4]\n",
            " ...\n",
            " [2]\n",
            " [4]\n",
            " [2]]\n",
            "Predicted Result: [3 2 2 ... 3 2 4]\n"
          ]
        }
      ]
    },
    {
      "cell_type": "markdown",
      "source": [
        "Output diatas merepresentasikan nilai asli dengan nilai prediksi menggunakan model."
      ],
      "metadata": {
        "id": "B1-eIVTca4_I"
      }
    },
    {
      "cell_type": "code",
      "source": [
        "predictions1 = modified.predict(x_test)\n",
        "\n",
        "rmse_modif = np.sqrt(mean_squared_error(y_test, predictions1))\n",
        "mae_modif = mean_absolute_error(y_test, predictions1)\n",
        "mape_nodif = mean_absolute_percentage_error(y_test, predictions1)\n",
        "\n",
        "print('Modified Model : ')\n",
        "print(\"RMSE:\", rmse_modif)\n",
        "print(\"MAE:\", mae_modif)\n",
        "print('MAPE:', mape_nodif)"
      ],
      "metadata": {
        "colab": {
          "base_uri": "https://localhost:8080/"
        },
        "id": "7jcLe-IIj6m_",
        "outputId": "4683a7b7-bc7e-4e3a-f770-a2246ed9802f"
      },
      "execution_count": null,
      "outputs": [
        {
          "output_type": "stream",
          "name": "stdout",
          "text": [
            "46/46 [==============================] - 0s 2ms/step\n",
            "Modified Model : \n",
            "RMSE: 4.474909056846214\n",
            "MAE: 3.1240264515817904\n",
            "MAPE: 0.02142479581013549\n"
          ]
        }
      ]
    },
    {
      "cell_type": "markdown",
      "source": [
        "*   Evaluasi model setelah dimodifikasi dan dilakukan uji menggunakan data testing. Evaluasi\n",
        "dilakukan dengan mengecek kembali nilai RMSE, MAE, dan MAPE.\n",
        "*   Dengan nilai RMSE 4.47, berarti adanya kenaikan dari nilai RMSE setelah model dimodifikasi.\n",
        "Nilai ini menunjukkan model memiliki rata-rata kesalahan prediksi harga saham yang semakin\n",
        "kecil, yaitu 4.47.\n",
        "* Nilai MAE 3.12, berarti berarti adanya kenaikan dari nilai MAE setelah model dimodifikasi.\n",
        "Nilai ini menunjukkan model memiliki rata-rata kesalahan absolut harga saham yang semakin\n",
        "kecil, yaitu 3.12.\n",
        "*  Dengan nilai MAPE 0.021, berarti berarti adanya kenaikan dari nilai MAPE setelah model\n",
        "dimodifikasi. Nilai ini menunjukkan model memiliki rata-rata presentase kesalahan prediksi\n",
        "harga saham yang semakin kecil, yaitu 2,1%.\n",
        "* Output diatas menampilkan hasil dari nilai RMSE, MAE, dan MAPE yang semakin kecil,\n",
        "berarti adanya peningkatan dari ketiga metriks evaluasi. Nilai dari model pertama dengan model yang sudah dimodifikasi menunjukkan adanya penurunan dari jumlah kesalahan\n",
        "prediksi yang dibuat model."
      ],
      "metadata": {
        "id": "ndLJ8UwKc8T1"
      }
    },
    {
      "cell_type": "code",
      "source": [
        "def preprocess_data(data, target_column, train_end_date, test_start_date, test_set, timesteps):\n",
        "    df = pd.concat((data[target_column][:train_end_date], data[target_column][test_start_date:]), axis=0)\n",
        "\n",
        "    # Normalize the input data\n",
        "    sc = MinMaxScaler(feature_range=(0, 1))\n",
        "    inputs = df[len(df) - len(test_set) - timesteps:].values\n",
        "    inputs = inputs.reshape(-1, 1)\n",
        "    inputs = sc.fit_transform(inputs)\n",
        "\n",
        "    # Prepare the input data for prediction\n",
        "    X_test = []\n",
        "    for i in range(timesteps, test_set.shape[0] + timesteps):\n",
        "        X_test.append(inputs[i - timesteps:i, 0])\n",
        "    X_test = np.array(X_test)\n",
        "    X_test = np.reshape(X_test, (X_test.shape[0], X_test.shape[1], 1))\n",
        "\n",
        "    return X_test, sc\n",
        "\n",
        "def predict_stock_price(model, X_test, sc):\n",
        "    # Perform prediction\n",
        "    predicted_stock_price = model.predict(X_test)\n",
        "    predicted_stock_price = sc.inverse_transform(predicted_stock_price)\n",
        "\n",
        "    return predicted_stock_price\n",
        "\n",
        "def plot(test, predicted, symbol):\n",
        "    plt.plot(test, color='red', label=f'Real {symbol} Stock Price')\n",
        "    plt.plot(predicted, color='blue')\n",
        "\n",
        "    plt.title(f'{symbol} Stock Price Prediction')\n",
        "    plt.xlabel('Index')\n",
        "    plt.ylabel(f'{symbol} Stock Price')\n",
        "\n",
        "    # Create a legend with unique labels\n",
        "    plt.legend(['Real Stock Price', 'Predicted Stock Price'])\n",
        "\n",
        "    plt.show()\n",
        "\n",
        "# Dates on IBM set\n",
        "test_start_date = \"1962-01-02\"\n",
        "target = \"Price\"\n",
        "train_end_date = \"2020-04-01\"\n",
        "original_stock = stockIBM\n",
        "\n",
        "X_test, sc = preprocess_data(original_stock, target, train_end_date, test_start_date, test_set, timesteps)\n",
        "predicted_stock_price = predict_stock_price(modified, X_test, sc)\n",
        "plot(test_set, predicted_stock_price, 'IBM')"
      ],
      "metadata": {
        "colab": {
          "base_uri": "https://localhost:8080/",
          "height": 490
        },
        "id": "YkpJzsBqFaiu",
        "outputId": "783e4076-0fa8-481c-c296-b64b3a115595"
      },
      "execution_count": null,
      "outputs": [
        {
          "output_type": "stream",
          "name": "stdout",
          "text": [
            "46/46 [==============================] - 0s 5ms/step\n"
          ]
        },
        {
          "output_type": "display_data",
          "data": {
            "text/plain": [
              "<Figure size 640x480 with 1 Axes>"
            ],
            "image/png": "[encoded data removed]"
          },
          "metadata": {}
        }
      ]
    },
    {
      "cell_type": "markdown",
      "source": [
        "Output diatas menunjukkan grafik hasil prediksi dengan nilai asli data yang ada. Grafik menunjukkan hasil\n",
        "yang sangat baik, karena garis antar keduanya sama (berada di titik/garis yang sama). Hanya ada sedikit perbedaan garis di beberapa titik data."
      ],
      "metadata": {
        "id": "PvERplkvUZJt"
      }
    },
    {
      "cell_type": "code",
      "source": [
        "model_predmodif = modified.predict(x_test)\n",
        "actualmodif = np.argmax(x_test, axis=1)\n",
        "model_pred = np.argmax(model_predmodif, axis=1)\n",
        "\n",
        "print(\"Ground Truth:\", actualmodif)\n",
        "print(\"Predicted Result:\",model_pred)"
      ],
      "metadata": {
        "colab": {
          "base_uri": "https://localhost:8080/"
        },
        "id": "lDbYO5mWFafx",
        "outputId": "bf01c7ee-08c7-4c2c-e9b0-e51211445f6e"
      },
      "execution_count": null,
      "outputs": [
        {
          "output_type": "stream",
          "name": "stdout",
          "text": [
            "46/46 [==============================] - 0s 2ms/step\n",
            "Ground Truth: [[4]\n",
            " [1]\n",
            " [4]\n",
            " ...\n",
            " [2]\n",
            " [4]\n",
            " [2]]\n",
            "Predicted Result: [0 4 0 ... 3 0 1]\n"
          ]
        }
      ]
    },
    {
      "cell_type": "markdown",
      "source": [
        "Output diatas merepresentasikan nilai asli dengan nilai prediksi menggunakan model."
      ],
      "metadata": {
        "id": "CyeDHtB3bAsl"
      }
    },
    {
      "cell_type": "markdown",
      "source": [
        "###**Evaluation on FB Dataset**"
      ],
      "metadata": {
        "id": "4_BK-KtjcS8Z"
      }
    },
    {
      "cell_type": "code",
      "source": [
        "predictionsFB = model2.predict(x_test1)\n",
        "\n",
        "rmseFB = np.sqrt(mean_squared_error(y_test1, predictionsFB))\n",
        "maeFB = mean_absolute_error(y_test1, predictionsFB)\n",
        "mapeFB = mean_absolute_percentage_error(y_test1, predictionsFB)\n",
        "\n",
        "print('Baseline Model : ')\n",
        "print(\"RMSE:\", rmseFB)\n",
        "print(\"MAE:\", maeFB)\n",
        "print(\"MAPE:\", mapeFB)"
      ],
      "metadata": {
        "colab": {
          "base_uri": "https://localhost:8080/"
        },
        "id": "puBfU-OdTilO",
        "outputId": "b7305db0-e745-4bc2-c8ed-baa389e85880"
      },
      "execution_count": null,
      "outputs": [
        {
          "output_type": "stream",
          "name": "stdout",
          "text": [
            "6/6 [==============================] - 0s 4ms/step\n",
            "Baseline Model : \n",
            "RMSE: 8.195358943407312\n",
            "MAE: 5.653048366970486\n",
            "MAPE: 0.030600596918593348\n"
          ]
        }
      ]
    },
    {
      "cell_type": "markdown",
      "source": [
        "\n",
        "\n",
        "*   Evaluasi baseline model pertama untuk Facebook dataset dilakukan dengan pengujian data testing.\n",
        "*   RMSE digunakan untuk menghitung rata-rata kesalahan prediksi harga saham (satuan sama\n",
        "dengan data aslinya / harga saham). MAE untuk mengukur rata-rata kesalahan absolut prediksi. Sedangkan, MAPE mengukur rata-rata persentase kesalahan prediksi (satuan\n",
        "persen).\n",
        "\n",
        "\n",
        "*  Dengan nilai RMSE 8.19, berarti model memiliki rata-rata kesalahan prediksi harga saham\n",
        "sebesar 8.19. Angka ini cukup baik mengingat dataset yang digunakan terdiri dari ribuan\n",
        "data.\n",
        "*  Dengan nilai MAE 5.65 berarti model memiliki rata-rata kesalahan absolut harga saham\n",
        "sebesar 5.65.\n",
        "*  Dengan nilai MAPE 0.03, berarti model memiliki rata-rata presentase kesalahan prediksi\n",
        "harga saham sebesar 3%.\n",
        "*  Output diatas menampilkan hasil dari nilai RMSE, MAE, dan MAPE yang sudah cukup\n",
        "baik, walaupun nilai RMSE tidak mendekati angka 0, tetapi nilai MAE dan MAPE sudah mendekati angka 0. Semakin kecil angka RMSE,\n",
        "MAE, dan MAPE maka semakin kecil kesalahan prediksi yang dilakukan oleh model"
      ],
      "metadata": {
        "id": "9LzO8SUKZzSH"
      }
    },
    {
      "cell_type": "code",
      "source": [
        "def preprocess_data(data, target_column, train_end_date, test_start_date, test_set, timesteps):\n",
        "    df = pd.concat((data[target_column][:train_end_date], data[target_column][test_start_date:]), axis=0)\n",
        "\n",
        "    # Normalize the input data\n",
        "    sc = MinMaxScaler(feature_range=(0, 1))\n",
        "    inputs = data[len(data) - len(test_set) - timesteps:].values\n",
        "    inputs = inputs.reshape(-1, 1)\n",
        "    inputs = sc.fit_transform(inputs)\n",
        "\n",
        "    # Prepare the input data for prediction\n",
        "    X_test = []\n",
        "    for i in range(timesteps, test_set.shape[0] + timesteps):\n",
        "        X_test.append(inputs[i - timesteps:i, 0])\n",
        "    X_test = np.array(X_test)\n",
        "    X_test = np.reshape(X_test, (X_test.shape[0], X_test.shape[1], 1))\n",
        "\n",
        "    return X_test, sc\n",
        "\n",
        "def predict_stock_price(model, X_test, sc):\n",
        "    # Perform prediction\n",
        "    predicted_stock_price = model.predict(X_test)\n",
        "    predicted_stock_price = sc.inverse_transform(predicted_stock_price)\n",
        "\n",
        "    return predicted_stock_price\n",
        "\n",
        "def plot(test, predicted, symbol):\n",
        "    plt.plot(test, label=f'Real {symbol} Stock Price')\n",
        "    plt.plot(predicted)\n",
        "\n",
        "    plt.title(f'{symbol} Stock Price Prediction')\n",
        "    plt.xlabel('Index')\n",
        "    plt.ylabel(f'{symbol} Stock Price')\n",
        "\n",
        "    # Create a legend with unique labels\n",
        "    plt.legend(['Real Stock Price', 'Predicted Stock Price'])\n",
        "\n",
        "    plt.show()\n",
        "\n",
        "# Dates on IBM set\n",
        "test_start_date = \"2012-05-18\"\n",
        "target = \"Price\"\n",
        "train_end_date = \"2020-04-01\"\n",
        "dataset = stockFB\n",
        "\n",
        "X_test, sc = preprocess_data(dataset, target, train_end_date, test_start_date, test_set, timesteps)\n",
        "predicted_stock_price = predict_stock_price(model2, X_test, sc)\n",
        "plot(test_set, predicted_stock_price, 'Facebook')"
      ],
      "metadata": {
        "colab": {
          "base_uri": "https://localhost:8080/",
          "height": 490
        },
        "id": "FvHzL9tRdqI9",
        "outputId": "5ed50921-04ff-4dc8-bb21-f974a0e6d47e"
      },
      "execution_count": null,
      "outputs": [
        {
          "output_type": "stream",
          "name": "stdout",
          "text": [
            "46/46 [==============================] - 0s 3ms/step\n"
          ]
        },
        {
          "output_type": "display_data",
          "data": {
            "text/plain": [
              "<Figure size 640x480 with 1 Axes>"
            ],
            "image/png": "[encoded data removed]"
          },
          "metadata": {}
        }
      ]
    },
    {
      "cell_type": "markdown",
      "source": [
        "Output diatas menunjukkan grafik hasil prediksi dengan nilai asli data yang ada. Grafik menunjukkan hasil\n",
        "yang kurang baik, karena garis antar keduanya cukup berbeda (tidak berada di titik/garis yang sama). Hanya ada sedikit garis yang sama di beberapa titik data. Hal ini karena model prediksi untuk FB dataset kurang tepat memprediksi dengan data aslinya."
      ],
      "metadata": {
        "id": "16VwfirjaO2d"
      }
    },
    {
      "cell_type": "code",
      "source": [
        "modelFB = model2.predict(x_test)\n",
        "actual2 = np.argmax(x_test, axis=1)\n",
        "model_pred = np.argmax(modelFB, axis=1)\n",
        "\n",
        "print(\"Ground Truth:\", actual2)\n",
        "print(\"Predicted Result:\",model_pred)"
      ],
      "metadata": {
        "colab": {
          "base_uri": "https://localhost:8080/"
        },
        "id": "9f9MXZ38ey2C",
        "outputId": "aa4fedc7-9391-4920-ff20-96b5c0249910"
      },
      "execution_count": null,
      "outputs": [
        {
          "output_type": "stream",
          "name": "stdout",
          "text": [
            "46/46 [==============================] - 0s 5ms/step\n",
            "Ground Truth: [[4]\n",
            " [1]\n",
            " [4]\n",
            " ...\n",
            " [2]\n",
            " [4]\n",
            " [2]]\n",
            "Predicted Result: [0 2 0 ... 4 4 2]\n"
          ]
        }
      ]
    },
    {
      "cell_type": "markdown",
      "source": [
        "Output diatas merepresentasikan nilai asli dengan nilai prediksi menggunakan model."
      ],
      "metadata": {
        "id": "No2FvgLfbCQP"
      }
    },
    {
      "cell_type": "code",
      "source": [
        "predictionsFBmodif = modifiedFB.predict(x_test1)\n",
        "\n",
        "rmseFBmodif = np.sqrt(mean_squared_error(y_test1, predictionsFBmodif))\n",
        "maeFBmodif = mean_absolute_error(y_test1, predictionsFBmodif)\n",
        "mapeFBmodif = mean_absolute_percentage_error(y_test1, predictionsFBmodif)\n",
        "\n",
        "print('Modified Model : ')\n",
        "print(\"RMSE:\", rmseFBmodif)\n",
        "print(\"MAE:\", maeFBmodif)\n",
        "print(\"MAPE:\", mapeFBmodif)"
      ],
      "metadata": {
        "colab": {
          "base_uri": "https://localhost:8080/"
        },
        "id": "3iJMTk04c0XZ",
        "outputId": "8b3e20ae-88d6-4ce0-dcd7-fa960ddcc35e"
      },
      "execution_count": null,
      "outputs": [
        {
          "output_type": "stream",
          "name": "stdout",
          "text": [
            "6/6 [==============================] - 0s 5ms/step\n",
            "Modified Model : \n",
            "RMSE: 7.621974268189457\n",
            "MAE: 5.390158097201554\n",
            "MAPE: 0.02900951134951244\n"
          ]
        }
      ]
    },
    {
      "cell_type": "markdown",
      "source": [
        "*   Evaluasi model setelah dimodifikasi dan dilakukan uji menggunakan data testing. Evaluasi\n",
        "dilakukan dengan mengecek kembali nilai RMSE, MAE, dan MAPE.\n",
        "*   Dengan nilai RMSE 7.62, berarti adanya kenaikan dari nilai RMSE setelah model dimodifikasi.\n",
        "Nilai ini menunjukkan model memiliki rata-rata kesalahan prediksi harga saham yang semakin\n",
        "kecil, yaitu 7.62.\n",
        "* Nilai MAE 5.39, berarti berarti adanya kenaikan dari nilai MAE setelah model dimodifikasi.\n",
        "Nilai ini menunjukkan model memiliki rata-rata kesalahan absolut harga saham yang semakin\n",
        "kecil, yaitu 5.39.\n",
        "*  Dengan nilai MAPE 0.029, berarti berarti adanya kenaikan dari nilai MAPE setelah model\n",
        "dimodifikasi. Nilai ini menunjukkan model memiliki rata-rata presentase kesalahan prediksi\n",
        "harga saham yang semakin kecil, yaitu 2,9%.\n",
        "* Output diatas menampilkan hasil dari nilai RMSE, MAE, dan MAPE yang semakin kecil,\n",
        "berarti adanya peningkatan dari ketiga metriks evaluasi. Nilai dari model pertama dengan model yang sudah dimodifikasi menunjukkan adanya penurunan dari jumlah kesalahan\n",
        "prediksi yang dibuat model."
      ],
      "metadata": {
        "id": "T0ih-5RIb7OP"
      }
    },
    {
      "cell_type": "code",
      "source": [
        "def preprocess_data(data, target_column, train_end_date, test_start_date, test_set, timesteps):\n",
        "    df = pd.concat((data[target_column][:train_end_date], data[target_column][test_start_date:]), axis=0)\n",
        "\n",
        "    # Normalize the input data\n",
        "    sc = MinMaxScaler(feature_range=(0, 1))\n",
        "    inputs = df[len(df) - len(test_set) - timesteps:].values\n",
        "    inputs = inputs.reshape(-1, 1)\n",
        "    inputs = sc.fit_transform(inputs)\n",
        "\n",
        "    # Prepare the input data for prediction\n",
        "    X_test = []\n",
        "    for i in range(timesteps, test_set.shape[0] + timesteps):\n",
        "        X_test.append(inputs[i - timesteps:i, 0])\n",
        "    X_test = np.array(X_test)\n",
        "    X_test = np.reshape(X_test, (X_test.shape[0], X_test.shape[1], 1))\n",
        "\n",
        "    return X_test, sc\n",
        "\n",
        "def predict_stock_price(model, X_test, sc):\n",
        "    # Perform prediction\n",
        "    predicted_stock_price = model.predict(X_test)\n",
        "    predicted_stock_price = sc.inverse_transform(predicted_stock_price)\n",
        "\n",
        "    return predicted_stock_price\n",
        "\n",
        "def plot(test, predicted, symbol):\n",
        "    plt.plot(test, label=f'Real {symbol} Stock Price')\n",
        "    plt.plot(predicted)\n",
        "\n",
        "    plt.title(f'{symbol} Stock Price Prediction')\n",
        "    plt.xlabel('Index')\n",
        "    plt.ylabel(f'{symbol} Stock Price')\n",
        "\n",
        "    # Create a legend with unique labels\n",
        "    plt.legend(['Real Stock Price', 'Predicted Stock Price'])\n",
        "\n",
        "    plt.show()\n",
        "\n",
        "# Dates on IBM set\n",
        "test_start_date = \"1962-01-02\"\n",
        "target = \"Price\"\n",
        "train_end_date = \"2020-04-01\"\n",
        "original_stock = stockFB\n",
        "\n",
        "X_test, sc = preprocess_data(original_stock, target, train_end_date, test_start_date, test_set, timesteps)\n",
        "predicted_stock_price = predict_stock_price(modifiedFB, X_test, sc)\n",
        "plot(test_set, predicted_stock_price, 'Facebook')"
      ],
      "metadata": {
        "colab": {
          "base_uri": "https://localhost:8080/",
          "height": 490
        },
        "id": "Z9qI3ekLfDTG",
        "outputId": "e3ce6e79-4b00-42da-a8f5-37f60a8ff75e"
      },
      "execution_count": null,
      "outputs": [
        {
          "output_type": "stream",
          "name": "stdout",
          "text": [
            "46/46 [==============================] - 0s 3ms/step\n"
          ]
        },
        {
          "output_type": "display_data",
          "data": {
            "text/plain": [
              "<Figure size 640x480 with 1 Axes>"
            ],
            "image/png": "[encoded data removed]"
          },
          "metadata": {}
        }
      ]
    },
    {
      "cell_type": "markdown",
      "source": [
        "Output diatas menunjukkan grafik hasil prediksi dengan nilai asli data yang ada. Grafik menunjukkan hasil\n",
        "yang kurang baik, karena garis antar keduanya cukup berbeda (tidak berada di titik/garis yang sama). Namun, ada peningkatan dari grafik sebelumnya setelah dilakukan tuning. Garis yang berdekatan atau berada di garis yang sama meningkat. Ini berarti model mempelajari pola lebih baik untuk membuat data prediksi dengan data aslinya."
      ],
      "metadata": {
        "id": "xW7E_m9hdu0k"
      }
    },
    {
      "cell_type": "code",
      "source": [
        "modif_FB = modifiedFB.predict(x_test)\n",
        "actualFB = np.argmax(x_test, axis=1)\n",
        "model_pred2 = np.argmax(modif_FB, axis=1)\n",
        "\n",
        "print(\"Ground Truth:\", actualFB)\n",
        "print(\"Predicted Result:\", model_pred2)"
      ],
      "metadata": {
        "colab": {
          "base_uri": "https://localhost:8080/"
        },
        "id": "YZNKDtslfKY2",
        "outputId": "33f060f9-6999-4c67-b7f8-5cbfbff33221"
      },
      "execution_count": null,
      "outputs": [
        {
          "output_type": "stream",
          "name": "stdout",
          "text": [
            "46/46 [==============================] - 0s 4ms/step\n",
            "Ground Truth: [[4]\n",
            " [1]\n",
            " [4]\n",
            " ...\n",
            " [2]\n",
            " [4]\n",
            " [2]]\n",
            "Predicted Result: [3 0 3 ... 4 3 4]\n"
          ]
        }
      ]
    },
    {
      "cell_type": "markdown",
      "source": [
        "Output diatas merepresentasikan nilai asli dengan nilai prediksi menggunakan model."
      ],
      "metadata": {
        "id": "ZOnMmmd1bD3h"
      }
    },
    {
      "cell_type": "markdown",
      "source": [
        "##**e. Video Presentasi**"
      ],
      "metadata": {
        "id": "c07HyZJJeGzn"
      }
    },
    {
      "cell_type": "markdown",
      "source": [
        "Link Video : https://youtu.be/LUsxBuxWppk"
      ],
      "metadata": {
        "id": "7n5hYBvVkEkP"
      }
    }
  ],
  "metadata": {
    "colab": {
      "provenance": [],
      "gpuType": "T4",
      "collapsed_sections": [
        "ju5yu-Hf_ltx",
        "quFqKd7aCcFn",
        "WWEj4c0b7lQA",
        "ekeVwM86hdpS",
        "OHO3G3hygjzy",
        "ya_fS5syrS7S",
        "po2CfN5SN_gD",
        "jd_teyS67peR",
        "vXCb4vIahRuR",
        "e3n8ce6yoMb0",
        "eBynsV5-aRgl",
        "JbDMYUl0aWQI",
        "vwGdo6VlHFTL"
      ]
    },
    "kernelspec": {
      "display_name": "Python 3",
      "name": "python3"
    },
    "language_info": {
      "name": "python"
    },
    "accelerator": "GPU"
  },
  "nbformat": 4,
  "nbformat_minor": 0
}